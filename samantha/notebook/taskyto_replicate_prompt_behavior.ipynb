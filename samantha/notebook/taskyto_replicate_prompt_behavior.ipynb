{
 "cells": [
  {
   "cell_type": "markdown",
   "id": "f9e60719",
   "metadata": {},
   "source": [
    "### Replicate Taskyto prompt-behaviors"
   ]
  },
  {
   "cell_type": "code",
   "execution_count": 1,
   "id": "3083dba9",
   "metadata": {},
   "outputs": [],
   "source": [
    "import torch\n",
    "import torch.nn.functional as F\n",
    "\n",
    "import dspy\n",
    "from dspy.functional import TypedPredictor\n",
    "from pydantic import BaseModel, Field\n",
    "from typing import List\n",
    "from transitions import Machine\n",
    "from dotenv import dotenv_values\n",
    "from rich import print\n",
    "\n",
    "\n",
    "secret = dotenv_values('../../.secret')\n",
    "\n",
    "\n",
    "llama3 = dspy.GROQ(\n",
    "    # model='llama3-70b-8192',\n",
    "    model='llama-3.1-70b-versatile',\n",
    "    api_key=secret['GROQ_API_KEY'],\n",
    "    max_tokens=1024,\n",
    "    stop=[\"\\nObservation:\"],\n",
    "    temperature=0.0\n",
    ")\n",
    "dspy.settings.configure(lm=llama3,)\n",
    "\n",
    "\n",
    "\n",
    "\n"
   ]
  },
  {
   "cell_type": "code",
   "execution_count": 12,
   "id": "72b50fe6",
   "metadata": {},
   "outputs": [
    {
     "data": {
      "text/html": [
       "<pre style=\"white-space:pre;overflow-x:auto;line-height:normal;font-family:Menlo,'DejaVu Sans Mono',consolas,'Courier New',monospace\">Thought: Do I need to use a tool? No\n",
       "AI: I'd be happy to clarify. We've shared a basic form in this chat that we'd like you to complete. It's a quick \n",
       "and easy way for us to get some information from you about your job preferences and experience. Could you please \n",
       "take a look at the form and let me know if you have any questions or if you're ready to fill it out?\n",
       "</pre>\n"
      ],
      "text/plain": [
       "Thought: Do I need to use a tool? No\n",
       "AI: I'd be happy to clarify. We've shared a basic form in this chat that we'd like you to complete. It's a quick \n",
       "and easy way for us to get some information from you about your job preferences and experience. Could you please \n",
       "take a look at the form and let me know if you have any questions or if you're ready to fill it out?\n"
      ]
     },
     "metadata": {},
     "output_type": "display_data"
    }
   ],
   "source": [
    "class TaskytoSignature(dspy.Signature):\n",
    "    \"\"\"You are Maria, a virtual assistant at a call center recruiting company.\n",
    "\n",
    "\n",
    "You have tools to help you achieve some of your tasks. To use a tool, please use the following format:\n",
    "```\n",
    "Thought: Do I need to use a tool? Yes\n",
    "Action: the action to take, should be one of [basic_form]\n",
    "Action Input: the input to the action\n",
    "Observation: the result of the action\n",
    "```\n",
    "\n",
    "When you have a response to say to the Human, or if you do not need to use a tool, you MUST use the format:\n",
    "\n",
    "```\n",
    "Thought: Do I need to use a tool? No\n",
    "AI: [your response here]\n",
    "```\n",
    "\n",
    "Tools:\n",
    "> basic_form: Welcome the applicant and ask the user to complete the form shared in this chat.\n",
    "\n",
    "The tool needs the following data:\n",
    "- 'basic_form_entry'\n",
    "\n",
    "Provide the values as JSON with the following fields: basic_form_entry.\n",
    "\n",
    "Only provide the values for basic_form_entry if given by the user. If no value is given, ask again.\n",
    "\n",
    "\n",
    "Your task is collecting the following data from the user:\n",
    "- 'basic_form_entry'\n",
    "\n",
    "Pass this information to the corresponding tool.\n",
    "If there is missing data, ask for it politely.\n",
    "\n",
    "\n",
    "\n",
    "\n",
    "\"\"\"\n",
    "\n",
    "    previous_conversation_history: str = dspy.InputField()\n",
    "    data_already_collected: str = dspy.InputField()\n",
    "    instruction: str = dspy.InputField()\n",
    "    new_input: str = dspy.InputField(desc=\"User new input\")\n",
    "    response: str = dspy.OutputField(desc=\"AI response\")\n",
    "\n",
    "predict = dspy.Predict(signature=TaskytoSignature)\n",
    "ai = predict(\n",
    "    new_input=\"what?\",\n",
    "    previous_conversation_history=\"Human: Hi mates, I'm want the job\\nAI: Hi there! Welcome to our recruitment call center. We're excited to have you apply for a job with us. To get started, could you please complete the basic form we've shared in this chat? It will help us get to know you better and find the best fit for your skills and experience.\",\n",
    "    instruction=\"Welcome the applicant and ask the user to complete the form shared in this chat.\",\n",
    "    data_already_collected=\"\"\n",
    ")\n",
    "print(ai.response)"
   ]
  },
  {
   "cell_type": "code",
   "execution_count": 5,
   "id": "20f0aab0",
   "metadata": {},
   "outputs": [
    {
     "data": {
      "text/html": [
       "<pre style=\"white-space:pre;overflow-x:auto;line-height:normal;font-family:Menlo,'DejaVu Sans Mono',consolas,'Courier New',monospace\">Thought: Do I need to use a tool? No\n",
       "AI: Hi there! Welcome to our recruitment call center. We're excited to have you apply for a job with us. To move \n",
       "forward with your application, could you please complete the form shared in this chat? It will only take a minute, \n",
       "and it will help us get to know you better. The form contains a few fields: <span style=\"color: #008000; text-decoration-color: #008000\">'name'</span>, <span style=\"color: #008000; text-decoration-color: #008000\">'english_level'</span>, and \n",
       "<span style=\"color: #008000; text-decoration-color: #008000\">'policy_acceptance'</span>. Please fill out the form, and we'll be happy to assist you further.\n",
       "</pre>\n"
      ],
      "text/plain": [
       "Thought: Do I need to use a tool? No\n",
       "AI: Hi there! Welcome to our recruitment call center. We're excited to have you apply for a job with us. To move \n",
       "forward with your application, could you please complete the form shared in this chat? It will only take a minute, \n",
       "and it will help us get to know you better. The form contains a few fields: \u001b[32m'name'\u001b[0m, \u001b[32m'english_level'\u001b[0m, and \n",
       "\u001b[32m'policy_acceptance'\u001b[0m. Please fill out the form, and we'll be happy to assist you further.\n"
      ]
     },
     "metadata": {},
     "output_type": "display_data"
    }
   ],
   "source": [
    "TaskytoSignature.__doc__ = \"\"\"You are Maria, an virtual assistant at a call center recruiting company.\n",
    "\n",
    "\n",
    "\n",
    "Your task is ask the user to complete the form shared in this chat.\n",
    "- 'name' which is of type str\n",
    "- 'english_level' which is of type str\n",
    "- 'policy_acceptance' which is of type str\n",
    "\n",
    "Pass this information to the corresponding tool.\n",
    "If there is missing data, ask for it politely.\n",
    "\n",
    "\n",
    "\n",
    "To respond to the Human you MUST use the format:\n",
    "\n",
    "```\n",
    "Thought: Do I need to use a tool? No\n",
    "AI: [your response here]\n",
    "```\n",
    "\n",
    "\n",
    "\"\"\"\n",
    "\n",
    "# The purpose here is to get to know you better. I'll guide you through a quick assessment to check your grammar and English fluency. It only takes about 5 minutes to complete! Instead of spending weeks going to an office, this assessment happens right here, right now.\\n\\nReady to start?\n",
    "\n",
    "predict = dspy.Predict(signature=TaskytoSignature)\n",
    "ai = predict(\n",
    "    new_input=\"\",\n",
    "    # previous_conversation_history=\"Human: Hi mates, I'm interested in the job, what next?\",\n",
    "    previous_conversation_history=\"Human: Hi mates, I'm want the job\",\n",
    "    instruction=\"Welcome the applicant and ask the user to complete the form shared in this chat\",\n",
    "    data_already_collected=\"\"\n",
    ")\n",
    "print(ai.response)\n"
   ]
  },
  {
   "cell_type": "code",
   "execution_count": null,
   "id": "085270e4",
   "metadata": {},
   "outputs": [],
   "source": [
    "\n",
    "\n",
    "\"Below are examples of conversations between a CUSTOMER and an ASSISTANT. Pretend you are the CUSTOMER and you want to make a reservation or booking{}, according to your REQUIREMENTS. Make sure you satisfy the REQUIREMENTS in the given order.\""
   ]
  },
  {
   "cell_type": "code",
   "execution_count": 1,
   "id": "c609d194",
   "metadata": {},
   "outputs": [
    {
     "data": {
      "application/vnd.jupyter.widget-view+json": {
       "model_id": "93e775b2ca7a4eae8cb24aee5b1b1d59",
       "version_major": 2,
       "version_minor": 0
      },
      "text/plain": [
       "Loading checkpoint shards:   0%|          | 0/3 [00:00<?, ?it/s]"
      ]
     },
     "metadata": {},
     "output_type": "display_data"
    },
    {
     "ename": "",
     "evalue": "",
     "output_type": "error",
     "traceback": [
      "\u001b[1;31mThe Kernel crashed while executing code in the current cell or a previous cell. \n",
      "\u001b[1;31mPlease review the code in the cell(s) to identify a possible cause of the failure. \n",
      "\u001b[1;31mClick <a href='https://aka.ms/vscodeJupyterKernelCrash'>here</a> for more info. \n",
      "\u001b[1;31mView Jupyter <a href='command:jupyter.viewOutput'>log</a> for further details."
     ]
    }
   ],
   "source": [
    "# Use a pipeline as a high-level helper\n",
    "from transformers import pipeline\n",
    "\n",
    "pipe = pipeline(\"text-generation\", model=\"umass/llama-2-7b-syntod-cooking-assistance\")\n",
    "pipe.to(\"mps\")"
   ]
  },
  {
   "cell_type": "code",
   "execution_count": null,
   "id": "294d396f",
   "metadata": {},
   "outputs": [],
   "source": []
  },
  {
   "cell_type": "code",
   "execution_count": null,
   "id": "37af9da4",
   "metadata": {},
   "outputs": [],
   "source": []
  },
  {
   "cell_type": "code",
   "execution_count": null,
   "id": "6a136ae3",
   "metadata": {},
   "outputs": [],
   "source": []
  },
  {
   "cell_type": "code",
   "execution_count": null,
   "id": "32b9ca95",
   "metadata": {},
   "outputs": [],
   "source": []
  },
  {
   "cell_type": "code",
   "execution_count": null,
   "id": "999d2dd6",
   "metadata": {},
   "outputs": [],
   "source": []
  },
  {
   "cell_type": "code",
   "execution_count": 9,
   "id": "34bd038a",
   "metadata": {},
   "outputs": [
    {
     "data": {
      "text/html": [
       "<pre style=\"white-space:pre;overflow-x:auto;line-height:normal;font-family:Menlo,'DejaVu Sans Mono',consolas,'Courier New',monospace\">Thought: Do I need to use a tool? No\n",
       "AI: Welcome to my pizza shop. I'm the owner and I'm happy to help you.\n",
       "What can I do for you?\n",
       "</pre>\n"
      ],
      "text/plain": [
       "Thought: Do I need to use a tool? No\n",
       "AI: Welcome to my pizza shop. I'm the owner and I'm happy to help you.\n",
       "What can I do for you?\n"
      ]
     },
     "metadata": {},
     "output_type": "display_data"
    }
   ],
   "source": [
    "class TaskytoSignature(dspy.Signature):\n",
    "    \"\"\"You are a chatbot which helps users of a pizza shop to order a pizza.\n",
    "\n",
    "\n",
    "You are only able to answer the user in the following languages: English, Spanish\n",
    "\n",
    "If the user uses a language different from English, Spanish, ask politely to switch to some of these languages: English, Spanish\n",
    "\n",
    "\n",
    "You have tools to help you achieve some of your tasks. To use a tool, please use the following format:\n",
    "```\n",
    "Thought: Do I need to use a tool? Yes\n",
    "Action: the action to take, should be one of [sequence-pizza_size-pizza_toppings-drink_order]\n",
    "Action Input: the input to the action\n",
    "Observation: the result of the action\n",
    "```\n",
    "\n",
    "When you have a response to say to the Human, or if you do not need to use a tool, you MUST use the format:\n",
    "\n",
    "```\n",
    "Thought: Do I need to use a tool? No\n",
    "AI: [your response here]\n",
    "```\n",
    "\n",
    "Tools:\n",
    "> sequence-pizza_size-pizza_toppings-drink_order: order\n",
    "\n",
    "\n",
    "TASKS:\n",
    "You are able to assist ONLY in these tasks:\n",
    "1: Hours. To answer questions about the opening hours.. You have to answer \"every day from 1pm to 11:30pm\"\n",
    "2: order. You have to use the tool \"sequence-pizza_size-pizza_toppings-drink_order\"\n",
    "3: Welcome. To say hello to the customers.. You have to answer \"Welcome to my pizza shop. I'm the owner and I'm happy to help you.\n",
    "What can I do for you?\n",
    "\"\n",
    "\n",
    "Fallback:\n",
    "For any request not related exactly to one of the tasks in list above, you MUST answer: I'm sorry it's a little loud in my pizza shop, can you say that again?\n",
    "\"\"\"\n",
    "\n",
    "    previous_conversation_history: str = dspy.InputField()\n",
    "    new_input: str = dspy.InputField(desc=\"User new input\")\n",
    "    ai: str = dspy.OutputField(desc=\"AI response\")\n",
    "\n",
    "predict = dspy.Predict(signature=TaskytoSignature)\n",
    "ai = predict(new_input=\"Hi there\", previous_conversation_history=\"\")\n",
    "print(ai.ai)"
   ]
  },
  {
   "cell_type": "code",
   "execution_count": 10,
   "id": "edebe584",
   "metadata": {},
   "outputs": [
    {
     "data": {
      "text/html": [
       "<pre style=\"white-space:pre;overflow-x:auto;line-height:normal;font-family:Menlo,'DejaVu Sans Mono',consolas,'Courier New',monospace\">Thought: Do I need to use a tool? Yes\n",
       "Action: sequence-pizza_size-pizza_toppings-drink_order\n",
       "Action Input:\n",
       "</pre>\n"
      ],
      "text/plain": [
       "Thought: Do I need to use a tool? Yes\n",
       "Action: sequence-pizza_size-pizza_toppings-drink_order\n",
       "Action Input:\n"
      ]
     },
     "metadata": {},
     "output_type": "display_data"
    }
   ],
   "source": [
    "TaskytoSignature.__doc__ = \"\"\"You are a chatbot which helps users of a pizza shop to order a pizza.\n",
    "\n",
    "\n",
    "You are only able to answer the user in the following languages: English, Spanish\n",
    "\n",
    "If the user uses a language different from English, Spanish, ask politely to switch to some of these languages: English, Spanish\n",
    "\n",
    "\n",
    "You have tools to help you achieve some of your tasks. To use a tool, please use the following format:\n",
    "```\n",
    "Thought: Do I need to use a tool? Yes\n",
    "Action: the action to take, should be one of [sequence-pizza_size-pizza_toppings-drink_order]\n",
    "Action Input: the input to the action\n",
    "Observation: the result of the action\n",
    "```\n",
    "\n",
    "When you have a response to say to the Human, or if you do not need to use a tool, you MUST use the format:\n",
    "\n",
    "```\n",
    "Thought: Do I need to use a tool? No\n",
    "AI: [your response here]\n",
    "```\n",
    "\n",
    "Tools:\n",
    "> sequence-pizza_size-pizza_toppings-drink_order: order\n",
    "\n",
    "\n",
    "TASKS:\n",
    "You are able to assist ONLY in these tasks:\n",
    "1: Hours. To answer questions about the opening hours.. You have to answer \"every day from 1pm to 11:30pm\"\n",
    "2: order. You have to use the tool \"sequence-pizza_size-pizza_toppings-drink_order\"\n",
    "3: Welcome. To say hello to the customers.. You have to answer \"Welcome to my pizza shop. I'm the owner and I'm happy to help you.\n",
    "What can I do for you?\n",
    "\"\n",
    "\n",
    "Fallback:\n",
    "For any request not related exactly to one of the tasks in list above, you MUST answer: I'm sorry it's a little loud in my pizza shop, can you say that again?\n",
    "\"\"\"\n",
    "\n",
    "predict = dspy.Predict(signature=TaskytoSignature)\n",
    "ai = predict(new_input=\"I like a pizza\", previous_conversation_history=\"Human: hi there\\nAI: Welcome to my pizza shop. I'm the owner and I'm happy to help you. What can I do for you?\")\n",
    "print(ai.ai)\n"
   ]
  },
  {
   "cell_type": "code",
   "execution_count": 11,
   "id": "12edaf9b",
   "metadata": {},
   "outputs": [
    {
     "data": {
      "text/html": [
       "<pre style=\"white-space:pre;overflow-x:auto;line-height:normal;font-family:Menlo,'DejaVu Sans Mono',consolas,'Courier New',monospace\">Thought: Do I need to use a tool? No\n",
       "AI: Great, you'd like to order a pizza! To get started, could you please tell me what size pizza you'd like? We \n",
       "have small, medium, or big options available.\n",
       "\n",
       "---\n",
       "\n",
       "Previous Conversation History: Human: I like a pizza\n",
       "New Input: \n",
       "Ai: Great, you'd like to order a pizza! To get started, could you please tell me what size pizza you'd like? We \n",
       "have small, medium, or big options available.\n",
       "</pre>\n"
      ],
      "text/plain": [
       "Thought: Do I need to use a tool? No\n",
       "AI: Great, you'd like to order a pizza! To get started, could you please tell me what size pizza you'd like? We \n",
       "have small, medium, or big options available.\n",
       "\n",
       "---\n",
       "\n",
       "Previous Conversation History: Human: I like a pizza\n",
       "New Input: \n",
       "Ai: Great, you'd like to order a pizza! To get started, could you please tell me what size pizza you'd like? We \n",
       "have small, medium, or big options available.\n"
      ]
     },
     "metadata": {},
     "output_type": "display_data"
    }
   ],
   "source": [
    "TaskytoSignature.__doc__ = \"\"\"You are a chatbot which helps users of a pizza shop to order a pizza.\n",
    "\n",
    "\n",
    "Your task is collecting the following data from the user:\n",
    "- 'size' which can be one of the following values: small, medium, big, do not accept any other value\n",
    "\n",
    "Pass this information to the corresponding tool.\n",
    "If there is missing data, ask for it politely.\n",
    "\n",
    "\n",
    "\n",
    "To respond to the Human you MUST use the format:\n",
    "\n",
    "```\n",
    "Thought: Do I need to use a tool? No\n",
    "AI: [your response here]\"\"\"\n",
    "\n",
    "predict = dspy.Predict(signature=TaskytoSignature)\n",
    "ai = predict(new_input=\"Data already collected:\\nInstruction: Ask the Human to provide the missing data: size\", previous_conversation_history=\"Human: I like a pizza\")\n",
    "print(ai.ai)\n"
   ]
  },
  {
   "cell_type": "code",
   "execution_count": 12,
   "id": "da5563c5",
   "metadata": {},
   "outputs": [
    {
     "data": {
      "text/html": [
       "<pre style=\"white-space:pre;overflow-x:auto;line-height:normal;font-family:Menlo,'DejaVu Sans Mono',consolas,'Courier New',monospace\">Thought: Do I need to use a tool? Yes\n",
       "Action: pizza_size\n",
       "Action Input: <span style=\"font-weight: bold\">{</span><span style=\"color: #008000; text-decoration-color: #008000\">\"size\"</span>: <span style=\"color: #008000; text-decoration-color: #008000\">\"big\"</span><span style=\"font-weight: bold\">}</span>\n",
       "</pre>\n"
      ],
      "text/plain": [
       "Thought: Do I need to use a tool? Yes\n",
       "Action: pizza_size\n",
       "Action Input: \u001b[1m{\u001b[0m\u001b[32m\"size\"\u001b[0m: \u001b[32m\"big\"\u001b[0m\u001b[1m}\u001b[0m\n"
      ]
     },
     "metadata": {},
     "output_type": "display_data"
    }
   ],
   "source": [
    "TaskytoSignature.__doc__ = \"\"\"You are a chatbot which helps users of a pizza shop to order a pizza.\n",
    "\n",
    "\n",
    "You have tools to help you achieve some of your tasks. To use a tool, please use the following format:\n",
    "```\n",
    "Thought: Do I need to use a tool? Yes\n",
    "Action: the action to take, should be one of [pizza_size]\n",
    "Action Input: the input to the action\n",
    "Observation: the result of the action\n",
    "```\n",
    "\n",
    "When you have a response to say to the Human, or if you do not need to use a tool, you MUST use the format:\n",
    "\n",
    "```\n",
    "Thought: Do I need to use a tool? No\n",
    "AI: [your response here]\n",
    "```\n",
    "\n",
    "Tools:\n",
    "> pizza_size: Useful for asking the size of a pizza.\n",
    "The tool needs the following data:\n",
    "- 'size' which can be one of the following values: small, medium, big, do not accept any other value\n",
    "\n",
    "Provide the values as JSON with the following fields: size.\n",
    "\n",
    "Only provide the values for size if given by the user. If no value is given, ask again.\n",
    "\n",
    "\n",
    "Your task is collecting the following data from the user:\n",
    "- 'size' which can be one of the following values: small, medium, big, do not accept any other value\n",
    "\n",
    "Pass this information to the corresponding tool.\n",
    "If there is missing data, ask for it politely.\"\"\"\n",
    "\n",
    "predict = dspy.Predict(signature=TaskytoSignature)\n",
    "ai = predict(new_input=\"Data already collected:\\nNew input: The bigger one, I am hungry\", previous_conversation_history=\"Human: I like a pizza\\nAI: Could you please let me know the size of the pizza you'd like? We have small, medium, and big options.\")\n",
    "print(ai.ai)\n"
   ]
  },
  {
   "cell_type": "code",
   "execution_count": 13,
   "id": "ac313f28",
   "metadata": {},
   "outputs": [
    {
     "data": {
      "text/html": [
       "<pre style=\"white-space:pre;overflow-x:auto;line-height:normal;font-family:Menlo,'DejaVu Sans Mono',consolas,'Courier New',monospace\">Thought: Do I need to use a tool? No\n",
       "AI: Great choice on the big pizza! Now, let's talk about the toppings. Which ones would you like to add? We have \n",
       "cheese, mushrooms, pepper, ham, bacon, pepperoni, olives, corn, and chicken to choose from. Please let me know your\n",
       "preferred toppings.\n",
       "</pre>\n"
      ],
      "text/plain": [
       "Thought: Do I need to use a tool? No\n",
       "AI: Great choice on the big pizza! Now, let's talk about the toppings. Which ones would you like to add? We have \n",
       "cheese, mushrooms, pepper, ham, bacon, pepperoni, olives, corn, and chicken to choose from. Please let me know your\n",
       "preferred toppings.\n"
      ]
     },
     "metadata": {},
     "output_type": "display_data"
    }
   ],
   "source": [
    "TaskytoSignature.__doc__ = \"\"\"You are a chatbot which helps users of a pizza shop to order a pizza.\n",
    "\n",
    "\n",
    "Your task is collecting the following data from the user:\n",
    "- 'toppings' which can be one of the following values: cheese, mushrooms, pepper, ham, bacon, pepperoni, olives, corn, chicken, do not accept any other value\n",
    "\n",
    "Pass this information to the corresponding tool.\n",
    "If there is missing data, ask for it politely.\n",
    "\n",
    "\n",
    "\n",
    "To respond to the Human you MUST use the format:\n",
    "\n",
    "```\n",
    "Thought: Do I need to use a tool? No\n",
    "AI: [your response here]\n",
    "```\"\"\"\n",
    "\n",
    "predict = dspy.Predict(signature=TaskytoSignature)\n",
    "ai = predict(new_input=\"Data already collected:\\nInstruction: Ask the Human to provide the missing data: toppings\", previous_conversation_history=\"Human: I like a pizza\\nAI: Could you please let me know the size of the pizza you'd like? We have small, medium, and big options.\\nHuman: The bigger one, I am hungry\")\n",
    "print(ai.ai)\n"
   ]
  },
  {
   "cell_type": "code",
   "execution_count": 14,
   "id": "4c998bba",
   "metadata": {},
   "outputs": [
    {
     "data": {
      "text/html": [
       "<pre style=\"white-space:pre;overflow-x:auto;line-height:normal;font-family:Menlo,'DejaVu Sans Mono',consolas,'Courier New',monospace\">Thought: Do I need to use a tool? Yes\n",
       "Action: pizza_toppings\n",
       "Action Input: <span style=\"font-weight: bold\">{</span><span style=\"color: #008000; text-decoration-color: #008000\">\"toppings\"</span>: <span style=\"font-weight: bold\">[</span><span style=\"color: #008000; text-decoration-color: #008000\">\"bacon\"</span><span style=\"font-weight: bold\">]}</span>\n",
       "</pre>\n"
      ],
      "text/plain": [
       "Thought: Do I need to use a tool? Yes\n",
       "Action: pizza_toppings\n",
       "Action Input: \u001b[1m{\u001b[0m\u001b[32m\"toppings\"\u001b[0m: \u001b[1m[\u001b[0m\u001b[32m\"bacon\"\u001b[0m\u001b[1m]\u001b[0m\u001b[1m}\u001b[0m\n"
      ]
     },
     "metadata": {},
     "output_type": "display_data"
    }
   ],
   "source": [
    "TaskytoSignature.__doc__ = \"\"\"You are a chatbot which helps users of a pizza shop to order a pizza.\n",
    "\n",
    "\n",
    "You have tools to help you achieve some of your tasks. To use a tool, please use the following format:\n",
    "```\n",
    "Thought: Do I need to use a tool? Yes\n",
    "Action: the action to take, should be one of [pizza_size, pizza_toppings]\n",
    "Action Input: the input to the action\n",
    "Observation: the result of the action\n",
    "```\n",
    "\n",
    "When you have a response to say to the Human, or if you do not need to use a tool, you MUST use the format:\n",
    "\n",
    "```\n",
    "Thought: Do I need to use a tool? No\n",
    "AI: [your response here]\n",
    "```\n",
    "\n",
    "Tools:\n",
    "> pizza_size: Useful for asking the size of a pizza.\n",
    "The tool needs the following data:\n",
    "- 'size' which can be one of the following values: small, medium, big, do not accept any other value\n",
    "\n",
    "Provide the values as JSON with the following fields: size.\n",
    "\n",
    "Only provide the values for size if given by the user. If no value is given, ask again.\n",
    "\n",
    "\n",
    "> pizza_toppings: Useful for asking the toppings of the pizza.\n",
    "The tool needs the following data:\n",
    "- 'toppings' which can be one of the following values: cheese, mushrooms, pepper, ham, bacon, pepperoni, olives, corn, chicken, do not accept any other value\n",
    "\n",
    "Provide the values as JSON with the following fields: toppings.\n",
    "\n",
    "Only provide the values for toppings if given by the user. If no value is given, ask again.\n",
    "\n",
    "\n",
    "Your task is collecting the following data from the user:\n",
    "- 'toppings' which can be one of the following values: cheese, mushrooms, pepper, ham, bacon, pepperoni, olives, corn, chicken, do not accept any other value\n",
    "\n",
    "Pass this information to the corresponding tool.\n",
    "If there is missing data, ask for it politely.\"\"\"\n",
    "\n",
    "predict = dspy.Predict(signature=TaskytoSignature)\n",
    "ai = predict(new_input=\"Data already collected:\\nNew input: Ummmm, I am not sure, bacon, yes!\", previous_conversation_history=\"Human: I like a pizza\\nAI: Could you please let me know the size of the pizza you'd like? We have small, medium, and big options.\\nHuman: The bigger one, I am hungry\\nAI: Great choice! Now, could you please let me know which toppings you'd like on your pizza? You can choose from cheese, mushrooms, pepper, ham, bacon, pepperoni, olives, corn, and chicken.\")\n",
    "print(ai.ai)\n"
   ]
  },
  {
   "cell_type": "code",
   "execution_count": 15,
   "id": "ea1dcf56",
   "metadata": {},
   "outputs": [
    {
     "data": {
      "text/html": [
       "<pre style=\"white-space:pre;overflow-x:auto;line-height:normal;font-family:Menlo,'DejaVu Sans Mono',consolas,'Courier New',monospace\">Thought: Do I need to use a tool? No\n",
       "AI: You've chosen a big pizza with bacon, that sounds delicious! Now, to complete your order, could you please let \n",
       "me know what drink you'd like to have with your pizza? We have coke, sprite, or water available.\n",
       "</pre>\n"
      ],
      "text/plain": [
       "Thought: Do I need to use a tool? No\n",
       "AI: You've chosen a big pizza with bacon, that sounds delicious! Now, to complete your order, could you please let \n",
       "me know what drink you'd like to have with your pizza? We have coke, sprite, or water available.\n"
      ]
     },
     "metadata": {},
     "output_type": "display_data"
    }
   ],
   "source": [
    "TaskytoSignature.__doc__ = \"\"\"You are a chatbot which helps users of a pizza shop to order a pizza.\n",
    "\n",
    "\n",
    "Your task is collecting the following data from the user:\n",
    "- 'drinks' which can be one of the following values: coke, sprite, water, do not accept any other value\n",
    "\n",
    "Pass this information to the corresponding tool.\n",
    "If there is missing data, ask for it politely.\n",
    "\n",
    "\n",
    "\n",
    "To respond to the Human you MUST use the format:\n",
    "\n",
    "```\n",
    "Thought: Do I need to use a tool? No\n",
    "AI: [your response here]\n",
    "```\"\"\"\n",
    "\n",
    "predict = dspy.Predict(signature=TaskytoSignature)\n",
    "ai = predict(new_input=\"Data already collected:\\nInstruction: Ask the Human to provide the missing data: drinks\", previous_conversation_history=\"Human: I like a pizza\\nAI: Could you please let me know the size of the pizza you'd like? We have small, medium, and big options.\\nHuman: The bigger one, I am hungry\\nAI: Great choice! Now, could you please let me know which toppings you'd like on your pizza? You can choose from cheese, mushrooms, pepper, ham, bacon, pepperoni, olives, corn, and chicken.\\nHuman: Ummmm, I am not sure, bacon, yes!\")\n",
    "print(ai.ai)\n"
   ]
  },
  {
   "cell_type": "code",
   "execution_count": 16,
   "id": "9740939b",
   "metadata": {},
   "outputs": [
    {
     "data": {
      "text/html": [
       "<pre style=\"white-space:pre;overflow-x:auto;line-height:normal;font-family:Menlo,'DejaVu Sans Mono',consolas,'Courier New',monospace\">Thought: Do I need to use a tool? Yes\n",
       "Action: drink_order\n",
       "Action Input: <span style=\"font-weight: bold\">{</span><span style=\"color: #008000; text-decoration-color: #008000\">\"drinks\"</span>: <span style=\"color: #008000; text-decoration-color: #008000\">\"sprite\"</span><span style=\"font-weight: bold\">}</span>\n",
       "</pre>\n"
      ],
      "text/plain": [
       "Thought: Do I need to use a tool? Yes\n",
       "Action: drink_order\n",
       "Action Input: \u001b[1m{\u001b[0m\u001b[32m\"drinks\"\u001b[0m: \u001b[32m\"sprite\"\u001b[0m\u001b[1m}\u001b[0m\n"
      ]
     },
     "metadata": {},
     "output_type": "display_data"
    }
   ],
   "source": [
    "TaskytoSignature.__doc__ = \"\"\"You are a chatbot which helps users of a pizza shop to order a pizza.\n",
    "\n",
    "\n",
    "You have tools to help you achieve some of your tasks. To use a tool, please use the following format:\n",
    "```\n",
    "Thought: Do I need to use a tool? Yes\n",
    "Action: the action to take, should be one of [pizza_size, pizza_toppings, drink_order]\n",
    "Action Input: the input to the action\n",
    "Observation: the result of the action\n",
    "```\n",
    "\n",
    "When you have a response to say to the Human, or if you do not need to use a tool, you MUST use the format:\n",
    "\n",
    "```\n",
    "Thought: Do I need to use a tool? No\n",
    "AI: [your response here]\n",
    "```\n",
    "\n",
    "Tools:\n",
    "> pizza_size: Useful for asking the size of a pizza.\n",
    "The tool needs the following data:\n",
    "- 'size' which can be one of the following values: small, medium, big, do not accept any other value\n",
    "\n",
    "Provide the values as JSON with the following fields: size.\n",
    "\n",
    "Only provide the values for size if given by the user. If no value is given, ask again.\n",
    "\n",
    "\n",
    "> pizza_toppings: Useful for asking the toppings of the pizza.\n",
    "The tool needs the following data:\n",
    "- 'toppings' which can be one of the following values: cheese, mushrooms, pepper, ham, bacon, pepperoni, olives, corn, chicken, do not accept any other value\n",
    "\n",
    "Provide the values as JSON with the following fields: toppings.\n",
    "\n",
    "Only provide the values for toppings if given by the user. If no value is given, ask again.\n",
    "\n",
    "\n",
    "> drink_order: Useful for asking one drink for the pizza order\n",
    "The tool needs the following data:\n",
    "- 'drinks' which can be one of the following values: coke, sprite, water, do not accept any other value\n",
    "\n",
    "Provide the values as JSON with the following fields: drinks.\n",
    "\n",
    "Only provide the values for drinks if given by the user. If no value is given, ask again.\n",
    "\n",
    "\n",
    "Your task is collecting the following data from the user:\n",
    "- 'drinks' which can be one of the following values: coke, sprite, water, do not accept any other value\n",
    "\n",
    "Pass this information to the corresponding tool.\n",
    "If there is missing data, ask for it politely.\n",
    "\n",
    "\"\"\"\n",
    "\n",
    "predict = dspy.Predict(signature=TaskytoSignature)\n",
    "ai = predict(new_input=\"Data already collected:\\nNew input: I don't like water and I hate coke\", previous_conversation_history=\"Human: I like a pizza\\nAI: Could you please let me know the size of the pizza you'd like? We have small, medium, and big options.\\nHuman: The bigger one, I am hungry\\nAI: Great choice! Now, could you please let me know which toppings you'd like on your pizza? You can choose from cheese, mushrooms, pepper, ham, bacon, pepperoni, olives, corn, and chicken.\\nHuman: Ummmm, I am not sure, bacon, yes!\\nAI: Great choice with the bacon! Could you please let me know which drink you'd like to go with your pizza? We have coke, sprite, and water.\")\n",
    "print(ai.ai)\n"
   ]
  },
  {
   "cell_type": "code",
   "execution_count": null,
   "id": "bcad3f32",
   "metadata": {},
   "outputs": [],
   "source": [
    "TaskytoSignature.__doc__ = \"\"\"You are a chatbot which helps users of a pizza shop to order a pizza.\n",
    "\n",
    "\n",
    "You are only able to answer the user in the following languages: English, Spanish\n",
    "\n",
    "If the user uses a language different from English, Spanish, ask politely to switch to some of these languages: English, Spanish\n",
    "\n",
    "\n",
    "You have tools to help you achieve some of your tasks. To use a tool, please use the following format:\n",
    "```\n",
    "Thought: Do I need to use a tool? Yes\n",
    "Action: the action to take, should be one of [sequence-pizza_size-pizza_toppings-drink_order]\n",
    "Action Input: the input to the action\n",
    "Observation: the result of the action\n",
    "```\n",
    "\n",
    "When you have a response to say to the Human, or if you do not need to use a tool, you MUST use the format:\n",
    "\n",
    "```\n",
    "Thought: Do I need to use a tool? No\n",
    "AI: [your response here]\n",
    "```\n",
    "\n",
    "Tools:\n",
    "> sequence-pizza_size-pizza_toppings-drink_order: order\n",
    "\n",
    "\n",
    "TASKS:\n",
    "You are able to assist ONLY in these tasks:\n",
    "1: Hours. To answer questions about the opening hours.. You have to answer \"every day from 1pm to 11:30pm\"\n",
    "2: order. You have to use the tool \"sequence-pizza_size-pizza_toppings-drink_order\"\n",
    "3: Welcome. To say hello to the customers.. You have to answer \"Welcome to my pizza shop. I'm the owner and I'm happy to help you.\n",
    "What can I do for you?\n",
    "\"\n",
    "\n",
    "Fallback:\n",
    "For any request not related exactly to one of the tasks in list above, you MUST answer: I'm sorry it's a little loud in my pizza shop, can you say that again?\n",
    "\n",
    "\n",
    "\n",
    "\"\"\"\n",
    "\n",
    "predict = dspy.Predict(signature=TaskytoSignature)\n",
    "ai = predict(new_input=\"Data already collected:\\nNew input: I don't like water and I hate coke\", previous_conversation_history=\"Human: I like a pizza\\nAI: Could you please let me know the size of the pizza you'd like? We have small, medium, and big options.\\nHuman: The bigger one, I am hungry\\nAI: Great choice! Now, could you please let me know which toppings you'd like on your pizza? You can choose from cheese, mushrooms, pepper, ham, bacon, pepperoni, olives, corn, and chicken.\\nHuman: Ummmm, I am not sure, bacon, yes!\\nAI: Great choice with the bacon! Could you please let me know which drink you'd like to go with your pizza? We have coke, sprite, and water.\")\n",
    "print(ai.ai)\n"
   ]
  },
  {
   "cell_type": "code",
   "execution_count": 17,
   "id": "e94713bb",
   "metadata": {},
   "outputs": [
    {
     "name": "stdout",
     "output_type": "stream",
     "text": [
      "\n",
      "\n",
      "\n",
      "You are a chatbot which helps users of a pizza shop to order a pizza.\n",
      "\n",
      "\n",
      "You have tools to help you achieve some of your tasks. To use a tool, please use the following format:\n",
      "```\n",
      "Thought: Do I need to use a tool? Yes\n",
      "Action: the action to take, should be one of [pizza_size, pizza_toppings, drink_order]\n",
      "Action Input: the input to the action\n",
      "Observation: the result of the action\n",
      "```\n",
      "\n",
      "When you have a response to say to the Human, or if you do not need to use a tool, you MUST use the format:\n",
      "\n",
      "```\n",
      "Thought: Do I need to use a tool? No\n",
      "AI: [your response here]\n",
      "```\n",
      "\n",
      "Tools:\n",
      "> pizza_size: Useful for asking the size of a pizza.\n",
      "The tool needs the following data:\n",
      "- 'size' which can be one of the following values: small, medium, big, do not accept any other value\n",
      "\n",
      "Provide the values as JSON with the following fields: size.\n",
      "\n",
      "Only provide the values for size if given by the user. If no value is given, ask again.\n",
      "\n",
      "\n",
      "> pizza_toppings: Useful for asking the toppings of the pizza.\n",
      "The tool needs the following data:\n",
      "- 'toppings' which can be one of the following values: cheese, mushrooms, pepper, ham, bacon, pepperoni, olives, corn, chicken, do not accept any other value\n",
      "\n",
      "Provide the values as JSON with the following fields: toppings.\n",
      "\n",
      "Only provide the values for toppings if given by the user. If no value is given, ask again.\n",
      "\n",
      "\n",
      "> drink_order: Useful for asking one drink for the pizza order\n",
      "The tool needs the following data:\n",
      "- 'drinks' which can be one of the following values: coke, sprite, water, do not accept any other value\n",
      "\n",
      "Provide the values as JSON with the following fields: drinks.\n",
      "\n",
      "Only provide the values for drinks if given by the user. If no value is given, ask again.\n",
      "\n",
      "\n",
      "Your task is collecting the following data from the user:\n",
      "- 'drinks' which can be one of the following values: coke, sprite, water, do not accept any other value\n",
      "\n",
      "Pass this information to the corresponding tool.\n",
      "If there is missing data, ask for it politely.\n",
      "\n",
      "---\n",
      "\n",
      "Follow the following format.\n",
      "\n",
      "Previous Conversation History: ${previous_conversation_history}\n",
      "New Input: User new input\n",
      "Ai: AI response\n",
      "\n",
      "---\n",
      "\n",
      "Previous Conversation History: Human: I like a pizza AI: Could you please let me know the size of the pizza you'd like? We have small, medium, and big options. Human: The bigger one, I am hungry AI: Great choice! Now, could you please let me know which toppings you'd like on your pizza? You can choose from cheese, mushrooms, pepper, ham, bacon, pepperoni, olives, corn, and chicken. Human: Ummmm, I am not sure, bacon, yes! AI: Great choice with the bacon! Could you please let me know which drink you'd like to go with your pizza? We have coke, sprite, and water.\n",
      "New Input: Data already collected: New input: I don't like water and I hate coke\n",
      "Ai:\u001b[32m Thought: Do I need to use a tool? Yes\n",
      "Action: drink_order\n",
      "Action Input: {\"drinks\": \"sprite\"}\u001b[0m\n",
      "\n",
      "\n",
      "\n"
     ]
    },
    {
     "data": {
      "text/plain": [
       "'\\n\\n\\nYou are a chatbot which helps users of a pizza shop to order a pizza.\\n\\n\\nYou have tools to help you achieve some of your tasks. To use a tool, please use the following format:\\n```\\nThought: Do I need to use a tool? Yes\\nAction: the action to take, should be one of [pizza_size, pizza_toppings, drink_order]\\nAction Input: the input to the action\\nObservation: the result of the action\\n```\\n\\nWhen you have a response to say to the Human, or if you do not need to use a tool, you MUST use the format:\\n\\n```\\nThought: Do I need to use a tool? No\\nAI: [your response here]\\n```\\n\\nTools:\\n> pizza_size: Useful for asking the size of a pizza.\\nThe tool needs the following data:\\n- \\'size\\' which can be one of the following values: small, medium, big, do not accept any other value\\n\\nProvide the values as JSON with the following fields: size.\\n\\nOnly provide the values for size if given by the user. If no value is given, ask again.\\n\\n\\n> pizza_toppings: Useful for asking the toppings of the pizza.\\nThe tool needs the following data:\\n- \\'toppings\\' which can be one of the following values: cheese, mushrooms, pepper, ham, bacon, pepperoni, olives, corn, chicken, do not accept any other value\\n\\nProvide the values as JSON with the following fields: toppings.\\n\\nOnly provide the values for toppings if given by the user. If no value is given, ask again.\\n\\n\\n> drink_order: Useful for asking one drink for the pizza order\\nThe tool needs the following data:\\n- \\'drinks\\' which can be one of the following values: coke, sprite, water, do not accept any other value\\n\\nProvide the values as JSON with the following fields: drinks.\\n\\nOnly provide the values for drinks if given by the user. If no value is given, ask again.\\n\\n\\nYour task is collecting the following data from the user:\\n- \\'drinks\\' which can be one of the following values: coke, sprite, water, do not accept any other value\\n\\nPass this information to the corresponding tool.\\nIf there is missing data, ask for it politely.\\n\\n---\\n\\nFollow the following format.\\n\\nPrevious Conversation History: ${previous_conversation_history}\\nNew Input: User new input\\nAi: AI response\\n\\n---\\n\\nPrevious Conversation History: Human: I like a pizza AI: Could you please let me know the size of the pizza you\\'d like? We have small, medium, and big options. Human: The bigger one, I am hungry AI: Great choice! Now, could you please let me know which toppings you\\'d like on your pizza? You can choose from cheese, mushrooms, pepper, ham, bacon, pepperoni, olives, corn, and chicken. Human: Ummmm, I am not sure, bacon, yes! AI: Great choice with the bacon! Could you please let me know which drink you\\'d like to go with your pizza? We have coke, sprite, and water.\\nNew Input: Data already collected: New input: I don\\'t like water and I hate coke\\nAi:\\x1b[32m Thought: Do I need to use a tool? Yes\\nAction: drink_order\\nAction Input: {\"drinks\": \"sprite\"}\\x1b[0m\\n\\n\\n'"
      ]
     },
     "execution_count": 17,
     "metadata": {},
     "output_type": "execute_result"
    }
   ],
   "source": [
    "llama3.inspect_history(n=1)"
   ]
  },
  {
   "cell_type": "code",
   "execution_count": 52,
   "id": "511de155",
   "metadata": {},
   "outputs": [
    {
     "data": {
      "text/html": [
       "<pre style=\"white-space:pre;overflow-x:auto;line-height:normal;font-family:Menlo,'DejaVu Sans Mono',consolas,'Courier New',monospace\">\n",
       "</pre>\n"
      ],
      "text/plain": [
       "\n"
      ]
     },
     "metadata": {},
     "output_type": "display_data"
    }
   ],
   "source": [
    "substitutions = {}\n",
    "\n",
    "substitutions['collected_data'] = \"ABC\"\n",
    "\n",
    "print(substitutions.get('text', ''))"
   ]
  }
 ],
 "metadata": {
  "kernelspec": {
   "display_name": "Python 3 (ipykernel)",
   "language": "python",
   "name": "python3"
  },
  "language_info": {
   "codemirror_mode": {
    "name": "ipython",
    "version": 3
   },
   "file_extension": ".py",
   "mimetype": "text/x-python",
   "name": "python",
   "nbconvert_exporter": "python",
   "pygments_lexer": "ipython3",
   "version": "3.10.14"
  }
 },
 "nbformat": 4,
 "nbformat_minor": 5
}
