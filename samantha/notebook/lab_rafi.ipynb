{
 "cells": [
  {
   "cell_type": "markdown",
   "id": "f77c009c-7c3e-4413-8e76-3a4908d3968f",
   "metadata": {},
   "source": [
    "### Intro to programming model -  DSPy Laboratory"
   ]
  },
  {
   "cell_type": "code",
   "execution_count": 3,
   "id": "d6f6ce2c-1906-451a-8a8d-7c0a36b4828f",
   "metadata": {},
   "outputs": [],
   "source": [
    "import dspy\n",
    "\n",
    "from dspy import OpenAI\n",
    "from dspy import (\n",
    "    Predict,\n",
    "    settings,\n",
    "    ChainOfThought,\n",
    "    ChainOfThoughtWithHint,\n",
    "    MultiChainComparison,\n",
    "    Prediction,\n",
    "    ProgramOfThought,\n",
    "    ReAct\n",
    ")\n",
    "from dspy import GROQ\n",
    "from rich import print\n",
    "from dotenv import dotenv_values\n",
    "\n",
    "secret = dotenv_values('../../.secret')\n",
    "# gpt_turbo = OpenAI('gpt-3.5-turbo', api_key=secret['OPEN_AI_API_KEY'], model_type=\"chat\")\n",
    "# settings.configure(lm=gpt_turbo)\n",
    "\n",
    "\n",
    "groq = dspy.GROQ(model='llama3-70b-8192', api_key=secret['GROQ_API_KEY'], max_tokens=2000)\n",
    "dspy.settings.configure(lm=groq, )\n",
    "\n",
    "\n",
    "\n"
   ]
  },
  {
   "cell_type": "code",
   "execution_count": 4,
   "id": "b2cd4ea8",
   "metadata": {},
   "outputs": [
    {
     "data": {
      "text/plain": [
       "[Example({'question': 'Natalia sold clips to 48 of her friends in April, and then she sold half as many clips in May. How many clips did Natalia sell altogether in April and May?', 'answer': 'Natalia sold 48/2 = <<48/2=24>>24 clips in May.\\nNatalia sold 48+24 = <<48+24=72>>72 clips altogether in April and May.\\n#### 72'}) (input_keys={'question'}),\n",
       " Example({'question': 'Weng earns $12 an hour for babysitting. Yesterday, she just did 50 minutes of babysitting. How much did she earn?', 'answer': 'Weng earns 12/60 = $<<12/60=0.2>>0.2 per minute.\\nWorking 50 minutes, she earned 0.2 x 50 = $<<0.2*50=10>>10.\\n#### 10'}) (input_keys={'question'}),\n",
       " Example({'question': 'Betty is saving money for a new wallet which costs $100. Betty has only half of the money she needs. Her parents decided to give her $15 for that purpose, and her grandparents twice as much as her parents. How much more money does Betty need to buy the wallet?', 'answer': \"In the beginning, Betty has only 100 / 2 = $<<100/2=50>>50.\\nBetty's grandparents gave her 15 * 2 = $<<15*2=30>>30.\\nThis means, Betty needs 100 - 50 - 30 - 15 = $<<100-50-30-15=5>>5 more.\\n#### 5\"}) (input_keys={'question'})]"
      ]
     },
     "execution_count": 4,
     "metadata": {},
     "output_type": "execute_result"
    }
   ],
   "source": [
    "from dspy.datasets import DataLoader\n",
    "\n",
    "\n",
    "dl = DataLoader()\n",
    "\n",
    "data = dl.from_huggingface(\n",
    "    \"gsm8k\", \"main\",\n",
    "    fields=(\"question\", \"answer\"),\n",
    "    input_keys=(\"question\",),\n",
    "    split=\"train[:3]\"\n",
    ")\n",
    "\n",
    "data"
   ]
  },
  {
   "cell_type": "code",
   "execution_count": null,
   "id": "5120dedb",
   "metadata": {},
   "outputs": [],
   "source": []
  },
  {
   "cell_type": "code",
   "execution_count": 5,
   "id": "b3a36205",
   "metadata": {},
   "outputs": [
    {
     "name": "stderr",
     "output_type": "stream",
     "text": [
      "Preparing Input Fields: 100%|██████████| 1/1 [00:00<00:00, 286.54it/s]\n",
      "Preparing Output Fields: 100%|██████████| 1/1 [00:00<00:00, 716.36it/s]\n",
      "Generating Synthetic Data: 100%|██████████| 1/1 [00:01<00:00,  1.57s/it]\n"
     ]
    },
    {
     "data": {
      "text/plain": [
       "[Example({'question': 'Tom has 15 boxes of crayons in his art class. Each box contains 8 packs of crayons. How many packs of crayons does Tom have in total?\\n\\nAnswer: 120 packs of crayons', 'answer': 'question: Tom has 15 boxes of crayons in his art class. Each box contains 8 packs of crayons. How many packs of crayons does Tom have in total?\\nanswer: 120'}) (input_keys={'question'})]"
      ]
     },
     "execution_count": 5,
     "metadata": {},
     "output_type": "execute_result"
    }
   ],
   "source": [
    "import dsp\n",
    "import dspy\n",
    "from dspy.datasets import DataLoader\n",
    "from dspy.experimental import Synthesizer, SynthesizerArguments\n",
    "\n",
    "config = SynthesizerArguments()\n",
    "synth = Synthesizer(config=config)\n",
    "synth_data = synth.generate(ground_source=data, num_data=1)\n",
    "synth_data\n",
    "\n"
   ]
  },
  {
   "cell_type": "code",
   "execution_count": null,
   "id": "5fda87c0",
   "metadata": {},
   "outputs": [],
   "source": [
    "pred = Predict(\"question -> answer\", temperature=0.3)\n",
    "response = pred(question=\"Why does popcorn pop?\")\n",
    "print(response)"
   ]
  },
  {
   "cell_type": "code",
   "execution_count": null,
   "id": "884ed001",
   "metadata": {},
   "outputs": [],
   "source": [
    "predict = Predict(\"question -> answer_as_json\")\n",
    "print(predict)"
   ]
  },
  {
   "cell_type": "code",
   "execution_count": null,
   "id": "a3df9b85",
   "metadata": {},
   "outputs": [],
   "source": [
    "response = predict(question=\"Provide 3 method of statistical inference\")\n",
    "print(response.answer_as_json)"
   ]
  },
  {
   "cell_type": "markdown",
   "id": "b830e9f9",
   "metadata": {},
   "source": [
    "#### Chain Of Thought - Technique (reasoning)"
   ]
  },
  {
   "cell_type": "code",
   "execution_count": null,
   "id": "9773af3a",
   "metadata": {},
   "outputs": [],
   "source": [
    "cot_qa = ChainOfThought(\"question -> answer\", temperature=0.3)\n",
    "print(cot_qa)"
   ]
  },
  {
   "cell_type": "code",
   "execution_count": null,
   "id": "1a86549c",
   "metadata": {},
   "outputs": [],
   "source": [
    "response = cot_qa(question=\"What year was Cristobal Colon imprisoned and won the novel award?\")"
   ]
  },
  {
   "cell_type": "code",
   "execution_count": null,
   "id": "63941f31",
   "metadata": {},
   "outputs": [],
   "source": [
    "print(response)"
   ]
  },
  {
   "cell_type": "markdown",
   "id": "7528c68e",
   "metadata": {},
   "source": [
    "#### Chain Of Thought with Hint - Technique (reasoning with hints)"
   ]
  },
  {
   "cell_type": "code",
   "execution_count": null,
   "id": "1c7be51d",
   "metadata": {},
   "outputs": [],
   "source": [
    "question = \"In the legal framework, how many weekly working hours are established for the call center industry?\"\n",
    "hint = \"Call centers are nearshore industries based in the Caribbean and their clients are in the United States.\"\n",
    "\n",
    "coth_qa = ChainOfThoughtWithHint(\"question -> answer\")\n",
    "response = coth_qa(question=question, hint=hint)\n",
    "print(response)"
   ]
  },
  {
   "cell_type": "markdown",
   "id": "da0ae7bb",
   "metadata": {},
   "source": [
    "#### Multi Chain Comparison - technique of \"students\" and final reasonable answer"
   ]
  },
  {
   "cell_type": "code",
   "execution_count": null,
   "id": "79d20dce",
   "metadata": {},
   "outputs": [],
   "source": [
    "completions = [\n",
    "    Prediction(rationale=\"Yes, when I visit my brother I can identify.\", answer=\"personality identification\"),\n",
    "    Prediction(rationale=\"a person who is migrating from one country to another\", answer=\"personality migration\"),\n",
    "    Prediction(rationale=\"bad friend\", answer=\"fake personality\"),\n",
    "]\n",
    "\n",
    "multichain = MultiChainComparison(\"question -> answer\")\n",
    "\n",
    "response = multichain(question=\"distinguishes an individual from others by describing feelings, thinking, and behaviors\", completions=completions)\n",
    "\n",
    "print(response)"
   ]
  },
  {
   "cell_type": "markdown",
   "id": "9b871770",
   "metadata": {},
   "source": [
    "#### ReAct (reasoning and acting)\n"
   ]
  },
  {
   "cell_type": "code",
   "execution_count": null,
   "id": "64527677",
   "metadata": {},
   "outputs": [],
   "source": [
    "import dspy\n",
    "from dspy import ReAct, Signature\n",
    "from rich import print\n",
    "\n",
    "# Define a simple signature for basic question answering\n",
    "class BasicQA(dspy.Signature):\n",
    "    \"\"\"Answer questions with short factoid answers.\"\"\"\n",
    "    question = dspy.InputField()\n",
    "    answer = dspy.OutputField(desc=\"often between 1 and 5 words\")\n",
    "\n",
    "# Pass signature to ReAct module\n",
    "react_module = dspy.ReAct(BasicQA)\n",
    "\n",
    "# Call the ReAct module on a particular input\n",
    "question = 'Aside from the Apple Remote, what other devices can control the program Apple Remote was originally designed to interact with?'\n",
    "question = 'What is the real name of Batman?'\n",
    "result = react_module(question=question)\n",
    "\n",
    "print(f\"Question: {question}\")\n",
    "print(f\"Final Predicted Answer (after ReAct process): {result.answer}\")"
   ]
  },
  {
   "cell_type": "code",
   "execution_count": null,
   "id": "054f879e",
   "metadata": {},
   "outputs": [],
   "source": [
    "agent = dspy.ReAct(\"question -> answer\")\n",
    "agent(question=\"What's up!\")"
   ]
  },
  {
   "cell_type": "code",
   "execution_count": null,
   "id": "3dc339b6",
   "metadata": {},
   "outputs": [],
   "source": [
    "agent(question=\"Could you help me with some basic math?\")"
   ]
  },
  {
   "cell_type": "markdown",
   "id": "65646455",
   "metadata": {},
   "source": [
    "### Data & Metrics"
   ]
  },
  {
   "cell_type": "code",
   "execution_count": null,
   "id": "0828245f",
   "metadata": {},
   "outputs": [],
   "source": [
    "from dspy import Example\n",
    "\n",
    "ex1 = Example(question=\"What's position are open now?\", answer=\"Agent Call Center\", hint=\"Consult data base for updates on position jobs.\", table_ref=\"hr_jobs\")\n",
    "\n",
    "print(ex1)"
   ]
  },
  {
   "cell_type": "code",
   "execution_count": null,
   "id": "9c15ee40",
   "metadata": {},
   "outputs": [],
   "source": [
    "ex2 = Example(question=\"According to company rules, what is the most valuable employee?\", answer=\"Sales Agent\").with_inputs(\"company_rules\")\n",
    "print(ex2)"
   ]
  },
  {
   "cell_type": "code",
   "execution_count": null,
   "id": "68b95b93",
   "metadata": {},
   "outputs": [],
   "source": [
    "ex2.inputs(), ex2.labels()"
   ]
  },
  {
   "cell_type": "markdown",
   "id": "bf1777ea",
   "metadata": {},
   "source": [
    "#### Metrics"
   ]
  },
  {
   "cell_type": "markdown",
   "id": "82f42740",
   "metadata": {},
   "source": [
    "### Optimizers"
   ]
  },
  {
   "cell_type": "code",
   "execution_count": null,
   "id": "77e360ec",
   "metadata": {},
   "outputs": [],
   "source": []
  }
 ],
 "metadata": {
  "kernelspec": {
   "display_name": "Python 3 (ipykernel)",
   "language": "python",
   "name": "python3"
  },
  "language_info": {
   "codemirror_mode": {
    "name": "ipython",
    "version": 3
   },
   "file_extension": ".py",
   "mimetype": "text/x-python",
   "name": "python",
   "nbconvert_exporter": "python",
   "pygments_lexer": "ipython3",
   "version": "3.10.14"
  }
 },
 "nbformat": 4,
 "nbformat_minor": 5
}
