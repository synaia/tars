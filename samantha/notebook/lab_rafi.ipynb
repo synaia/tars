{
 "cells": [
  {
   "cell_type": "markdown",
   "id": "f77c009c-7c3e-4413-8e76-3a4908d3968f",
   "metadata": {},
   "source": [
    "### Intro to programming model -  DSPy Laboratory"
   ]
  },
  {
   "cell_type": "code",
   "execution_count": 1,
   "id": "d6f6ce2c-1906-451a-8a8d-7c0a36b4828f",
   "metadata": {},
   "outputs": [
    {
     "ename": "NameError",
     "evalue": "name 'dspy' is not defined",
     "output_type": "error",
     "traceback": [
      "\u001b[0;31m---------------------------------------------------------------------------\u001b[0m",
      "\u001b[0;31mNameError\u001b[0m                                 Traceback (most recent call last)",
      "Cell \u001b[0;32mIn[1], line 21\u001b[0m\n\u001b[1;32m     14\u001b[0m \u001b[38;5;28;01mfrom\u001b[39;00m \u001b[38;5;21;01mdotenv\u001b[39;00m \u001b[38;5;28;01mimport\u001b[39;00m dotenv_values\n\u001b[1;32m     16\u001b[0m \u001b[38;5;66;03m# secret = dotenv_values('../../.secret')\u001b[39;00m\n\u001b[1;32m     17\u001b[0m \u001b[38;5;66;03m# gpt_turbo = OpenAI('gpt-3.5-turbo', api_key=secret['OPEN_AI_API_KEY'], model_type=\"chat\")\u001b[39;00m\n\u001b[1;32m     18\u001b[0m \u001b[38;5;66;03m# settings.configure(lm=gpt_turbo)\u001b[39;00m\n\u001b[0;32m---> 21\u001b[0m groq \u001b[38;5;241m=\u001b[39m \u001b[43mdspy\u001b[49m\u001b[38;5;241m.\u001b[39mGROQ(model\u001b[38;5;241m=\u001b[39m\u001b[38;5;124m'\u001b[39m\u001b[38;5;124mllama3-70b-8192\u001b[39m\u001b[38;5;124m'\u001b[39m, api_key\u001b[38;5;241m=\u001b[39m\u001b[38;5;124m'\u001b[39m\u001b[38;5;124m'\u001b[39m, max_tokens\u001b[38;5;241m=\u001b[39m\u001b[38;5;241m2000\u001b[39m)\n\u001b[1;32m     22\u001b[0m dspy\u001b[38;5;241m.\u001b[39msettings\u001b[38;5;241m.\u001b[39mconfigure(lm\u001b[38;5;241m=\u001b[39mgroq, )\n",
      "\u001b[0;31mNameError\u001b[0m: name 'dspy' is not defined"
     ]
    }
   ],
   "source": [
    "from dspy import OpenAI\n",
    "from dspy import (\n",
    "    Predict,\n",
    "    settings,\n",
    "    ChainOfThought,\n",
    "    ChainOfThoughtWithHint,\n",
    "    MultiChainComparison,\n",
    "    Prediction,\n",
    "    ProgramOfThought,\n",
    "    ReAct\n",
    ")\n",
    "from dspy import GROQ\n",
    "from rich import print\n",
    "from dotenv import dotenv_values\n",
    "\n",
    "# secret = dotenv_values('../../.secret')\n",
    "# gpt_turbo = OpenAI('gpt-3.5-turbo', api_key=secret['OPEN_AI_API_KEY'], model_type=\"chat\")\n",
    "# settings.configure(lm=gpt_turbo)\n",
    "\n",
    "\n",
    "groq = dspy.GROQ(model='llama3-70b-8192', api_key='', max_tokens=2000)\n",
    "dspy.settings.configure(lm=groq, )\n"
   ]
  },
  {
   "cell_type": "code",
   "execution_count": 21,
   "id": "5fda87c0",
   "metadata": {},
   "outputs": [
    {
     "data": {
      "text/html": [
       "<pre style=\"white-space:pre;overflow-x:auto;line-height:normal;font-family:Menlo,'DejaVu Sans Mono',consolas,'Courier New',monospace\"><span style=\"color: #800080; text-decoration-color: #800080; font-weight: bold\">Prediction</span><span style=\"font-weight: bold\">(</span>\n",
       "    <span style=\"color: #808000; text-decoration-color: #808000\">answer</span>=<span style=\"color: #008000; text-decoration-color: #008000\">'Question: Why does popcorn pop?\\nAnswer: Popcorn pops because water molecules inside the kernel turn </span>\n",
       "<span style=\"color: #008000; text-decoration-color: #008000\">into steam when heated, building up pressure until the kernel explodes, turning inside out.'</span>\n",
       "<span style=\"font-weight: bold\">)</span>\n",
       "</pre>\n"
      ],
      "text/plain": [
       "\u001b[1;35mPrediction\u001b[0m\u001b[1m(\u001b[0m\n",
       "    \u001b[33manswer\u001b[0m=\u001b[32m'Question: Why does popcorn pop?\\nAnswer: Popcorn pops because water molecules inside the kernel turn \u001b[0m\n",
       "\u001b[32minto steam when heated, building up pressure until the kernel explodes, turning inside out.'\u001b[0m\n",
       "\u001b[1m)\u001b[0m\n"
      ]
     },
     "metadata": {},
     "output_type": "display_data"
    }
   ],
   "source": [
    "pred = Predict(\"question -> answer\", temperature=0.3)\n",
    "response = pred(question=\"Why does popcorn pop?\")\n",
    "print(response)"
   ]
  },
  {
   "cell_type": "code",
   "execution_count": 10,
   "id": "884ed001",
   "metadata": {},
   "outputs": [
    {
     "data": {
      "text/html": [
       "<pre style=\"white-space:pre;overflow-x:auto;line-height:normal;font-family:Menlo,'DejaVu Sans Mono',consolas,'Courier New',monospace\"><span style=\"color: #800080; text-decoration-color: #800080; font-weight: bold\">Predict</span><span style=\"font-weight: bold\">(</span><span style=\"color: #800080; text-decoration-color: #800080; font-weight: bold\">StringSignature</span><span style=\"font-weight: bold\">(</span>question -&gt; answer_as_json\n",
       "    <span style=\"color: #808000; text-decoration-color: #808000\">instructions</span>=<span style=\"color: #008000; text-decoration-color: #008000\">'Given the fields `question`, produce the fields `answer_as_json`.'</span>\n",
       "    question = <span style=\"color: #800080; text-decoration-color: #800080; font-weight: bold\">Field</span><span style=\"font-weight: bold\">(</span><span style=\"color: #808000; text-decoration-color: #808000\">annotation</span>=<span style=\"color: #800080; text-decoration-color: #800080\">str</span> <span style=\"color: #808000; text-decoration-color: #808000\">required</span>=<span style=\"color: #00ff00; text-decoration-color: #00ff00; font-style: italic\">True</span> <span style=\"color: #808000; text-decoration-color: #808000\">json_schema_extra</span>=<span style=\"font-weight: bold\">{</span><span style=\"color: #008000; text-decoration-color: #008000\">'__dspy_field_type'</span>: <span style=\"color: #008000; text-decoration-color: #008000\">'input'</span>, <span style=\"color: #008000; text-decoration-color: #008000\">'prefix'</span>: \n",
       "<span style=\"color: #008000; text-decoration-color: #008000\">'Question:'</span>, <span style=\"color: #008000; text-decoration-color: #008000\">'desc'</span>: <span style=\"color: #008000; text-decoration-color: #008000\">'${question}'</span><span style=\"font-weight: bold\">})</span>\n",
       "    answer_as_json = <span style=\"color: #800080; text-decoration-color: #800080; font-weight: bold\">Field</span><span style=\"font-weight: bold\">(</span><span style=\"color: #808000; text-decoration-color: #808000\">annotation</span>=<span style=\"color: #800080; text-decoration-color: #800080\">str</span> <span style=\"color: #808000; text-decoration-color: #808000\">required</span>=<span style=\"color: #00ff00; text-decoration-color: #00ff00; font-style: italic\">True</span> <span style=\"color: #808000; text-decoration-color: #808000\">json_schema_extra</span>=<span style=\"font-weight: bold\">{</span><span style=\"color: #008000; text-decoration-color: #008000\">'__dspy_field_type'</span>: <span style=\"color: #008000; text-decoration-color: #008000\">'output'</span>, <span style=\"color: #008000; text-decoration-color: #008000\">'prefix'</span>:\n",
       "<span style=\"color: #008000; text-decoration-color: #008000\">'Answer As Json:'</span>, <span style=\"color: #008000; text-decoration-color: #008000\">'desc'</span>: <span style=\"color: #008000; text-decoration-color: #008000\">'${answer_as_json}'</span><span style=\"font-weight: bold\">})</span>\n",
       "<span style=\"font-weight: bold\">))</span>\n",
       "</pre>\n"
      ],
      "text/plain": [
       "\u001b[1;35mPredict\u001b[0m\u001b[1m(\u001b[0m\u001b[1;35mStringSignature\u001b[0m\u001b[1m(\u001b[0mquestion -> answer_as_json\n",
       "    \u001b[33minstructions\u001b[0m=\u001b[32m'Given the fields `question`, produce the fields `answer_as_json`.'\u001b[0m\n",
       "    question = \u001b[1;35mField\u001b[0m\u001b[1m(\u001b[0m\u001b[33mannotation\u001b[0m=\u001b[35mstr\u001b[0m \u001b[33mrequired\u001b[0m=\u001b[3;92mTrue\u001b[0m \u001b[33mjson_schema_extra\u001b[0m=\u001b[1m{\u001b[0m\u001b[32m'__dspy_field_type'\u001b[0m: \u001b[32m'input'\u001b[0m, \u001b[32m'prefix'\u001b[0m: \n",
       "\u001b[32m'Question:'\u001b[0m, \u001b[32m'desc'\u001b[0m: \u001b[32m'$\u001b[0m\u001b[32m{\u001b[0m\u001b[32mquestion\u001b[0m\u001b[32m}\u001b[0m\u001b[32m'\u001b[0m\u001b[1m}\u001b[0m\u001b[1m)\u001b[0m\n",
       "    answer_as_json = \u001b[1;35mField\u001b[0m\u001b[1m(\u001b[0m\u001b[33mannotation\u001b[0m=\u001b[35mstr\u001b[0m \u001b[33mrequired\u001b[0m=\u001b[3;92mTrue\u001b[0m \u001b[33mjson_schema_extra\u001b[0m=\u001b[1m{\u001b[0m\u001b[32m'__dspy_field_type'\u001b[0m: \u001b[32m'output'\u001b[0m, \u001b[32m'prefix'\u001b[0m:\n",
       "\u001b[32m'Answer As Json:'\u001b[0m, \u001b[32m'desc'\u001b[0m: \u001b[32m'$\u001b[0m\u001b[32m{\u001b[0m\u001b[32manswer_as_json\u001b[0m\u001b[32m}\u001b[0m\u001b[32m'\u001b[0m\u001b[1m}\u001b[0m\u001b[1m)\u001b[0m\n",
       "\u001b[1m)\u001b[0m\u001b[1m)\u001b[0m\n"
      ]
     },
     "metadata": {},
     "output_type": "display_data"
    }
   ],
   "source": [
    "predict = Predict(\"question -> answer_as_json\")\n",
    "print(predict)"
   ]
  },
  {
   "cell_type": "code",
   "execution_count": 13,
   "id": "a3df9b85",
   "metadata": {},
   "outputs": [
    {
     "data": {
      "text/html": [
       "<pre style=\"white-space:pre;overflow-x:auto;line-height:normal;font-family:Menlo,'DejaVu Sans Mono',consolas,'Courier New',monospace\"><span style=\"font-weight: bold\">{</span>\n",
       "  <span style=\"color: #008000; text-decoration-color: #008000\">\"method_1\"</span>: <span style=\"color: #008000; text-decoration-color: #008000\">\"Hypothesis testing\"</span>,\n",
       "  <span style=\"color: #008000; text-decoration-color: #008000\">\"method_2\"</span>: <span style=\"color: #008000; text-decoration-color: #008000\">\"Confidence intervals\"</span>,\n",
       "  <span style=\"color: #008000; text-decoration-color: #008000\">\"method_3\"</span>: <span style=\"color: #008000; text-decoration-color: #008000\">\"Regression analysis\"</span>\n",
       "<span style=\"font-weight: bold\">}</span>\n",
       "</pre>\n"
      ],
      "text/plain": [
       "\u001b[1m{\u001b[0m\n",
       "  \u001b[32m\"method_1\"\u001b[0m: \u001b[32m\"Hypothesis testing\"\u001b[0m,\n",
       "  \u001b[32m\"method_2\"\u001b[0m: \u001b[32m\"Confidence intervals\"\u001b[0m,\n",
       "  \u001b[32m\"method_3\"\u001b[0m: \u001b[32m\"Regression analysis\"\u001b[0m\n",
       "\u001b[1m}\u001b[0m\n"
      ]
     },
     "metadata": {},
     "output_type": "display_data"
    }
   ],
   "source": [
    "response = predict(question=\"Provide 3 method of statistical inference\")\n",
    "print(response.answer_as_json)"
   ]
  },
  {
   "cell_type": "markdown",
   "id": "b830e9f9",
   "metadata": {},
   "source": [
    "#### Chain Of Thought - Technique (reasoning)"
   ]
  },
  {
   "cell_type": "code",
   "execution_count": 19,
   "id": "9773af3a",
   "metadata": {},
   "outputs": [
    {
     "data": {
      "text/html": [
       "<pre style=\"white-space:pre;overflow-x:auto;line-height:normal;font-family:Menlo,'DejaVu Sans Mono',consolas,'Courier New',monospace\"><span style=\"color: #800080; text-decoration-color: #800080; font-weight: bold\">ChainOfThought</span><span style=\"font-weight: bold\">(</span><span style=\"color: #800080; text-decoration-color: #800080; font-weight: bold\">StringSignature</span><span style=\"font-weight: bold\">(</span>question -&gt; answer\n",
       "    <span style=\"color: #808000; text-decoration-color: #808000\">instructions</span>=<span style=\"color: #008000; text-decoration-color: #008000\">'Given the fields `question`, produce the fields `answer`.'</span>\n",
       "    question = <span style=\"color: #800080; text-decoration-color: #800080; font-weight: bold\">Field</span><span style=\"font-weight: bold\">(</span><span style=\"color: #808000; text-decoration-color: #808000\">annotation</span>=<span style=\"color: #800080; text-decoration-color: #800080\">str</span> <span style=\"color: #808000; text-decoration-color: #808000\">required</span>=<span style=\"color: #00ff00; text-decoration-color: #00ff00; font-style: italic\">True</span> <span style=\"color: #808000; text-decoration-color: #808000\">json_schema_extra</span>=<span style=\"font-weight: bold\">{</span><span style=\"color: #008000; text-decoration-color: #008000\">'__dspy_field_type'</span>: <span style=\"color: #008000; text-decoration-color: #008000\">'input'</span>, <span style=\"color: #008000; text-decoration-color: #008000\">'prefix'</span>: \n",
       "<span style=\"color: #008000; text-decoration-color: #008000\">'Question:'</span>, <span style=\"color: #008000; text-decoration-color: #008000\">'desc'</span>: <span style=\"color: #008000; text-decoration-color: #008000\">'${question}'</span><span style=\"font-weight: bold\">})</span>\n",
       "    answer = <span style=\"color: #800080; text-decoration-color: #800080; font-weight: bold\">Field</span><span style=\"font-weight: bold\">(</span><span style=\"color: #808000; text-decoration-color: #808000\">annotation</span>=<span style=\"color: #800080; text-decoration-color: #800080\">str</span> <span style=\"color: #808000; text-decoration-color: #808000\">required</span>=<span style=\"color: #00ff00; text-decoration-color: #00ff00; font-style: italic\">True</span> <span style=\"color: #808000; text-decoration-color: #808000\">json_schema_extra</span>=<span style=\"font-weight: bold\">{</span><span style=\"color: #008000; text-decoration-color: #008000\">'__dspy_field_type'</span>: <span style=\"color: #008000; text-decoration-color: #008000\">'output'</span>, <span style=\"color: #008000; text-decoration-color: #008000\">'prefix'</span>: \n",
       "<span style=\"color: #008000; text-decoration-color: #008000\">'Answer:'</span>, <span style=\"color: #008000; text-decoration-color: #008000\">'desc'</span>: <span style=\"color: #008000; text-decoration-color: #008000\">'${answer}'</span><span style=\"font-weight: bold\">})</span>\n",
       "<span style=\"font-weight: bold\">))</span>\n",
       "</pre>\n"
      ],
      "text/plain": [
       "\u001b[1;35mChainOfThought\u001b[0m\u001b[1m(\u001b[0m\u001b[1;35mStringSignature\u001b[0m\u001b[1m(\u001b[0mquestion -> answer\n",
       "    \u001b[33minstructions\u001b[0m=\u001b[32m'Given the fields `question`, produce the fields `answer`.'\u001b[0m\n",
       "    question = \u001b[1;35mField\u001b[0m\u001b[1m(\u001b[0m\u001b[33mannotation\u001b[0m=\u001b[35mstr\u001b[0m \u001b[33mrequired\u001b[0m=\u001b[3;92mTrue\u001b[0m \u001b[33mjson_schema_extra\u001b[0m=\u001b[1m{\u001b[0m\u001b[32m'__dspy_field_type'\u001b[0m: \u001b[32m'input'\u001b[0m, \u001b[32m'prefix'\u001b[0m: \n",
       "\u001b[32m'Question:'\u001b[0m, \u001b[32m'desc'\u001b[0m: \u001b[32m'$\u001b[0m\u001b[32m{\u001b[0m\u001b[32mquestion\u001b[0m\u001b[32m}\u001b[0m\u001b[32m'\u001b[0m\u001b[1m}\u001b[0m\u001b[1m)\u001b[0m\n",
       "    answer = \u001b[1;35mField\u001b[0m\u001b[1m(\u001b[0m\u001b[33mannotation\u001b[0m=\u001b[35mstr\u001b[0m \u001b[33mrequired\u001b[0m=\u001b[3;92mTrue\u001b[0m \u001b[33mjson_schema_extra\u001b[0m=\u001b[1m{\u001b[0m\u001b[32m'__dspy_field_type'\u001b[0m: \u001b[32m'output'\u001b[0m, \u001b[32m'prefix'\u001b[0m: \n",
       "\u001b[32m'Answer:'\u001b[0m, \u001b[32m'desc'\u001b[0m: \u001b[32m'$\u001b[0m\u001b[32m{\u001b[0m\u001b[32manswer\u001b[0m\u001b[32m}\u001b[0m\u001b[32m'\u001b[0m\u001b[1m}\u001b[0m\u001b[1m)\u001b[0m\n",
       "\u001b[1m)\u001b[0m\u001b[1m)\u001b[0m\n"
      ]
     },
     "metadata": {},
     "output_type": "display_data"
    }
   ],
   "source": [
    "cot_qa = ChainOfThought(\"question -> answer\", temperature=0.3)\n",
    "print(cot_qa)"
   ]
  },
  {
   "cell_type": "code",
   "execution_count": 21,
   "id": "1a86549c",
   "metadata": {},
   "outputs": [],
   "source": [
    "response = cot_qa(question=\"What year was Cristobal Colon imprisoned and won the novel award?\")"
   ]
  },
  {
   "cell_type": "code",
   "execution_count": 22,
   "id": "63941f31",
   "metadata": {},
   "outputs": [
    {
     "data": {
      "text/html": [
       "<pre style=\"white-space:pre;overflow-x:auto;line-height:normal;font-family:Menlo,'DejaVu Sans Mono',consolas,'Courier New',monospace\"><span style=\"color: #800080; text-decoration-color: #800080; font-weight: bold\">Prediction</span><span style=\"font-weight: bold\">(</span>\n",
       "    <span style=\"color: #808000; text-decoration-color: #808000\">rationale</span>=<span style=\"color: #008000; text-decoration-color: #008000\">'produce the answer. We know that Cristobal Colon, also known as Christopher Columbus, was imprisoned</span>\n",
       "<span style=\"color: #008000; text-decoration-color: #008000\">in 1500 in Spain. However, he did not win a novel award because he was not a writer.'</span>,\n",
       "    <span style=\"color: #808000; text-decoration-color: #808000\">answer</span>=<span style=\"color: #008000; text-decoration-color: #008000\">'Cristobal Colon was imprisoned in 1500, but he did not win a novel award as he was not a writer.'</span>\n",
       "<span style=\"font-weight: bold\">)</span>\n",
       "</pre>\n"
      ],
      "text/plain": [
       "\u001b[1;35mPrediction\u001b[0m\u001b[1m(\u001b[0m\n",
       "    \u001b[33mrationale\u001b[0m=\u001b[32m'produce the answer. We know that Cristobal Colon, also known as Christopher Columbus, was imprisoned\u001b[0m\n",
       "\u001b[32min 1500 in Spain. However, he did not win a novel award because he was not a writer.'\u001b[0m,\n",
       "    \u001b[33manswer\u001b[0m=\u001b[32m'Cristobal Colon was imprisoned in 1500, but he did not win a novel award as he was not a writer.'\u001b[0m\n",
       "\u001b[1m)\u001b[0m\n"
      ]
     },
     "metadata": {},
     "output_type": "display_data"
    }
   ],
   "source": [
    "print(response)"
   ]
  },
  {
   "cell_type": "markdown",
   "id": "7528c68e",
   "metadata": {},
   "source": [
    "#### Chain Of Thought with Hint - Technique (reasoning with hints)"
   ]
  },
  {
   "cell_type": "code",
   "execution_count": 26,
   "id": "1c7be51d",
   "metadata": {},
   "outputs": [
    {
     "data": {
      "text/html": [
       "<pre style=\"white-space:pre;overflow-x:auto;line-height:normal;font-family:Menlo,'DejaVu Sans Mono',consolas,'Courier New',monospace\"><span style=\"color: #800080; text-decoration-color: #800080; font-weight: bold\">Prediction</span><span style=\"font-weight: bold\">(</span>\n",
       "    <span style=\"color: #808000; text-decoration-color: #808000\">rationale</span>=<span style=\"color: #008000; text-decoration-color: #008000\">\"Question: In the legal framework, how many weekly working hours are established for the call center </span>\n",
       "<span style=\"color: #008000; text-decoration-color: #008000\">industry?\\n\\nReasoning: Let's think step by step in order to determine the answer. Call centers are often subject </span>\n",
       "<span style=\"color: #008000; text-decoration-color: #008000\">to specific regulations due to their unique operating hours and client base.\"</span>,\n",
       "    <span style=\"color: #808000; text-decoration-color: #808000\">answer</span>=<span style=\"color: #008000; text-decoration-color: #008000\">'The legal framework typically establishes 40-hour workweeks for the call center industry.'</span>\n",
       "<span style=\"font-weight: bold\">)</span>\n",
       "</pre>\n"
      ],
      "text/plain": [
       "\u001b[1;35mPrediction\u001b[0m\u001b[1m(\u001b[0m\n",
       "    \u001b[33mrationale\u001b[0m=\u001b[32m\"Question\u001b[0m\u001b[32m: In the legal framework, how many weekly working hours are established for the call center \u001b[0m\n",
       "\u001b[32mindustry?\\n\\nReasoning: Let's think step by step in order to determine the answer. Call centers are often subject \u001b[0m\n",
       "\u001b[32mto specific regulations due to their unique operating hours and client base.\"\u001b[0m,\n",
       "    \u001b[33manswer\u001b[0m=\u001b[32m'The legal framework typically establishes 40-hour workweeks for the call center industry.'\u001b[0m\n",
       "\u001b[1m)\u001b[0m\n"
      ]
     },
     "metadata": {},
     "output_type": "display_data"
    }
   ],
   "source": [
    "question = \"In the legal framework, how many weekly working hours are established for the call center industry?\"\n",
    "hint = \"Call centers are nearshore industries based in the Caribbean and their clients are in the United States.\"\n",
    "\n",
    "coth_qa = ChainOfThoughtWithHint(\"question -> answer\")\n",
    "response = coth_qa(question=question, hint=hint)\n",
    "print(response)"
   ]
  },
  {
   "cell_type": "markdown",
   "id": "da0ae7bb",
   "metadata": {},
   "source": [
    "#### Multi Chain Comparison - technique of \"students\" and final reasonable answer"
   ]
  },
  {
   "cell_type": "code",
   "execution_count": 31,
   "id": "79d20dce",
   "metadata": {},
   "outputs": [
    {
     "data": {
      "text/html": [
       "<pre style=\"white-space:pre;overflow-x:auto;line-height:normal;font-family:Menlo,'DejaVu Sans Mono',consolas,'Courier New',monospace\"><span style=\"color: #800080; text-decoration-color: #800080; font-weight: bold\">Prediction</span><span style=\"font-weight: bold\">(</span>\n",
       "    <span style=\"color: #808000; text-decoration-color: #808000\">rationale</span>=<span style=\"color: #008000; text-decoration-color: #008000\">'correct the answers. Personality distinguishes an individual from others by describing feelings, </span>\n",
       "<span style=\"color: #008000; text-decoration-color: #008000\">thinking, and behaviors. It is the unique pattern of characteristics that defines an individual.'</span>,\n",
       "    <span style=\"color: #808000; text-decoration-color: #808000\">answer</span>=<span style=\"color: #008000; text-decoration-color: #008000\">'Personality'</span>\n",
       "<span style=\"font-weight: bold\">)</span>\n",
       "</pre>\n"
      ],
      "text/plain": [
       "\u001b[1;35mPrediction\u001b[0m\u001b[1m(\u001b[0m\n",
       "    \u001b[33mrationale\u001b[0m=\u001b[32m'correct the answers. Personality distinguishes an individual from others by describing feelings, \u001b[0m\n",
       "\u001b[32mthinking, and behaviors. It is the unique pattern of characteristics that defines an individual.'\u001b[0m,\n",
       "    \u001b[33manswer\u001b[0m=\u001b[32m'Personality'\u001b[0m\n",
       "\u001b[1m)\u001b[0m\n"
      ]
     },
     "metadata": {},
     "output_type": "display_data"
    }
   ],
   "source": [
    "completions = [\n",
    "    Prediction(rationale=\"Yes, when I visit my brother I can identify.\", answer=\"personality identification\"),\n",
    "    Prediction(rationale=\"a person who is migrating from one country to another\", answer=\"personality migration\"),\n",
    "    Prediction(rationale=\"bad friend\", answer=\"fake personality\"),\n",
    "]\n",
    "\n",
    "multichain = MultiChainComparison(\"question -> answer\")\n",
    "\n",
    "response = multichain(question=\"distinguishes an individual from others by describing feelings, thinking, and behaviors\", completions=completions)\n",
    "\n",
    "print(response)"
   ]
  },
  {
   "cell_type": "markdown",
   "id": "9b871770",
   "metadata": {},
   "source": [
    "#### ReAct (reasoning and acting)\n"
   ]
  },
  {
   "cell_type": "code",
   "execution_count": 108,
   "id": "64527677",
   "metadata": {},
   "outputs": [
    {
     "data": {
      "text/html": [
       "<pre style=\"white-space:pre;overflow-x:auto;line-height:normal;font-family:Menlo,'DejaVu Sans Mono',consolas,'Courier New',monospace\">Question: What is the real name of Batman?\n",
       "</pre>\n"
      ],
      "text/plain": [
       "Question: What is the real name of Batman?\n"
      ]
     },
     "metadata": {},
     "output_type": "display_data"
    },
    {
     "data": {
      "text/html": [
       "<pre style=\"white-space:pre;overflow-x:auto;line-height:normal;font-family:Menlo,'DejaVu Sans Mono',consolas,'Courier New',monospace\">Final Predicted Answer <span style=\"font-weight: bold\">(</span>after ReAct process<span style=\"font-weight: bold\">)</span>: \n",
       "</pre>\n"
      ],
      "text/plain": [
       "Final Predicted Answer \u001b[1m(\u001b[0mafter ReAct process\u001b[1m)\u001b[0m: \n"
      ]
     },
     "metadata": {},
     "output_type": "display_data"
    }
   ],
   "source": [
    "import dspy\n",
    "from dspy import ReAct, Signature\n",
    "from rich import print\n",
    "\n",
    "# Define a simple signature for basic question answering\n",
    "class BasicQA(dspy.Signature):\n",
    "    \"\"\"Answer questions with short factoid answers.\"\"\"\n",
    "    question = dspy.InputField()\n",
    "    answer = dspy.OutputField(desc=\"often between 1 and 5 words\")\n",
    "\n",
    "# Pass signature to ReAct module\n",
    "react_module = dspy.ReAct(BasicQA)\n",
    "\n",
    "# Call the ReAct module on a particular input\n",
    "question = 'Aside from the Apple Remote, what other devices can control the program Apple Remote was originally designed to interact with?'\n",
    "question = 'What is the real name of Batman?'\n",
    "result = react_module(question=question)\n",
    "\n",
    "print(f\"Question: {question}\")\n",
    "print(f\"Final Predicted Answer (after ReAct process): {result.answer}\")"
   ]
  },
  {
   "cell_type": "code",
   "execution_count": 113,
   "id": "054f879e",
   "metadata": {},
   "outputs": [
    {
     "data": {
      "text/plain": [
       "Prediction(\n",
       "    observations=[],\n",
       "    answer='Hey there! How can I help you today?'\n",
       ")"
      ]
     },
     "execution_count": 113,
     "metadata": {},
     "output_type": "execute_result"
    }
   ],
   "source": [
    "agent = dspy.ReAct(\"question -> answer\")\n",
    "agent(question=\"What's up!\")"
   ]
  },
  {
   "cell_type": "code",
   "execution_count": 114,
   "id": "3dc339b6",
   "metadata": {},
   "outputs": [
    {
     "data": {
      "text/plain": [
       "Prediction(\n",
       "    observations=['Failed to parse action. Bad formatting or incorrect action name.', 'Failed to parse action. Bad formatting or incorrect action name.', 'Failed to parse action. Bad formatting or incorrect action name.', 'Failed to parse action. Bad formatting or incorrect action name.', 'Failed to parse action. Bad formatting or incorrect action name.'],\n",
       "    answer=''\n",
       ")"
      ]
     },
     "execution_count": 114,
     "metadata": {},
     "output_type": "execute_result"
    }
   ],
   "source": [
    "agent(question=\"Could you help me with some basic math?\")"
   ]
  },
  {
   "cell_type": "markdown",
   "id": "65646455",
   "metadata": {},
   "source": [
    "### Data & Metrics"
   ]
  },
  {
   "cell_type": "code",
   "execution_count": 9,
   "id": "0828245f",
   "metadata": {},
   "outputs": [
    {
     "data": {
      "text/html": [
       "<pre style=\"white-space:pre;overflow-x:auto;line-height:normal;font-family:Menlo,'DejaVu Sans Mono',consolas,'Courier New',monospace\"><span style=\"color: #800080; text-decoration-color: #800080; font-weight: bold\">Example</span><span style=\"font-weight: bold\">({</span><span style=\"color: #008000; text-decoration-color: #008000\">'question'</span>: <span style=\"color: #008000; text-decoration-color: #008000\">'Whats position are open now?'</span>, <span style=\"color: #008000; text-decoration-color: #008000\">'answer'</span>: <span style=\"color: #008000; text-decoration-color: #008000\">'Agent Call Center'</span>, <span style=\"color: #008000; text-decoration-color: #008000\">'hint'</span>: <span style=\"color: #008000; text-decoration-color: #008000\">'Consult data base for </span>\n",
       "<span style=\"color: #008000; text-decoration-color: #008000\">updates on position jobs.'</span>, <span style=\"color: #008000; text-decoration-color: #008000\">'table_ref'</span>: <span style=\"color: #008000; text-decoration-color: #008000\">'hr_jobs'</span><span style=\"font-weight: bold\">})</span> <span style=\"font-weight: bold\">(</span><span style=\"color: #808000; text-decoration-color: #808000\">input_keys</span>=<span style=\"color: #800080; text-decoration-color: #800080; font-style: italic\">None</span><span style=\"font-weight: bold\">)</span>\n",
       "</pre>\n"
      ],
      "text/plain": [
       "\u001b[1;35mExample\u001b[0m\u001b[1m(\u001b[0m\u001b[1m{\u001b[0m\u001b[32m'question'\u001b[0m: \u001b[32m'Whats position are open now?'\u001b[0m, \u001b[32m'answer'\u001b[0m: \u001b[32m'Agent Call Center'\u001b[0m, \u001b[32m'hint'\u001b[0m: \u001b[32m'Consult data base for \u001b[0m\n",
       "\u001b[32mupdates on position jobs.'\u001b[0m, \u001b[32m'table_ref'\u001b[0m: \u001b[32m'hr_jobs'\u001b[0m\u001b[1m}\u001b[0m\u001b[1m)\u001b[0m \u001b[1m(\u001b[0m\u001b[33minput_keys\u001b[0m=\u001b[3;35mNone\u001b[0m\u001b[1m)\u001b[0m\n"
      ]
     },
     "metadata": {},
     "output_type": "display_data"
    }
   ],
   "source": [
    "from dspy import Example\n",
    "\n",
    "ex1 = Example(question=\"What's position are open now?\", answer=\"Agent Call Center\", hint=\"Consult data base for updates on position jobs.\", table_ref=\"hr_jobs\")\n",
    "\n",
    "print(ex1)"
   ]
  },
  {
   "cell_type": "code",
   "execution_count": 10,
   "id": "9c15ee40",
   "metadata": {},
   "outputs": [
    {
     "data": {
      "text/html": [
       "<pre style=\"white-space:pre;overflow-x:auto;line-height:normal;font-family:Menlo,'DejaVu Sans Mono',consolas,'Courier New',monospace\"><span style=\"color: #800080; text-decoration-color: #800080; font-weight: bold\">Example</span><span style=\"font-weight: bold\">({</span><span style=\"color: #008000; text-decoration-color: #008000\">'question'</span>: <span style=\"color: #008000; text-decoration-color: #008000\">'According to company rules, what is the most valuable employee?'</span>, <span style=\"color: #008000; text-decoration-color: #008000\">'answer'</span>: <span style=\"color: #008000; text-decoration-color: #008000\">'Sales Agent'</span><span style=\"font-weight: bold\">})</span> \n",
       "<span style=\"font-weight: bold\">(</span><span style=\"color: #808000; text-decoration-color: #808000\">input_keys</span>=<span style=\"font-weight: bold\">{</span><span style=\"color: #008000; text-decoration-color: #008000\">'company_rules'</span><span style=\"font-weight: bold\">})</span>\n",
       "</pre>\n"
      ],
      "text/plain": [
       "\u001b[1;35mExample\u001b[0m\u001b[1m(\u001b[0m\u001b[1m{\u001b[0m\u001b[32m'question'\u001b[0m: \u001b[32m'According to company rules, what is the most valuable employee?'\u001b[0m, \u001b[32m'answer'\u001b[0m: \u001b[32m'Sales Agent'\u001b[0m\u001b[1m}\u001b[0m\u001b[1m)\u001b[0m \n",
       "\u001b[1m(\u001b[0m\u001b[33minput_keys\u001b[0m=\u001b[1m{\u001b[0m\u001b[32m'company_rules'\u001b[0m\u001b[1m}\u001b[0m\u001b[1m)\u001b[0m\n"
      ]
     },
     "metadata": {},
     "output_type": "display_data"
    }
   ],
   "source": [
    "ex2 = Example(question=\"According to company rules, what is the most valuable employee?\", answer=\"Sales Agent\").with_inputs(\"company_rules\")\n",
    "print(ex2)"
   ]
  },
  {
   "cell_type": "code",
   "execution_count": 16,
   "id": "68b95b93",
   "metadata": {},
   "outputs": [
    {
     "data": {
      "text/plain": [
       "(Example({}) (input_keys=None),\n",
       " Example({'question': 'According to company rules, what is the most valuable employee?', 'answer': 'Sales Agent'}) (input_keys=None))"
      ]
     },
     "execution_count": 16,
     "metadata": {},
     "output_type": "execute_result"
    }
   ],
   "source": [
    "ex2.inputs(), ex2.labels()"
   ]
  },
  {
   "cell_type": "markdown",
   "id": "bf1777ea",
   "metadata": {},
   "source": [
    "#### Metrics"
   ]
  },
  {
   "cell_type": "markdown",
   "id": "82f42740",
   "metadata": {},
   "source": [
    "### Optimizers"
   ]
  },
  {
   "cell_type": "code",
   "execution_count": null,
   "id": "77e360ec",
   "metadata": {},
   "outputs": [],
   "source": []
  }
 ],
 "metadata": {
  "kernelspec": {
   "display_name": "Python 3 (ipykernel)",
   "language": "python",
   "name": "python3"
  },
  "language_info": {
   "codemirror_mode": {
    "name": "ipython",
    "version": 3
   },
   "file_extension": ".py",
   "mimetype": "text/x-python",
   "name": "python",
   "nbconvert_exporter": "python",
   "pygments_lexer": "ipython3",
   "version": "3.10.14"
  }
 },
 "nbformat": 4,
 "nbformat_minor": 5
}
