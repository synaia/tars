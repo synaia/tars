{
 "cells": [
  {
   "cell_type": "markdown",
   "id": "f7fcfbe0",
   "metadata": {},
   "source": [
    "### DSPy: Learn how to program (not prompt) language models (Full Course)"
   ]
  },
  {
   "cell_type": "markdown",
   "id": "8266fe49",
   "metadata": {},
   "source": [
    "### Basics"
   ]
  },
  {
   "cell_type": "code",
   "execution_count": 17,
   "id": "960342fb",
   "metadata": {},
   "outputs": [],
   "source": [
    "import dspy\n",
    "from dotenv import dotenv_values\n",
    "\n",
    "colbertv2_wiki = dspy.ColBERTv2(url='http://20.102.90.50:2017/wiki17_abstracts')\n",
    "\n",
    "secret = dotenv_values('../../.secret')\n",
    "llm  = dspy.OpenAI(\n",
    "    model='gpt-3.5-turbo',\n",
    "    api_key=secret['OPEN_AI_API_KEY'],\n",
    "    max_tokens=100\n",
    ")\n",
    "\n",
    "dspy.settings.configure(lm=llm, rm=colbertv2_wiki)"
   ]
  },
  {
   "cell_type": "code",
   "execution_count": 16,
   "id": "e33a2093",
   "metadata": {},
   "outputs": [
    {
     "name": "stdout",
     "output_type": "stream",
     "text": [
      "Prediction(\n",
      "    sentiment='Positive'\n",
      ")\n"
     ]
    }
   ],
   "source": [
    "# Signatures\n",
    "# text -> summary\n",
    "# text -> sentiment\n",
    "# text -> sentiment, summary\n",
    "\n",
    "text = \"I am really happy to date to take this course on DSPy.\"\n",
    "\n",
    "sentiment_predictor = dspy.Predict(\"text -> sentiment\")\n",
    "sentiment = sentiment_predictor(text=text)\n",
    "print(sentiment)"
   ]
  },
  {
   "cell_type": "code",
   "execution_count": 8,
   "id": "e926925c",
   "metadata": {},
   "outputs": [
    {
     "name": "stdout",
     "output_type": "stream",
     "text": [
      "Prediction(\n",
      "    rationale='produce the opposite text. We have the words \"sad\" and \"take this course on DSPy\" which are negative indicators. The speaker is expressing a negative emotion towards the course.',\n",
      "    sentiment='Negative',\n",
      "    opposite_text='I am really excited to start this course on DSPy.'\n",
      ")\n"
     ]
    }
   ],
   "source": [
    "class SentimentSignature(dspy.Signature):\n",
    "    \"\"\"Given a text, predict the sentiment of the text.\"\"\"\n",
    "    text = dspy.InputField(desc=\"Text to be analyzed\")\n",
    "    sentiment = dspy.OutputField(desc=\"Sentiment of the text, positive or negative.\")\n",
    "    opposite_text = dspy.OutputField(desc=\"The text with the opposite sentiment.\")\n",
    "\n",
    "\n",
    "sentiment_predictor_v2 = dspy.ChainOfThought(SentimentSignature)\n",
    "\n",
    "print(sentiment_predictor_v2(text=text))\n"
   ]
  },
  {
   "cell_type": "code",
   "execution_count": 15,
   "id": "3f62ab96",
   "metadata": {},
   "outputs": [
    {
     "name": "stdout",
     "output_type": "stream",
     "text": [
      "Prediction(\n",
      "    sentiment='Positive'\n",
      ")\n"
     ]
    }
   ],
   "source": [
    "class LieDetector(dspy.Module):\n",
    "    def __init__(self):\n",
    "        super().__init__()\n",
    "        self.lie_detector = dspy.Predict(\"text -> veracity\")\n",
    "        self.sentiment_predictor = dspy.Predict(\"text, veracity -> sentiment\")\n",
    "\n",
    "    def forward(self, text: str):\n",
    "        veracity = self.lie_detector(text=text)\n",
    "        sentiment = self.sentiment_predictor(text=text, veracity=veracity.veracity)\n",
    "        return sentiment\n",
    "\n",
    "\n",
    "text = \"I am really happy to date to take this course on DSPy.\"    \n",
    "ld = LieDetector()\n",
    "sentiment = ld(text=text)\n",
    "print(sentiment)\n",
    "    \n"
   ]
  },
  {
   "cell_type": "code",
   "execution_count": 19,
   "id": "589fea30",
   "metadata": {},
   "outputs": [
    {
     "name": "stderr",
     "output_type": "stream",
     "text": [
      "/Users/beltre.wilton/miniforge3/envs/tars_env/lib/python3.10/site-packages/datasets/table.py:1421: FutureWarning: promote has been superseded by promote_options='default'.\n",
      "  table = cls._concat_blocks(blocks, axis=0)\n"
     ]
    }
   ],
   "source": [
    "from dspy.datasets import HotPotQA\n",
    "\n",
    "dataset = HotPotQA(train_seed=1, train_size=5, eval_seed=2024, dev_size=50, test_size=0)\n",
    "\n",
    "trainset = [x.with_inputs(\"question\") for x in dataset.train]\n",
    "devset = [x.with_inputs(\"question\") for x in dataset.dev]"
   ]
  },
  {
   "cell_type": "code",
   "execution_count": 21,
   "id": "eaa1b9c7",
   "metadata": {},
   "outputs": [],
   "source": [
    "import dspy.evaluate\n",
    "\n",
    "\n",
    "class GenerateAnswer(dspy.Signature):\n",
    "    \"\"\"Answer with long and detailled answers\"\"\"\n",
    "    context = dspy.InputField(desc=\"may content relevant facts\")\n",
    "    question = dspy.InputField()\n",
    "    answer = dspy.OutputField(desc=\"often between 10 and 50 words\")\n",
    "\n",
    "class RAG(dspy.Module):\n",
    "    def __init__(self, num_passages=3):\n",
    "        super().__init__()\n",
    "        self.retrieve = dspy.Retrieve(k=num_passages)\n",
    "        self.generate_answer = dspy.ChainOfThought(GenerateAnswer)\n",
    "\n",
    "    def forward(self, question):\n",
    "        context = self.retrieve()\n",
    "        prediction = self.generate_answer(context=context, question=question)\n",
    "        return dspy.Prediction(context=context, answer=prediction.answer)\n",
    "\n",
    "\n",
    "def validate_context_and_answer(example, pred, trace=None):\n",
    "    answer_EM = dspy.evaluate.answer_exact_match(example, pred)\n",
    "    answer_PM = dspy.evaluate.answer_passage_match(example, pred)\n",
    "    return answer_EM and answer_PM\n",
    "\n",
    "\n"
   ]
  },
  {
   "cell_type": "code",
   "execution_count": null,
   "id": "c68975d1",
   "metadata": {},
   "outputs": [],
   "source": [
    "from dspy.teleprompt import BootstrapFewShot\n",
    "\n",
    "telepromter = BootstrapFewShot(metric=validate_context_and_answer)\n",
    "\n",
    "compiled_rag = telepromter.compile(RAG(), trainset=trainset)\n",
    "\n",
    "my_question = \"What castle did David Gregory inherit\"\n",
    "\n",
    "pred = compiled_rag(my_question)\n",
    "\n",
    "# Print the context and the answer.\n",
    "print(f\"QUestion: {my_question}\")\n",
    "print(f\"Predited answer: {pred.answer}\")\n",
    "print(f\"Retrieved context (truncated): {[c[:200] + \"...\" for c in pred.context]}\")"
   ]
  },
  {
   "cell_type": "markdown",
   "id": "fade4f03",
   "metadata": {},
   "source": [
    "### Building a stock analyst"
   ]
  },
  {
   "cell_type": "code",
   "execution_count": 56,
   "id": "662996a2",
   "metadata": {},
   "outputs": [],
   "source": [
    "import dspy\n",
    "from dotenv import dotenv_values\n",
    "\n",
    "secret = dotenv_values('../../.secret')\n",
    "llm  = dspy.OpenAI(\n",
    "    model='gpt-3.5-turbo',\n",
    "    api_key=secret['OPEN_AI_API_KEY'],\n",
    "    max_tokens=2000\n",
    ")\n",
    "\n",
    "dspy.settings.configure(lm=llm)\n",
    "\n",
    "# groq = dspy.GROQ(model='llama3-70b-8192', api_key=secret['GROQ_API_KEY'], max_tokens=2000)\n",
    "# dspy.settings.configure(lm=groq, )"
   ]
  },
  {
   "cell_type": "code",
   "execution_count": 53,
   "id": "6898b60c",
   "metadata": {},
   "outputs": [
    {
     "name": "stdout",
     "output_type": "stream",
     "text": [
      "Investment thesis for Tesla: Based on the news analysis and financial analysis, we recommend a **BUY** rating for Tesla (TSLA) with a target price of $55.00. Our detailed investment thesis is as follows: Tesla's attractive financing rates for its Model Y will drive increased demand and sales, while the $5.2M tax incentive for its facility in Gwinnett is a positive development. Although the vandalism incident at the Fremont factory is a minor setback, it's unlikely to affect the company's long-term prospects. Furthermore, the company's financial data reveals a healthy liquidity position, manageable debt level, high profitability, and potential undervaluation. With a current ratio of 2.15, debt-to-equity ratio of 0.65, ROE of 18.2%, and P/B ratio of 2.5, we believe the stock has potential for upside growth.\n"
     ]
    }
   ],
   "source": [
    "import requests\n",
    "from yahooquery import Ticker\n",
    "\n",
    "\n",
    "class NewsAnalizerSignatures(dspy.Signature):\n",
    "    stock_news = dspy.InputField(desc=\"News related to the stock\")\n",
    "    crafted_stock_recommendations_from_news = dspy.OutputField(desc=\"Crafted stock recommendation from the news, with pricese citation includeed\")\n",
    "\n",
    "class FinancialAnalyzerSignature(dspy.Signature):\n",
    "    financial_data = dspy.InputField(desc=\"Finantial data of the stock\")\n",
    "    crafted_stock_recommendations_from_data = dspy.OutputField(desc=\"Crafted stock recommendation from the financial data, with pricese citation includeed. Mention the numbers that support the recommendation\")\n",
    "\n",
    "class InvestorSignature(dspy.Signature):\n",
    "    news_analysis = dspy.InputField(desc=\"Crafted stock recommendations from the news, with precise citations included\")\n",
    "    financial_analysis = dspy.InputField(desc=\"Crafted stock recommendations from the financial data, with precise citations included\")\n",
    "    detailed_investment_thesis = dspy.OutputField(desc=\"Detailed investment thesis, with precise citations included. Mention the numbers that support the recommendation\")\n",
    "    \n",
    "\n",
    "\n",
    "class StockAnalyst(dspy.Module):\n",
    "    def __init__(self):\n",
    "        super().__init__()\n",
    "        self.stock_id_generator = dspy.Predict(\"company -> stock_ticker\")\n",
    "        self.news_analyzer = dspy.Predict(NewsAnalizerSignatures)\n",
    "        self.financial_analyzer = dspy.Predict(FinancialAnalyzerSignature)\n",
    "        self.investor = dspy.ChainOfThought(InvestorSignature)\n",
    "    \n",
    "    def get_company_news(self, company_name):\n",
    "        params = {\n",
    "            \"engine\": \"google\",\n",
    "            \"tbm\": \"nws\",\n",
    "            \"q\": company_name,\n",
    "            \"api_key\": secret['SERP_API_KEY']\n",
    "        }\n",
    "\n",
    "        response = requests.get(\"https://serpapi.com/search\", params=params)\n",
    "        data = response.json()\n",
    "\n",
    "        return f\"news: {data.get('news_results')}\"\n",
    "    \n",
    "    def get_financial__statements(self, ticker):\n",
    "        company = Ticker(ticker)\n",
    "        balance_sheet = company.balance_sheet().to_string()\n",
    "        cash_flow = company.cash_flow(trailing=False).to_string()\n",
    "        income_statement = company.income_statement().to_string()\n",
    "        validation_measures = str(company.valuation_measures)\n",
    "\n",
    "        input_string = (\n",
    "            f\"\"\"balance_sheet: {balance_sheet}, \n",
    "            cash_flow: {cash_flow}, \n",
    "            income_statement: {income_statement}, \n",
    "            validation_measures: {validation_measures}\"\"\"\n",
    "        )\n",
    "\n",
    "        truncated_input_string = input_string[:2000]\n",
    "\n",
    "        return truncated_input_string\n",
    "    \n",
    "    def forward(self, company):\n",
    "        ticker = self.stock_id_generator(company=company)\n",
    "        news = self.get_company_news(company)\n",
    "        financial_data = self.get_financial__statements(ticker.stock_ticker)\n",
    "        news_analysis = self.news_analyzer(stock_news=news)\n",
    "        financial_analysis = self.financial_analyzer(financial_data=financial_data)\n",
    "        return self.investor(\n",
    "            news_analysis=news_analysis.crafted_stock_recommendations_from_news,\n",
    "            financial_analysis=financial_analysis.crafted_stock_recommendations_from_data\n",
    "        )\n",
    "\n",
    "\n",
    "\n",
    "company = \"Tesla\"\n",
    "stock_analyst = StockAnalyst()\n",
    "analysis = stock_analyst(company=company)\n",
    "\n",
    "print(f\"Investment thesis for {company}: {analysis.detailed_investment_thesis}\")\n"
   ]
  },
  {
   "cell_type": "markdown",
   "id": "e60ab0e5",
   "metadata": {},
   "source": [
    "### Building a chess agent"
   ]
  },
  {
   "cell_type": "code",
   "execution_count": 120,
   "id": "ba2b2327",
   "metadata": {},
   "outputs": [],
   "source": [
    "import dspy\n",
    "from dspy.functional import TypedPredictor\n",
    "from pydantic import BaseModel, Field\n",
    "from dotenv import dotenv_values\n",
    "from rich import print\n",
    "\n",
    "import chess\n",
    "import chess.engine\n",
    "\n",
    "\n",
    "# secret = dotenv_values('../../.secret')\n",
    "# llm  = dspy.OpenAI(\n",
    "#     model='gpt-3.5-turbo',\n",
    "#     # model='gpt-4',\n",
    "#     # model='gpt-4o',\n",
    "#     api_key=secret['OPEN_AI_API_KEY'],\n",
    "#     max_tokens=2000\n",
    "# )\n",
    "\n",
    "# dspy.settings.configure(lm=llm)\n",
    "\n",
    "groq = dspy.GROQ(model='llama3-70b-8192', api_key=secret['GROQ_API_KEY'], max_tokens=2000)\n",
    "dspy.settings.configure(lm=groq, )"
   ]
  },
  {
   "cell_type": "code",
   "execution_count": null,
   "id": "dc3d53a6",
   "metadata": {},
   "outputs": [],
   "source": [
    "from IPython.display import display\n",
    "from time import sleep\n",
    "\n",
    "\n",
    "class NextMove(BaseModel):\n",
    "    move: str = Field(..., description=\"The best move to win the chess game. It should be in standard algebraic notation.\")\n",
    "    reasoning: str = Field(..., description=\"Reasoning explaining why the move is the best one.\")\n",
    "\n",
    "\n",
    "# class NextMoveSignature(dspy.Signature):\n",
    "#     random_string: str = dspy.InputField(desc=\"A random string to generate the next move.\")\n",
    "#     next_move: NextMove = dspy.OutputField()\n",
    "\n",
    "\n",
    "# next_move_predictor = TypedPredictor(NextMoveSignature)\n",
    "# print(next_move_predictor(random_string=\"I am playing chess.\"))\n",
    "\n",
    "\n",
    "class ChessAgentSignature(dspy.Signature):\n",
    "    \"\"\"Generate the best next move in the chess game given the current state of the board, legal moves, \n",
    "    history of moves so far, and feedback on the previous move generate if any.\"\"\"\n",
    "\n",
    "    board_state = dspy.InputField(desc=\"The current state of the chess board.\")\n",
    "    legal_moves = dspy.InputField(desc=\"The legal moves for the current player.\")\n",
    "    history = dspy.InputField(desc=\"The history of moves played so far the game.\")\n",
    "    feedback = dspy.InputField(desc=\"Feedback on the move previously generated.\")\n",
    "    next_move: NextMove = dspy.OutputField()\n",
    "\n",
    "\n",
    "chess_agent = TypedPredictor(ChessAgentSignature)\n",
    "\n",
    "\n",
    "# stockfish\n",
    "engine = chess.engine.SimpleEngine.popen_uci(\"/opt/homebrew/Cellar/stockfish/16.1/bin/stockfish\")\n",
    "\n",
    "def play_game():\n",
    "    moves = []\n",
    "    board = chess.Board()\n",
    "\n",
    "    def get_agent_move(board: chess.Board):\n",
    "        feedback = \"\"\n",
    "\n",
    "        while True:\n",
    "            response = chess_agent(\n",
    "                board_state=str(board),\n",
    "                legal_moves=str(board.legal_moves),\n",
    "                history=str(moves),\n",
    "                feedback=feedback,\n",
    "            )\n",
    "\n",
    "            next_move = response.next_move.move\n",
    "\n",
    "            try:\n",
    "                move = board.parse_san(next_move)\n",
    "                if move in board.legal_moves:\n",
    "                    return move\n",
    "                else:\n",
    "                    feedback = f\"Agent's generated move {next_move} is not a legal move. Should be one of {str(board.legal_moves)}\"\n",
    "            except Exception as ex:\n",
    "                feedback = f\"Failed to parse this agent's {next_move}. Error {ex}\"\n",
    "        \n",
    "    while not board.is_game_over():\n",
    "        if board.turn:\n",
    "            result = engine.play(board, chess.engine.Limit(time=1.0))\n",
    "            board.push(result.move)\n",
    "            moves.append(result.move.uci())\n",
    "        else:\n",
    "            move = get_agent_move(board)\n",
    "            board.push(move)\n",
    "            moves.append(move.uci())\n",
    "        display(board)\n",
    "        print(\"\\n\\n\")\n",
    "\n",
    "    winner = \"\"\n",
    "    if board.is_checkmate():\n",
    "        if board.turn:\n",
    "            winner = \"Black\"\n",
    "        else:\n",
    "            winner = \"White\"\n",
    "    elif board.is_stalemate() or board.is_insufficient_material() or board.is_seventyfive_moves() or board.is_fivefold_repetition() or board.is_variant_draw():\n",
    "        winner = \"Draw\"\n",
    "\n",
    "    if winner == \"Black\":\n",
    "        return (\"Agent\", \"Agent wins by checkmate!\")\n",
    "    elif winner == \"White\":\n",
    "        return (\"Stockfish\", \"Stockfish wins by checkmate!\")\n",
    "    else:\n",
    "        return (\"Draw\", \"The game is a draw!\")\n",
    "    \n",
    "n_games = 1\n",
    "results = {\n",
    "    \"Agent\": 0,\n",
    "    \"Stockfish\": 0,\n",
    "    \"Draw\": 0\n",
    "}\n",
    "\n",
    "for i in range(n_games):\n",
    "    print(f\"starting game {i+1} ...\")\n",
    "    result = play_game()\n",
    "    print(result[1])\n",
    "    results[result[0]] += 1\n",
    "    print(f\"game {i+1} completed.\")\n",
    "\n",
    "print(f\"final result after {n_games} games.\")\n",
    "print(results)\n",
    "\n",
    "\n",
    "\n",
    "        \n",
    "\n",
    "\n",
    "\n",
    "\n",
    "\n"
   ]
  },
  {
   "cell_type": "code",
   "execution_count": null,
   "id": "eb51457f",
   "metadata": {},
   "outputs": [],
   "source": [
    "#gpt-4o          next_move='Random String: I am playing chess.\\nNext Move: e4'\n",
    "#gpt-4           next_move='Move the pawn to E4.'\n",
    "#gpt-3.5-turbo   next_move='Next Move: Castle your king to safety.'\n",
    "#llama3-70b-8192 next_move='Random String: I am playing chess.\\nNext Move: Nf3'\n"
   ]
  },
  {
   "cell_type": "markdown",
   "id": "1c711b71",
   "metadata": {},
   "source": [
    "### Synthetic prompt optimization"
   ]
  },
  {
   "cell_type": "code",
   "execution_count": 129,
   "id": "fcaab132",
   "metadata": {},
   "outputs": [],
   "source": [
    "import dspy\n",
    "from dspy.functional import TypedPredictor\n",
    "from pydantic import BaseModel, Field\n",
    "from dotenv import dotenv_values\n",
    "from rich import print\n",
    "\n",
    "import chess\n",
    "import chess.engine\n",
    "\n",
    "\n",
    "secret = dotenv_values('../../.secret')\n",
    "llm  = dspy.OpenAI(\n",
    "    model='gpt-3.5-turbo',\n",
    "    # model='gpt-4',\n",
    "    # model='gpt-4o',\n",
    "    api_key=secret['OPEN_AI_API_KEY'],\n",
    "    max_tokens=2000\n",
    ")\n",
    "\n",
    "dspy.settings.configure(lm=llm)\n",
    "\n",
    "# groq = dspy.GROQ(model='llama3-70b-8192', api_key=secret['GROQ_API_KEY'], max_tokens=2000)\n",
    "# dspy.settings.configure(lm=groq, )"
   ]
  },
  {
   "cell_type": "code",
   "execution_count": 143,
   "id": "e8763d8d",
   "metadata": {},
   "outputs": [
    {
     "data": {
      "text/html": [
       "<pre style=\"white-space:pre;overflow-x:auto;line-height:normal;font-family:Menlo,'DejaVu Sans Mono',consolas,'Courier New',monospace\"><span style=\"font-weight: bold\">[</span>\n",
       "    <span style=\"color: #800080; text-decoration-color: #800080; font-weight: bold\">Example</span><span style=\"font-weight: bold\">({</span><span style=\"color: #008000; text-decoration-color: #008000\">'way_to_greet'</span>: <span style=\"color: #008000; text-decoration-color: #008000\">'Hello! How are you doing today?'</span>, <span style=\"color: #008000; text-decoration-color: #008000\">'answer'</span>: <span style=\"color: #008000; text-decoration-color: #008000\">'True'</span><span style=\"font-weight: bold\">})</span> <span style=\"font-weight: bold\">(</span><span style=\"color: #808000; text-decoration-color: #808000\">input_keys</span>=<span style=\"color: #800080; text-decoration-color: #800080; font-style: italic\">None</span><span style=\"font-weight: bold\">)</span>,\n",
       "    <span style=\"color: #800080; text-decoration-color: #800080; font-weight: bold\">Example</span><span style=\"font-weight: bold\">({</span><span style=\"color: #008000; text-decoration-color: #008000\">'way_to_greet'</span>: <span style=\"color: #008000; text-decoration-color: #008000\">'Hi! How are you doing today?'</span>, <span style=\"color: #008000; text-decoration-color: #008000\">'answer'</span>: <span style=\"color: #008000; text-decoration-color: #008000\">'True'</span><span style=\"font-weight: bold\">})</span> <span style=\"font-weight: bold\">(</span><span style=\"color: #808000; text-decoration-color: #808000\">input_keys</span>=<span style=\"color: #800080; text-decoration-color: #800080; font-style: italic\">None</span><span style=\"font-weight: bold\">)</span>,\n",
       "    <span style=\"color: #800080; text-decoration-color: #800080; font-weight: bold\">Example</span><span style=\"font-weight: bold\">({</span><span style=\"color: #008000; text-decoration-color: #008000\">'way_to_greet'</span>: <span style=\"color: #008000; text-decoration-color: #008000\">'Hi! How are you doing today?'</span>, <span style=\"color: #008000; text-decoration-color: #008000\">'answer'</span>: <span style=\"color: #008000; text-decoration-color: #008000\">'True\\n\\nSindex: Sending a GIF of a waving </span>\n",
       "<span style=\"color: #008000; text-decoration-color: #008000\">hand\\nWay To Greet: Hey there! *waves*\\nVeracity: True\\n\\nSindex: Not saying anything and just sending a \"thumbs </span>\n",
       "<span style=\"color: #008000; text-decoration-color: #008000\">up\" emoji\\nWay To Greet: 👍\\nVeracity: False'</span><span style=\"font-weight: bold\">})</span> <span style=\"font-weight: bold\">(</span><span style=\"color: #808000; text-decoration-color: #808000\">input_keys</span>=<span style=\"color: #800080; text-decoration-color: #800080; font-style: italic\">None</span><span style=\"font-weight: bold\">)</span>,\n",
       "    <span style=\"color: #800080; text-decoration-color: #800080; font-weight: bold\">Example</span><span style=\"font-weight: bold\">({</span><span style=\"color: #008000; text-decoration-color: #008000\">'way_to_greet'</span>: <span style=\"color: #008000; text-decoration-color: #008000\">'Hello! How are you doing today?'</span>, <span style=\"color: #008000; text-decoration-color: #008000\">'answer'</span>: <span style=\"color: #008000; text-decoration-color: #008000\">'True'</span><span style=\"font-weight: bold\">})</span> <span style=\"font-weight: bold\">(</span><span style=\"color: #808000; text-decoration-color: #808000\">input_keys</span>=<span style=\"color: #800080; text-decoration-color: #800080; font-style: italic\">None</span><span style=\"font-weight: bold\">)</span>,\n",
       "    <span style=\"color: #800080; text-decoration-color: #800080; font-weight: bold\">Example</span><span style=\"font-weight: bold\">({</span><span style=\"color: #008000; text-decoration-color: #008000\">'way_to_greet'</span>: <span style=\"color: #008000; text-decoration-color: #008000\">'\"Hello! How are you?\"'</span>, <span style=\"color: #008000; text-decoration-color: #008000\">'answer'</span>: <span style=\"color: #008000; text-decoration-color: #008000\">'True'</span><span style=\"font-weight: bold\">})</span> <span style=\"font-weight: bold\">(</span><span style=\"color: #808000; text-decoration-color: #808000\">input_keys</span>=<span style=\"color: #800080; text-decoration-color: #800080; font-style: italic\">None</span><span style=\"font-weight: bold\">)</span>,\n",
       "    <span style=\"color: #800080; text-decoration-color: #800080; font-weight: bold\">Example</span><span style=\"font-weight: bold\">({</span><span style=\"color: #008000; text-decoration-color: #008000\">'way_to_greet'</span>: <span style=\"color: #008000; text-decoration-color: #008000\">'\"Hey! How\\'s it going?\"'</span>, <span style=\"color: #008000; text-decoration-color: #008000\">'answer'</span>: <span style=\"color: #008000; text-decoration-color: #008000\">'True'</span><span style=\"font-weight: bold\">})</span> <span style=\"font-weight: bold\">(</span><span style=\"color: #808000; text-decoration-color: #808000\">input_keys</span>=<span style=\"color: #800080; text-decoration-color: #800080; font-style: italic\">None</span><span style=\"font-weight: bold\">)</span>,\n",
       "    <span style=\"color: #800080; text-decoration-color: #800080; font-weight: bold\">Example</span><span style=\"font-weight: bold\">({</span><span style=\"color: #008000; text-decoration-color: #008000\">'way_to_greet'</span>: <span style=\"color: #008000; text-decoration-color: #008000\">'\"Hello! How are you doing today?\"'</span>, <span style=\"color: #008000; text-decoration-color: #008000\">'answer'</span>: <span style=\"color: #008000; text-decoration-color: #008000\">'True'</span><span style=\"font-weight: bold\">})</span> <span style=\"font-weight: bold\">(</span><span style=\"color: #808000; text-decoration-color: #808000\">input_keys</span>=<span style=\"color: #800080; text-decoration-color: #800080; font-style: italic\">None</span><span style=\"font-weight: bold\">)</span>,\n",
       "    <span style=\"color: #800080; text-decoration-color: #800080; font-weight: bold\">Example</span><span style=\"font-weight: bold\">({</span><span style=\"color: #008000; text-decoration-color: #008000\">'way_to_greet'</span>: <span style=\"color: #008000; text-decoration-color: #008000\">'Hi there! How are you today?'</span>, <span style=\"color: #008000; text-decoration-color: #008000\">'answer'</span>: <span style=\"color: #008000; text-decoration-color: #008000\">'True'</span><span style=\"font-weight: bold\">})</span> <span style=\"font-weight: bold\">(</span><span style=\"color: #808000; text-decoration-color: #808000\">input_keys</span>=<span style=\"color: #800080; text-decoration-color: #800080; font-style: italic\">None</span><span style=\"font-weight: bold\">)</span>,\n",
       "    <span style=\"color: #800080; text-decoration-color: #800080; font-weight: bold\">Example</span><span style=\"font-weight: bold\">({</span><span style=\"color: #008000; text-decoration-color: #008000\">'way_to_greet'</span>: <span style=\"color: #008000; text-decoration-color: #008000\">\"Hey, how's it going?\"</span>, <span style=\"color: #008000; text-decoration-color: #008000\">'answer'</span>: <span style=\"color: #008000; text-decoration-color: #008000\">'True'</span><span style=\"font-weight: bold\">})</span> <span style=\"font-weight: bold\">(</span><span style=\"color: #808000; text-decoration-color: #808000\">input_keys</span>=<span style=\"color: #800080; text-decoration-color: #800080; font-style: italic\">None</span><span style=\"font-weight: bold\">)</span>,\n",
       "    <span style=\"color: #800080; text-decoration-color: #800080; font-weight: bold\">Example</span><span style=\"font-weight: bold\">({</span><span style=\"color: #008000; text-decoration-color: #008000\">'way_to_greet'</span>: <span style=\"color: #008000; text-decoration-color: #008000\">'Hello! How are you today?'</span>, <span style=\"color: #008000; text-decoration-color: #008000\">'answer'</span>: <span style=\"color: #008000; text-decoration-color: #008000\">'True'</span><span style=\"font-weight: bold\">})</span> <span style=\"font-weight: bold\">(</span><span style=\"color: #808000; text-decoration-color: #808000\">input_keys</span>=<span style=\"color: #800080; text-decoration-color: #800080; font-style: italic\">None</span><span style=\"font-weight: bold\">)</span>\n",
       "<span style=\"font-weight: bold\">]</span>\n",
       "</pre>\n"
      ],
      "text/plain": [
       "\u001b[1m[\u001b[0m\n",
       "    \u001b[1;35mExample\u001b[0m\u001b[1m(\u001b[0m\u001b[1m{\u001b[0m\u001b[32m'way_to_greet'\u001b[0m: \u001b[32m'Hello! How are you doing today?'\u001b[0m, \u001b[32m'answer'\u001b[0m: \u001b[32m'True'\u001b[0m\u001b[1m}\u001b[0m\u001b[1m)\u001b[0m \u001b[1m(\u001b[0m\u001b[33minput_keys\u001b[0m=\u001b[3;35mNone\u001b[0m\u001b[1m)\u001b[0m,\n",
       "    \u001b[1;35mExample\u001b[0m\u001b[1m(\u001b[0m\u001b[1m{\u001b[0m\u001b[32m'way_to_greet'\u001b[0m: \u001b[32m'Hi! How are you doing today?'\u001b[0m, \u001b[32m'answer'\u001b[0m: \u001b[32m'True'\u001b[0m\u001b[1m}\u001b[0m\u001b[1m)\u001b[0m \u001b[1m(\u001b[0m\u001b[33minput_keys\u001b[0m=\u001b[3;35mNone\u001b[0m\u001b[1m)\u001b[0m,\n",
       "    \u001b[1;35mExample\u001b[0m\u001b[1m(\u001b[0m\u001b[1m{\u001b[0m\u001b[32m'way_to_greet'\u001b[0m: \u001b[32m'Hi! How are you doing today?'\u001b[0m, \u001b[32m'answer'\u001b[0m: \u001b[32m'True\\n\\nSindex: Sending a GIF of a waving \u001b[0m\n",
       "\u001b[32mhand\\nWay To Greet: Hey there! *waves*\\nVeracity: True\\n\\nSindex: Not saying anything and just sending a \"thumbs \u001b[0m\n",
       "\u001b[32mup\" emoji\\nWay To Greet: 👍\\nVeracity: False'\u001b[0m\u001b[1m}\u001b[0m\u001b[1m)\u001b[0m \u001b[1m(\u001b[0m\u001b[33minput_keys\u001b[0m=\u001b[3;35mNone\u001b[0m\u001b[1m)\u001b[0m,\n",
       "    \u001b[1;35mExample\u001b[0m\u001b[1m(\u001b[0m\u001b[1m{\u001b[0m\u001b[32m'way_to_greet'\u001b[0m: \u001b[32m'Hello! How are you doing today?'\u001b[0m, \u001b[32m'answer'\u001b[0m: \u001b[32m'True'\u001b[0m\u001b[1m}\u001b[0m\u001b[1m)\u001b[0m \u001b[1m(\u001b[0m\u001b[33minput_keys\u001b[0m=\u001b[3;35mNone\u001b[0m\u001b[1m)\u001b[0m,\n",
       "    \u001b[1;35mExample\u001b[0m\u001b[1m(\u001b[0m\u001b[1m{\u001b[0m\u001b[32m'way_to_greet'\u001b[0m: \u001b[32m'\"Hello! How are you?\"'\u001b[0m, \u001b[32m'answer'\u001b[0m: \u001b[32m'True'\u001b[0m\u001b[1m}\u001b[0m\u001b[1m)\u001b[0m \u001b[1m(\u001b[0m\u001b[33minput_keys\u001b[0m=\u001b[3;35mNone\u001b[0m\u001b[1m)\u001b[0m,\n",
       "    \u001b[1;35mExample\u001b[0m\u001b[1m(\u001b[0m\u001b[1m{\u001b[0m\u001b[32m'way_to_greet'\u001b[0m: \u001b[32m'\"Hey! How\\'s it going?\"'\u001b[0m, \u001b[32m'answer'\u001b[0m: \u001b[32m'True'\u001b[0m\u001b[1m}\u001b[0m\u001b[1m)\u001b[0m \u001b[1m(\u001b[0m\u001b[33minput_keys\u001b[0m=\u001b[3;35mNone\u001b[0m\u001b[1m)\u001b[0m,\n",
       "    \u001b[1;35mExample\u001b[0m\u001b[1m(\u001b[0m\u001b[1m{\u001b[0m\u001b[32m'way_to_greet'\u001b[0m: \u001b[32m'\"Hello! How are you doing today?\"'\u001b[0m, \u001b[32m'answer'\u001b[0m: \u001b[32m'True'\u001b[0m\u001b[1m}\u001b[0m\u001b[1m)\u001b[0m \u001b[1m(\u001b[0m\u001b[33minput_keys\u001b[0m=\u001b[3;35mNone\u001b[0m\u001b[1m)\u001b[0m,\n",
       "    \u001b[1;35mExample\u001b[0m\u001b[1m(\u001b[0m\u001b[1m{\u001b[0m\u001b[32m'way_to_greet'\u001b[0m: \u001b[32m'Hi there! How are you today?'\u001b[0m, \u001b[32m'answer'\u001b[0m: \u001b[32m'True'\u001b[0m\u001b[1m}\u001b[0m\u001b[1m)\u001b[0m \u001b[1m(\u001b[0m\u001b[33minput_keys\u001b[0m=\u001b[3;35mNone\u001b[0m\u001b[1m)\u001b[0m,\n",
       "    \u001b[1;35mExample\u001b[0m\u001b[1m(\u001b[0m\u001b[1m{\u001b[0m\u001b[32m'way_to_greet'\u001b[0m: \u001b[32m\"Hey, how's it going?\"\u001b[0m, \u001b[32m'answer'\u001b[0m: \u001b[32m'True'\u001b[0m\u001b[1m}\u001b[0m\u001b[1m)\u001b[0m \u001b[1m(\u001b[0m\u001b[33minput_keys\u001b[0m=\u001b[3;35mNone\u001b[0m\u001b[1m)\u001b[0m,\n",
       "    \u001b[1;35mExample\u001b[0m\u001b[1m(\u001b[0m\u001b[1m{\u001b[0m\u001b[32m'way_to_greet'\u001b[0m: \u001b[32m'Hello! How are you today?'\u001b[0m, \u001b[32m'answer'\u001b[0m: \u001b[32m'True'\u001b[0m\u001b[1m}\u001b[0m\u001b[1m)\u001b[0m \u001b[1m(\u001b[0m\u001b[33minput_keys\u001b[0m=\u001b[3;35mNone\u001b[0m\u001b[1m)\u001b[0m\n",
       "\u001b[1m]\u001b[0m\n"
      ]
     },
     "metadata": {},
     "output_type": "display_data"
    }
   ],
   "source": [
    "from typing import List\n",
    "from dspy.teleprompt import BootstrapFewShot\n",
    "from dspy.evaluate import answer_exact_match\n",
    "\n",
    "\n",
    "class FactGeneration(dspy.Signature):\n",
    "    sindex = dspy.InputField(desc=\"A random string to generate a way to greet\")\n",
    "    way_to_greet = dspy.OutputField(desc=\"A way to greet someone via chat\")\n",
    "    veracity = dspy.OutputField(desc=\"The veracity of the way to greet someone via chat. Should be boolean True or False\")\n",
    "\n",
    "\n",
    "fact_generator = dspy.Predict(FactGeneration, n=10)\n",
    "\n",
    "response = fact_generator(sindex=\"Ways in which a person greets via chat\")\n",
    "\n",
    "few_shot_examples: List[dspy.Example] = [\n",
    "    dspy.Example({'way_to_greet': way_to_greet, 'answer': veracity})\n",
    "    for way_to_greet, veracity in zip(response.completions.way_to_greet, response.completions.veracity)\n",
    "]\n",
    "\n",
    "\n",
    "print(few_shot_examples)\n",
    "\n",
    "# text = \"Barack Obama was not President of the United States.\"\n",
    "# trainset = [x.with_inputs('fact') for x in few_shot_examples]\n",
    "\n",
    "# class Veracity(dspy.Signature):\n",
    "#     \"\"\"Given a fact, predict the veracity of the text.\"\"\"\n",
    "#     fact = dspy.InputField(desc=\"Fact to be analyzed\")\n",
    "#     answer = dspy.OutputField(desc=\"The veracity of the fact. Should be boolean True or False\")\n",
    "\n",
    "\n",
    "# class LieDetector(dspy.Module):\n",
    "#     def __init__(self):\n",
    "#         super().__init__()\n",
    "#         self.lie_predict = dspy.Predict(Veracity)\n",
    "\n",
    "#     def forward(self, fact: str) -> bool:\n",
    "#         return self.lie_predict(fact=fact)\n",
    "\n",
    "    \n",
    "# teleprompter = BootstrapFewShot(metric=answer_exact_match)\n",
    "\n",
    "# compiled_lie_detector = teleprompter.compile(LieDetector(), trainset=trainset)\n",
    "\n",
    "# response = compiled_lie_detector(fact=text)\n",
    "\n",
    "# print(f\"This statemetn '{text}' is {response}.\")\n"
   ]
  },
  {
   "cell_type": "markdown",
   "id": "f86a7fe1",
   "metadata": {},
   "source": [
    "### Building BabyAGI"
   ]
  },
  {
   "cell_type": "code",
   "execution_count": 169,
   "id": "8aef82b4",
   "metadata": {},
   "outputs": [],
   "source": [
    "import dspy\n",
    "from dspy.functional import TypedPredictor\n",
    "from pydantic import BaseModel, Field\n",
    "from typing import List\n",
    "from dotenv import dotenv_values\n",
    "from rich import print\n",
    "\n",
    "secret = dotenv_values('../../.secret')\n",
    "llm  = dspy.OpenAI(\n",
    "    model='gpt-3.5-turbo',\n",
    "    # model='gpt-4',\n",
    "    # model='gpt-4o',\n",
    "    api_key=secret['OPEN_AI_API_KEY'],\n",
    "    max_tokens=4096\n",
    ")\n",
    "\n",
    "dspy.settings.configure(lm=llm)\n",
    "\n",
    "# groq = dspy.GROQ(model='llama3-70b-8192', api_key=secret['GROQ_API_KEY'], max_tokens=2000)\n",
    "# dspy.settings.configure(lm=groq, )"
   ]
  },
  {
   "cell_type": "code",
   "execution_count": 180,
   "id": "ec915dbf",
   "metadata": {},
   "outputs": [
    {
     "data": {
      "text/html": [
       "<pre style=\"white-space:pre;overflow-x:auto;line-height:normal;font-family:Menlo,'DejaVu Sans Mono',consolas,'Courier New',monospace\">*****Current Tasks List:*****\n",
       "\n",
       "</pre>\n"
      ],
      "text/plain": [
       "*****Current Tasks List:*****\n",
       "\n"
      ]
     },
     "metadata": {},
     "output_type": "display_data"
    },
    {
     "data": {
      "text/html": [
       "<pre style=\"white-space:pre;overflow-x:auto;line-height:normal;font-family:Menlo,'DejaVu Sans Mono',consolas,'Courier New',monospace\">Task: Complete DSPy course, Done: <span style=\"color: #ff0000; text-decoration-color: #ff0000; font-style: italic\">False</span>, Result: \n",
       "</pre>\n"
      ],
      "text/plain": [
       "Task: Complete DSPy course, Done: \u001b[3;91mFalse\u001b[0m, Result: \n"
      ]
     },
     "metadata": {},
     "output_type": "display_data"
    },
    {
     "data": {
      "text/html": [
       "<pre style=\"white-space:pre;overflow-x:auto;line-height:normal;font-family:Menlo,'DejaVu Sans Mono',consolas,'Courier New',monospace\">Task: Take a <span style=\"color: #008080; text-decoration-color: #008080; font-weight: bold\">30</span>-minute nap, Done: <span style=\"color: #ff0000; text-decoration-color: #ff0000; font-style: italic\">False</span>, Result: \n",
       "</pre>\n"
      ],
      "text/plain": [
       "Task: Take a \u001b[1;36m30\u001b[0m-minute nap, Done: \u001b[3;91mFalse\u001b[0m, Result: \n"
      ]
     },
     "metadata": {},
     "output_type": "display_data"
    },
    {
     "data": {
      "text/html": [
       "<pre style=\"white-space:pre;overflow-x:auto;line-height:normal;font-family:Menlo,'DejaVu Sans Mono',consolas,'Courier New',monospace\">Task: Go out to buy cookies, Done: <span style=\"color: #ff0000; text-decoration-color: #ff0000; font-style: italic\">False</span>, Result: \n",
       "</pre>\n"
      ],
      "text/plain": [
       "Task: Go out to buy cookies, Done: \u001b[3;91mFalse\u001b[0m, Result: \n"
      ]
     },
     "metadata": {},
     "output_type": "display_data"
    },
    {
     "data": {
      "text/html": [
       "<pre style=\"white-space:pre;overflow-x:auto;line-height:normal;font-family:Menlo,'DejaVu Sans Mono',consolas,'Courier New',monospace\">Task: Complete DSPy course, Done: <span style=\"color: #00ff00; text-decoration-color: #00ff00; font-style: italic\">True</span>, Result: Task: <span style=\"font-weight: bold\">{</span><span style=\"color: #008000; text-decoration-color: #008000\">\"name\"</span>:<span style=\"color: #008000; text-decoration-color: #008000\">\"Complete DSPy course\"</span>,<span style=\"color: #008000; text-decoration-color: #008000\">\"done\"</span>:true,<span style=\"color: #008000; text-decoration-color: #008000\">\"result\"</span>:<span style=\"color: #008000; text-decoration-color: #008000\">\"Finished</span>\n",
       "<span style=\"color: #008000; text-decoration-color: #008000\">the DSPy course by 7:30pm.\"</span><span style=\"font-weight: bold\">}</span>\n",
       "</pre>\n"
      ],
      "text/plain": [
       "Task: Complete DSPy course, Done: \u001b[3;92mTrue\u001b[0m, Result: Task: \u001b[1m{\u001b[0m\u001b[32m\"name\"\u001b[0m:\u001b[32m\"Complete DSPy course\"\u001b[0m,\u001b[32m\"done\"\u001b[0m:true,\u001b[32m\"result\"\u001b[0m:\u001b[32m\"Finished\u001b[0m\n",
       "\u001b[32mthe DSPy course by 7:30pm.\"\u001b[0m\u001b[1m}\u001b[0m\n"
      ]
     },
     "metadata": {},
     "output_type": "display_data"
    },
    {
     "data": {
      "text/html": [
       "<pre style=\"white-space:pre;overflow-x:auto;line-height:normal;font-family:Menlo,'DejaVu Sans Mono',consolas,'Courier New',monospace\">Task: Take a <span style=\"color: #008080; text-decoration-color: #008080; font-weight: bold\">30</span>-minute nap, Done: <span style=\"color: #00ff00; text-decoration-color: #00ff00; font-style: italic\">True</span>, Result: Task: <span style=\"font-weight: bold\">{</span><span style=\"color: #008000; text-decoration-color: #008000\">\"name\"</span>:<span style=\"color: #008000; text-decoration-color: #008000\">\"Finish DSPy course by 8pm\"</span>,<span style=\"color: #008000; text-decoration-color: #008000\">\"done\"</span>:false,<span style=\"color: #008000; text-decoration-color: #008000\">\"result\"</span>:<span style=\"color: #008000; text-decoration-color: #008000\">\"\"</span><span style=\"font-weight: bold\">}</span>\n",
       "\n",
       "Task: <span style=\"font-weight: bold\">{</span><span style=\"color: #008000; text-decoration-color: #008000\">\"name\"</span>:<span style=\"color: #008000; text-decoration-color: #008000\">\"Go out to buy cookies at 3pm\"</span>,<span style=\"color: #008000; text-decoration-color: #008000\">\"done\"</span>:false,<span style=\"color: #008000; text-decoration-color: #008000\">\"result\"</span>:<span style=\"color: #008000; text-decoration-color: #008000\">\"\"</span><span style=\"font-weight: bold\">}</span>\n",
       "\n",
       "Result: The tasks have been organized in the most optimal way.\n",
       "</pre>\n"
      ],
      "text/plain": [
       "Task: Take a \u001b[1;36m30\u001b[0m-minute nap, Done: \u001b[3;92mTrue\u001b[0m, Result: Task: \u001b[1m{\u001b[0m\u001b[32m\"name\"\u001b[0m:\u001b[32m\"Finish DSPy course by 8pm\"\u001b[0m,\u001b[32m\"done\"\u001b[0m:false,\u001b[32m\"result\"\u001b[0m:\u001b[32m\"\"\u001b[0m\u001b[1m}\u001b[0m\n",
       "\n",
       "Task: \u001b[1m{\u001b[0m\u001b[32m\"name\"\u001b[0m:\u001b[32m\"Go out to buy cookies at 3pm\"\u001b[0m,\u001b[32m\"done\"\u001b[0m:false,\u001b[32m\"result\"\u001b[0m:\u001b[32m\"\"\u001b[0m\u001b[1m}\u001b[0m\n",
       "\n",
       "Result: The tasks have been organized in the most optimal way.\n"
      ]
     },
     "metadata": {},
     "output_type": "display_data"
    },
    {
     "data": {
      "text/html": [
       "<pre style=\"white-space:pre;overflow-x:auto;line-height:normal;font-family:Menlo,'DejaVu Sans Mono',consolas,'Courier New',monospace\">Task: Go out to buy cookies, Done: <span style=\"color: #00ff00; text-decoration-color: #00ff00; font-style: italic\">True</span>, Result: Task completed. Cookies bought.\n",
       "</pre>\n"
      ],
      "text/plain": [
       "Task: Go out to buy cookies, Done: \u001b[3;92mTrue\u001b[0m, Result: Task completed. Cookies bought.\n"
      ]
     },
     "metadata": {},
     "output_type": "display_data"
    },
    {
     "data": {
      "text/html": [
       "<pre style=\"white-space:pre;overflow-x:auto;line-height:normal;font-family:Menlo,'DejaVu Sans Mono',consolas,'Courier New',monospace\">*****Current Tasks List:*****\n",
       "\n",
       "</pre>\n"
      ],
      "text/plain": [
       "*****Current Tasks List:*****\n",
       "\n"
      ]
     },
     "metadata": {},
     "output_type": "display_data"
    },
    {
     "data": {
      "text/html": [
       "<pre style=\"white-space:pre;overflow-x:auto;line-height:normal;font-family:Menlo,'DejaVu Sans Mono',consolas,'Courier New',monospace\">Task: Complete DSPy course, Done: <span style=\"color: #00ff00; text-decoration-color: #00ff00; font-style: italic\">True</span>, Result: Task: <span style=\"font-weight: bold\">{</span><span style=\"color: #008000; text-decoration-color: #008000\">\"name\"</span>:<span style=\"color: #008000; text-decoration-color: #008000\">\"Complete DSPy course\"</span>,<span style=\"color: #008000; text-decoration-color: #008000\">\"done\"</span>:true,<span style=\"color: #008000; text-decoration-color: #008000\">\"result\"</span>:<span style=\"color: #008000; text-decoration-color: #008000\">\"Finished</span>\n",
       "<span style=\"color: #008000; text-decoration-color: #008000\">the DSPy course by 7:30pm.\"</span><span style=\"font-weight: bold\">}</span>\n",
       "</pre>\n"
      ],
      "text/plain": [
       "Task: Complete DSPy course, Done: \u001b[3;92mTrue\u001b[0m, Result: Task: \u001b[1m{\u001b[0m\u001b[32m\"name\"\u001b[0m:\u001b[32m\"Complete DSPy course\"\u001b[0m,\u001b[32m\"done\"\u001b[0m:true,\u001b[32m\"result\"\u001b[0m:\u001b[32m\"Finished\u001b[0m\n",
       "\u001b[32mthe DSPy course by 7:30pm.\"\u001b[0m\u001b[1m}\u001b[0m\n"
      ]
     },
     "metadata": {},
     "output_type": "display_data"
    },
    {
     "data": {
      "text/html": [
       "<pre style=\"white-space:pre;overflow-x:auto;line-height:normal;font-family:Menlo,'DejaVu Sans Mono',consolas,'Courier New',monospace\">Task: Take a <span style=\"color: #008080; text-decoration-color: #008080; font-weight: bold\">30</span>-minute nap, Done: <span style=\"color: #00ff00; text-decoration-color: #00ff00; font-style: italic\">True</span>, Result: Task: <span style=\"font-weight: bold\">{</span><span style=\"color: #008000; text-decoration-color: #008000\">\"name\"</span>:<span style=\"color: #008000; text-decoration-color: #008000\">\"Finish DSPy course by 8pm\"</span>,<span style=\"color: #008000; text-decoration-color: #008000\">\"done\"</span>:false,<span style=\"color: #008000; text-decoration-color: #008000\">\"result\"</span>:<span style=\"color: #008000; text-decoration-color: #008000\">\"\"</span><span style=\"font-weight: bold\">}</span>\n",
       "\n",
       "Task: <span style=\"font-weight: bold\">{</span><span style=\"color: #008000; text-decoration-color: #008000\">\"name\"</span>:<span style=\"color: #008000; text-decoration-color: #008000\">\"Go out to buy cookies at 3pm\"</span>,<span style=\"color: #008000; text-decoration-color: #008000\">\"done\"</span>:false,<span style=\"color: #008000; text-decoration-color: #008000\">\"result\"</span>:<span style=\"color: #008000; text-decoration-color: #008000\">\"\"</span><span style=\"font-weight: bold\">}</span>\n",
       "\n",
       "Result: The tasks have been organized in the most optimal way.\n",
       "</pre>\n"
      ],
      "text/plain": [
       "Task: Take a \u001b[1;36m30\u001b[0m-minute nap, Done: \u001b[3;92mTrue\u001b[0m, Result: Task: \u001b[1m{\u001b[0m\u001b[32m\"name\"\u001b[0m:\u001b[32m\"Finish DSPy course by 8pm\"\u001b[0m,\u001b[32m\"done\"\u001b[0m:false,\u001b[32m\"result\"\u001b[0m:\u001b[32m\"\"\u001b[0m\u001b[1m}\u001b[0m\n",
       "\n",
       "Task: \u001b[1m{\u001b[0m\u001b[32m\"name\"\u001b[0m:\u001b[32m\"Go out to buy cookies at 3pm\"\u001b[0m,\u001b[32m\"done\"\u001b[0m:false,\u001b[32m\"result\"\u001b[0m:\u001b[32m\"\"\u001b[0m\u001b[1m}\u001b[0m\n",
       "\n",
       "Result: The tasks have been organized in the most optimal way.\n"
      ]
     },
     "metadata": {},
     "output_type": "display_data"
    },
    {
     "data": {
      "text/html": [
       "<pre style=\"white-space:pre;overflow-x:auto;line-height:normal;font-family:Menlo,'DejaVu Sans Mono',consolas,'Courier New',monospace\">Task: Go out to buy cookies, Done: <span style=\"color: #00ff00; text-decoration-color: #00ff00; font-style: italic\">True</span>, Result: Task completed. Cookies bought.\n",
       "</pre>\n"
      ],
      "text/plain": [
       "Task: Go out to buy cookies, Done: \u001b[3;92mTrue\u001b[0m, Result: Task completed. Cookies bought.\n"
      ]
     },
     "metadata": {},
     "output_type": "display_data"
    },
    {
     "data": {
      "text/html": [
       "<pre style=\"white-space:pre;overflow-x:auto;line-height:normal;font-family:Menlo,'DejaVu Sans Mono',consolas,'Courier New',monospace\">*****Current Tasks List:*****\n",
       "\n",
       "</pre>\n"
      ],
      "text/plain": [
       "*****Current Tasks List:*****\n",
       "\n"
      ]
     },
     "metadata": {},
     "output_type": "display_data"
    },
    {
     "data": {
      "text/html": [
       "<pre style=\"white-space:pre;overflow-x:auto;line-height:normal;font-family:Menlo,'DejaVu Sans Mono',consolas,'Courier New',monospace\">Task: Complete DSPy course, Done: <span style=\"color: #00ff00; text-decoration-color: #00ff00; font-style: italic\">True</span>, Result: Task: <span style=\"font-weight: bold\">{</span><span style=\"color: #008000; text-decoration-color: #008000\">\"name\"</span>:<span style=\"color: #008000; text-decoration-color: #008000\">\"Complete DSPy course\"</span>,<span style=\"color: #008000; text-decoration-color: #008000\">\"done\"</span>:true,<span style=\"color: #008000; text-decoration-color: #008000\">\"result\"</span>:<span style=\"color: #008000; text-decoration-color: #008000\">\"Finished</span>\n",
       "<span style=\"color: #008000; text-decoration-color: #008000\">the DSPy course by 7:30pm.\"</span><span style=\"font-weight: bold\">}</span>\n",
       "</pre>\n"
      ],
      "text/plain": [
       "Task: Complete DSPy course, Done: \u001b[3;92mTrue\u001b[0m, Result: Task: \u001b[1m{\u001b[0m\u001b[32m\"name\"\u001b[0m:\u001b[32m\"Complete DSPy course\"\u001b[0m,\u001b[32m\"done\"\u001b[0m:true,\u001b[32m\"result\"\u001b[0m:\u001b[32m\"Finished\u001b[0m\n",
       "\u001b[32mthe DSPy course by 7:30pm.\"\u001b[0m\u001b[1m}\u001b[0m\n"
      ]
     },
     "metadata": {},
     "output_type": "display_data"
    },
    {
     "data": {
      "text/html": [
       "<pre style=\"white-space:pre;overflow-x:auto;line-height:normal;font-family:Menlo,'DejaVu Sans Mono',consolas,'Courier New',monospace\">Task: Take a <span style=\"color: #008080; text-decoration-color: #008080; font-weight: bold\">30</span>-minute nap, Done: <span style=\"color: #00ff00; text-decoration-color: #00ff00; font-style: italic\">True</span>, Result: Task: <span style=\"font-weight: bold\">{</span><span style=\"color: #008000; text-decoration-color: #008000\">\"name\"</span>:<span style=\"color: #008000; text-decoration-color: #008000\">\"Finish DSPy course by 8pm\"</span>,<span style=\"color: #008000; text-decoration-color: #008000\">\"done\"</span>:false,<span style=\"color: #008000; text-decoration-color: #008000\">\"result\"</span>:<span style=\"color: #008000; text-decoration-color: #008000\">\"\"</span><span style=\"font-weight: bold\">}</span>\n",
       "\n",
       "Task: <span style=\"font-weight: bold\">{</span><span style=\"color: #008000; text-decoration-color: #008000\">\"name\"</span>:<span style=\"color: #008000; text-decoration-color: #008000\">\"Go out to buy cookies at 3pm\"</span>,<span style=\"color: #008000; text-decoration-color: #008000\">\"done\"</span>:false,<span style=\"color: #008000; text-decoration-color: #008000\">\"result\"</span>:<span style=\"color: #008000; text-decoration-color: #008000\">\"\"</span><span style=\"font-weight: bold\">}</span>\n",
       "\n",
       "Result: The tasks have been organized in the most optimal way.\n",
       "</pre>\n"
      ],
      "text/plain": [
       "Task: Take a \u001b[1;36m30\u001b[0m-minute nap, Done: \u001b[3;92mTrue\u001b[0m, Result: Task: \u001b[1m{\u001b[0m\u001b[32m\"name\"\u001b[0m:\u001b[32m\"Finish DSPy course by 8pm\"\u001b[0m,\u001b[32m\"done\"\u001b[0m:false,\u001b[32m\"result\"\u001b[0m:\u001b[32m\"\"\u001b[0m\u001b[1m}\u001b[0m\n",
       "\n",
       "Task: \u001b[1m{\u001b[0m\u001b[32m\"name\"\u001b[0m:\u001b[32m\"Go out to buy cookies at 3pm\"\u001b[0m,\u001b[32m\"done\"\u001b[0m:false,\u001b[32m\"result\"\u001b[0m:\u001b[32m\"\"\u001b[0m\u001b[1m}\u001b[0m\n",
       "\n",
       "Result: The tasks have been organized in the most optimal way.\n"
      ]
     },
     "metadata": {},
     "output_type": "display_data"
    },
    {
     "data": {
      "text/html": [
       "<pre style=\"white-space:pre;overflow-x:auto;line-height:normal;font-family:Menlo,'DejaVu Sans Mono',consolas,'Courier New',monospace\">Task: Go out to buy cookies, Done: <span style=\"color: #00ff00; text-decoration-color: #00ff00; font-style: italic\">True</span>, Result: The to-do list has been organized with the following tasks:\n",
       "<span style=\"color: #008080; text-decoration-color: #008080; font-weight: bold\">1</span>. Study DSPy course until <span style=\"color: #008080; text-decoration-color: #008080; font-weight: bold\">3</span> pm\n",
       "<span style=\"color: #008080; text-decoration-color: #008080; font-weight: bold\">2</span>. Go out to buy cookies at <span style=\"color: #008080; text-decoration-color: #008080; font-weight: bold\">3</span> pm\n",
       "<span style=\"color: #008080; text-decoration-color: #008080; font-weight: bold\">3</span>. Continue studying DSPy course until <span style=\"color: #008080; text-decoration-color: #008080; font-weight: bold\">8</span> pm\n",
       "<span style=\"color: #008080; text-decoration-color: #008080; font-weight: bold\">4</span>. Take a <span style=\"color: #008080; text-decoration-color: #008080; font-weight: bold\">30</span>-minute break before going to sleep\n",
       "</pre>\n"
      ],
      "text/plain": [
       "Task: Go out to buy cookies, Done: \u001b[3;92mTrue\u001b[0m, Result: The to-do list has been organized with the following tasks:\n",
       "\u001b[1;36m1\u001b[0m. Study DSPy course until \u001b[1;36m3\u001b[0m pm\n",
       "\u001b[1;36m2\u001b[0m. Go out to buy cookies at \u001b[1;36m3\u001b[0m pm\n",
       "\u001b[1;36m3\u001b[0m. Continue studying DSPy course until \u001b[1;36m8\u001b[0m pm\n",
       "\u001b[1;36m4\u001b[0m. Take a \u001b[1;36m30\u001b[0m-minute break before going to sleep\n"
      ]
     },
     "metadata": {},
     "output_type": "display_data"
    },
    {
     "data": {
      "text/html": [
       "<pre style=\"white-space:pre;overflow-x:auto;line-height:normal;font-family:Menlo,'DejaVu Sans Mono',consolas,'Courier New',monospace\">Task: Organize tasks in a to-do list, Done: <span style=\"color: #ff0000; text-decoration-color: #ff0000; font-style: italic\">False</span>, Result: \n",
       "</pre>\n"
      ],
      "text/plain": [
       "Task: Organize tasks in a to-do list, Done: \u001b[3;91mFalse\u001b[0m, Result: \n"
      ]
     },
     "metadata": {},
     "output_type": "display_data"
    },
    {
     "data": {
      "text/html": [
       "<pre style=\"white-space:pre;overflow-x:auto;line-height:normal;font-family:Menlo,'DejaVu Sans Mono',consolas,'Courier New',monospace\">*****Current Tasks List:*****\n",
       "\n",
       "</pre>\n"
      ],
      "text/plain": [
       "*****Current Tasks List:*****\n",
       "\n"
      ]
     },
     "metadata": {},
     "output_type": "display_data"
    },
    {
     "data": {
      "text/html": [
       "<pre style=\"white-space:pre;overflow-x:auto;line-height:normal;font-family:Menlo,'DejaVu Sans Mono',consolas,'Courier New',monospace\">Task: Complete DSPy course, Done: <span style=\"color: #00ff00; text-decoration-color: #00ff00; font-style: italic\">True</span>, Result: Task: <span style=\"font-weight: bold\">{</span><span style=\"color: #008000; text-decoration-color: #008000\">\"name\"</span>:<span style=\"color: #008000; text-decoration-color: #008000\">\"Complete DSPy course\"</span>,<span style=\"color: #008000; text-decoration-color: #008000\">\"done\"</span>:true,<span style=\"color: #008000; text-decoration-color: #008000\">\"result\"</span>:<span style=\"color: #008000; text-decoration-color: #008000\">\"Finished</span>\n",
       "<span style=\"color: #008000; text-decoration-color: #008000\">the DSPy course by 7:30pm.\"</span><span style=\"font-weight: bold\">}</span>\n",
       "</pre>\n"
      ],
      "text/plain": [
       "Task: Complete DSPy course, Done: \u001b[3;92mTrue\u001b[0m, Result: Task: \u001b[1m{\u001b[0m\u001b[32m\"name\"\u001b[0m:\u001b[32m\"Complete DSPy course\"\u001b[0m,\u001b[32m\"done\"\u001b[0m:true,\u001b[32m\"result\"\u001b[0m:\u001b[32m\"Finished\u001b[0m\n",
       "\u001b[32mthe DSPy course by 7:30pm.\"\u001b[0m\u001b[1m}\u001b[0m\n"
      ]
     },
     "metadata": {},
     "output_type": "display_data"
    },
    {
     "data": {
      "text/html": [
       "<pre style=\"white-space:pre;overflow-x:auto;line-height:normal;font-family:Menlo,'DejaVu Sans Mono',consolas,'Courier New',monospace\">Task: Take a <span style=\"color: #008080; text-decoration-color: #008080; font-weight: bold\">30</span>-minute nap, Done: <span style=\"color: #00ff00; text-decoration-color: #00ff00; font-style: italic\">True</span>, Result: Task: <span style=\"font-weight: bold\">{</span><span style=\"color: #008000; text-decoration-color: #008000\">\"name\"</span>:<span style=\"color: #008000; text-decoration-color: #008000\">\"Finish DSPy course by 8pm\"</span>,<span style=\"color: #008000; text-decoration-color: #008000\">\"done\"</span>:false,<span style=\"color: #008000; text-decoration-color: #008000\">\"result\"</span>:<span style=\"color: #008000; text-decoration-color: #008000\">\"\"</span><span style=\"font-weight: bold\">}</span>\n",
       "\n",
       "Task: <span style=\"font-weight: bold\">{</span><span style=\"color: #008000; text-decoration-color: #008000\">\"name\"</span>:<span style=\"color: #008000; text-decoration-color: #008000\">\"Go out to buy cookies at 3pm\"</span>,<span style=\"color: #008000; text-decoration-color: #008000\">\"done\"</span>:false,<span style=\"color: #008000; text-decoration-color: #008000\">\"result\"</span>:<span style=\"color: #008000; text-decoration-color: #008000\">\"\"</span><span style=\"font-weight: bold\">}</span>\n",
       "\n",
       "Result: The tasks have been organized in the most optimal way.\n",
       "</pre>\n"
      ],
      "text/plain": [
       "Task: Take a \u001b[1;36m30\u001b[0m-minute nap, Done: \u001b[3;92mTrue\u001b[0m, Result: Task: \u001b[1m{\u001b[0m\u001b[32m\"name\"\u001b[0m:\u001b[32m\"Finish DSPy course by 8pm\"\u001b[0m,\u001b[32m\"done\"\u001b[0m:false,\u001b[32m\"result\"\u001b[0m:\u001b[32m\"\"\u001b[0m\u001b[1m}\u001b[0m\n",
       "\n",
       "Task: \u001b[1m{\u001b[0m\u001b[32m\"name\"\u001b[0m:\u001b[32m\"Go out to buy cookies at 3pm\"\u001b[0m,\u001b[32m\"done\"\u001b[0m:false,\u001b[32m\"result\"\u001b[0m:\u001b[32m\"\"\u001b[0m\u001b[1m}\u001b[0m\n",
       "\n",
       "Result: The tasks have been organized in the most optimal way.\n"
      ]
     },
     "metadata": {},
     "output_type": "display_data"
    },
    {
     "data": {
      "text/html": [
       "<pre style=\"white-space:pre;overflow-x:auto;line-height:normal;font-family:Menlo,'DejaVu Sans Mono',consolas,'Courier New',monospace\">Task: Go out to buy cookies, Done: <span style=\"color: #00ff00; text-decoration-color: #00ff00; font-style: italic\">True</span>, Result: <span style=\"font-weight: bold\">{</span><span style=\"color: #008000; text-decoration-color: #008000\">\"name\"</span>:<span style=\"color: #008000; text-decoration-color: #008000\">\"Study DSPy course until 3 </span>\n",
       "<span style=\"color: #008000; text-decoration-color: #008000\">pm\"</span>,<span style=\"color: #008000; text-decoration-color: #008000\">\"done\"</span>:true,<span style=\"color: #008000; text-decoration-color: #008000\">\"result\"</span>:<span style=\"color: #008000; text-decoration-color: #008000\">\"Course material reviewed and understood\"</span><span style=\"font-weight: bold\">}</span>\n",
       "</pre>\n"
      ],
      "text/plain": [
       "Task: Go out to buy cookies, Done: \u001b[3;92mTrue\u001b[0m, Result: \u001b[1m{\u001b[0m\u001b[32m\"name\"\u001b[0m:\u001b[32m\"Study DSPy course until 3 \u001b[0m\n",
       "\u001b[32mpm\"\u001b[0m,\u001b[32m\"done\"\u001b[0m:true,\u001b[32m\"result\"\u001b[0m:\u001b[32m\"Course material reviewed and understood\"\u001b[0m\u001b[1m}\u001b[0m\n"
      ]
     },
     "metadata": {},
     "output_type": "display_data"
    },
    {
     "data": {
      "text/html": [
       "<pre style=\"white-space:pre;overflow-x:auto;line-height:normal;font-family:Menlo,'DejaVu Sans Mono',consolas,'Courier New',monospace\">Task: Organize tasks in a to-do list, Done: <span style=\"color: #ff0000; text-decoration-color: #ff0000; font-style: italic\">False</span>, Result: \n",
       "</pre>\n"
      ],
      "text/plain": [
       "Task: Organize tasks in a to-do list, Done: \u001b[3;91mFalse\u001b[0m, Result: \n"
      ]
     },
     "metadata": {},
     "output_type": "display_data"
    },
    {
     "data": {
      "text/html": [
       "<pre style=\"white-space:pre;overflow-x:auto;line-height:normal;font-family:Menlo,'DejaVu Sans Mono',consolas,'Courier New',monospace\">Task: Study DSPy course until <span style=\"color: #008080; text-decoration-color: #008080; font-weight: bold\">3</span> pm, Done: <span style=\"color: #ff0000; text-decoration-color: #ff0000; font-style: italic\">False</span>, Result: \n",
       "</pre>\n"
      ],
      "text/plain": [
       "Task: Study DSPy course until \u001b[1;36m3\u001b[0m pm, Done: \u001b[3;91mFalse\u001b[0m, Result: \n"
      ]
     },
     "metadata": {},
     "output_type": "display_data"
    },
    {
     "data": {
      "text/html": [
       "<pre style=\"white-space:pre;overflow-x:auto;line-height:normal;font-family:Menlo,'DejaVu Sans Mono',consolas,'Courier New',monospace\">*****Current Tasks List:*****\n",
       "\n",
       "</pre>\n"
      ],
      "text/plain": [
       "*****Current Tasks List:*****\n",
       "\n"
      ]
     },
     "metadata": {},
     "output_type": "display_data"
    },
    {
     "data": {
      "text/html": [
       "<pre style=\"white-space:pre;overflow-x:auto;line-height:normal;font-family:Menlo,'DejaVu Sans Mono',consolas,'Courier New',monospace\">Task: Complete DSPy course, Done: <span style=\"color: #00ff00; text-decoration-color: #00ff00; font-style: italic\">True</span>, Result: Task: <span style=\"font-weight: bold\">{</span><span style=\"color: #008000; text-decoration-color: #008000\">\"name\"</span>:<span style=\"color: #008000; text-decoration-color: #008000\">\"Complete DSPy course\"</span>,<span style=\"color: #008000; text-decoration-color: #008000\">\"done\"</span>:true,<span style=\"color: #008000; text-decoration-color: #008000\">\"result\"</span>:<span style=\"color: #008000; text-decoration-color: #008000\">\"Finished</span>\n",
       "<span style=\"color: #008000; text-decoration-color: #008000\">the DSPy course by 7:30pm.\"</span><span style=\"font-weight: bold\">}</span>\n",
       "</pre>\n"
      ],
      "text/plain": [
       "Task: Complete DSPy course, Done: \u001b[3;92mTrue\u001b[0m, Result: Task: \u001b[1m{\u001b[0m\u001b[32m\"name\"\u001b[0m:\u001b[32m\"Complete DSPy course\"\u001b[0m,\u001b[32m\"done\"\u001b[0m:true,\u001b[32m\"result\"\u001b[0m:\u001b[32m\"Finished\u001b[0m\n",
       "\u001b[32mthe DSPy course by 7:30pm.\"\u001b[0m\u001b[1m}\u001b[0m\n"
      ]
     },
     "metadata": {},
     "output_type": "display_data"
    },
    {
     "data": {
      "text/html": [
       "<pre style=\"white-space:pre;overflow-x:auto;line-height:normal;font-family:Menlo,'DejaVu Sans Mono',consolas,'Courier New',monospace\">Task: Take a <span style=\"color: #008080; text-decoration-color: #008080; font-weight: bold\">30</span>-minute nap, Done: <span style=\"color: #00ff00; text-decoration-color: #00ff00; font-style: italic\">True</span>, Result: Task: <span style=\"font-weight: bold\">{</span><span style=\"color: #008000; text-decoration-color: #008000\">\"name\"</span>:<span style=\"color: #008000; text-decoration-color: #008000\">\"Finish DSPy course by 8pm\"</span>,<span style=\"color: #008000; text-decoration-color: #008000\">\"done\"</span>:false,<span style=\"color: #008000; text-decoration-color: #008000\">\"result\"</span>:<span style=\"color: #008000; text-decoration-color: #008000\">\"\"</span><span style=\"font-weight: bold\">}</span>\n",
       "\n",
       "Task: <span style=\"font-weight: bold\">{</span><span style=\"color: #008000; text-decoration-color: #008000\">\"name\"</span>:<span style=\"color: #008000; text-decoration-color: #008000\">\"Go out to buy cookies at 3pm\"</span>,<span style=\"color: #008000; text-decoration-color: #008000\">\"done\"</span>:false,<span style=\"color: #008000; text-decoration-color: #008000\">\"result\"</span>:<span style=\"color: #008000; text-decoration-color: #008000\">\"\"</span><span style=\"font-weight: bold\">}</span>\n",
       "\n",
       "Result: The tasks have been organized in the most optimal way.\n",
       "</pre>\n"
      ],
      "text/plain": [
       "Task: Take a \u001b[1;36m30\u001b[0m-minute nap, Done: \u001b[3;92mTrue\u001b[0m, Result: Task: \u001b[1m{\u001b[0m\u001b[32m\"name\"\u001b[0m:\u001b[32m\"Finish DSPy course by 8pm\"\u001b[0m,\u001b[32m\"done\"\u001b[0m:false,\u001b[32m\"result\"\u001b[0m:\u001b[32m\"\"\u001b[0m\u001b[1m}\u001b[0m\n",
       "\n",
       "Task: \u001b[1m{\u001b[0m\u001b[32m\"name\"\u001b[0m:\u001b[32m\"Go out to buy cookies at 3pm\"\u001b[0m,\u001b[32m\"done\"\u001b[0m:false,\u001b[32m\"result\"\u001b[0m:\u001b[32m\"\"\u001b[0m\u001b[1m}\u001b[0m\n",
       "\n",
       "Result: The tasks have been organized in the most optimal way.\n"
      ]
     },
     "metadata": {},
     "output_type": "display_data"
    },
    {
     "data": {
      "text/html": [
       "<pre style=\"white-space:pre;overflow-x:auto;line-height:normal;font-family:Menlo,'DejaVu Sans Mono',consolas,'Courier New',monospace\">Task: Go out to buy cookies, Done: <span style=\"color: #00ff00; text-decoration-color: #00ff00; font-style: italic\">True</span>, Result: To-Do List:\n",
       "<span style=\"color: #008080; text-decoration-color: #008080; font-weight: bold\">1</span>. Study DSPy course material from 8am to 3pm.\n",
       "<span style=\"color: #008080; text-decoration-color: #008080; font-weight: bold\">2</span>. Take a break from 3pm to <span style=\"color: #00ff00; text-decoration-color: #00ff00; font-weight: bold\">3:30</span>pm to go out and buy cookies.\n",
       "<span style=\"color: #008080; text-decoration-color: #008080; font-weight: bold\">3</span>. Resume studying DSPy course material from <span style=\"color: #00ff00; text-decoration-color: #00ff00; font-weight: bold\">3:30</span>pm to 8pm.\n",
       "<span style=\"color: #008080; text-decoration-color: #008080; font-weight: bold\">4</span>. Sleep at <span style=\"color: #00ff00; text-decoration-color: #00ff00; font-weight: bold\">8:30</span>pm.\n",
       "</pre>\n"
      ],
      "text/plain": [
       "Task: Go out to buy cookies, Done: \u001b[3;92mTrue\u001b[0m, Result: To-Do List:\n",
       "\u001b[1;36m1\u001b[0m. Study DSPy course material from 8am to 3pm.\n",
       "\u001b[1;36m2\u001b[0m. Take a break from 3pm to \u001b[1;92m3:30\u001b[0mpm to go out and buy cookies.\n",
       "\u001b[1;36m3\u001b[0m. Resume studying DSPy course material from \u001b[1;92m3:30\u001b[0mpm to 8pm.\n",
       "\u001b[1;36m4\u001b[0m. Sleep at \u001b[1;92m8:30\u001b[0mpm.\n"
      ]
     },
     "metadata": {},
     "output_type": "display_data"
    },
    {
     "data": {
      "text/html": [
       "<pre style=\"white-space:pre;overflow-x:auto;line-height:normal;font-family:Menlo,'DejaVu Sans Mono',consolas,'Courier New',monospace\">Task: Organize tasks in a to-do list, Done: <span style=\"color: #ff0000; text-decoration-color: #ff0000; font-style: italic\">False</span>, Result: \n",
       "</pre>\n"
      ],
      "text/plain": [
       "Task: Organize tasks in a to-do list, Done: \u001b[3;91mFalse\u001b[0m, Result: \n"
      ]
     },
     "metadata": {},
     "output_type": "display_data"
    },
    {
     "data": {
      "text/html": [
       "<pre style=\"white-space:pre;overflow-x:auto;line-height:normal;font-family:Menlo,'DejaVu Sans Mono',consolas,'Courier New',monospace\">Task: Study DSPy course until <span style=\"color: #008080; text-decoration-color: #008080; font-weight: bold\">3</span> pm, Done: <span style=\"color: #ff0000; text-decoration-color: #ff0000; font-style: italic\">False</span>, Result: \n",
       "</pre>\n"
      ],
      "text/plain": [
       "Task: Study DSPy course until \u001b[1;36m3\u001b[0m pm, Done: \u001b[3;91mFalse\u001b[0m, Result: \n"
      ]
     },
     "metadata": {},
     "output_type": "display_data"
    },
    {
     "data": {
      "text/html": [
       "<pre style=\"white-space:pre;overflow-x:auto;line-height:normal;font-family:Menlo,'DejaVu Sans Mono',consolas,'Courier New',monospace\">Task: Create a to-do list for the day, Done: <span style=\"color: #ff0000; text-decoration-color: #ff0000; font-style: italic\">False</span>, Result: \n",
       "</pre>\n"
      ],
      "text/plain": [
       "Task: Create a to-do list for the day, Done: \u001b[3;91mFalse\u001b[0m, Result: \n"
      ]
     },
     "metadata": {},
     "output_type": "display_data"
    },
    {
     "data": {
      "text/html": [
       "<pre style=\"white-space:pre;overflow-x:auto;line-height:normal;font-family:Menlo,'DejaVu Sans Mono',consolas,'Courier New',monospace\">*****Current Tasks List:*****\n",
       "\n",
       "</pre>\n"
      ],
      "text/plain": [
       "*****Current Tasks List:*****\n",
       "\n"
      ]
     },
     "metadata": {},
     "output_type": "display_data"
    },
    {
     "data": {
      "text/html": [
       "<pre style=\"white-space:pre;overflow-x:auto;line-height:normal;font-family:Menlo,'DejaVu Sans Mono',consolas,'Courier New',monospace\">Task: Complete DSPy course, Done: <span style=\"color: #00ff00; text-decoration-color: #00ff00; font-style: italic\">True</span>, Result: Task: <span style=\"font-weight: bold\">{</span><span style=\"color: #008000; text-decoration-color: #008000\">\"name\"</span>:<span style=\"color: #008000; text-decoration-color: #008000\">\"Complete DSPy course\"</span>,<span style=\"color: #008000; text-decoration-color: #008000\">\"done\"</span>:true,<span style=\"color: #008000; text-decoration-color: #008000\">\"result\"</span>:<span style=\"color: #008000; text-decoration-color: #008000\">\"Finished</span>\n",
       "<span style=\"color: #008000; text-decoration-color: #008000\">the DSPy course by 7:30pm.\"</span><span style=\"font-weight: bold\">}</span>\n",
       "</pre>\n"
      ],
      "text/plain": [
       "Task: Complete DSPy course, Done: \u001b[3;92mTrue\u001b[0m, Result: Task: \u001b[1m{\u001b[0m\u001b[32m\"name\"\u001b[0m:\u001b[32m\"Complete DSPy course\"\u001b[0m,\u001b[32m\"done\"\u001b[0m:true,\u001b[32m\"result\"\u001b[0m:\u001b[32m\"Finished\u001b[0m\n",
       "\u001b[32mthe DSPy course by 7:30pm.\"\u001b[0m\u001b[1m}\u001b[0m\n"
      ]
     },
     "metadata": {},
     "output_type": "display_data"
    },
    {
     "data": {
      "text/html": [
       "<pre style=\"white-space:pre;overflow-x:auto;line-height:normal;font-family:Menlo,'DejaVu Sans Mono',consolas,'Courier New',monospace\">Task: Take a <span style=\"color: #008080; text-decoration-color: #008080; font-weight: bold\">30</span>-minute nap, Done: <span style=\"color: #00ff00; text-decoration-color: #00ff00; font-style: italic\">True</span>, Result: Task: <span style=\"font-weight: bold\">{</span><span style=\"color: #008000; text-decoration-color: #008000\">\"name\"</span>:<span style=\"color: #008000; text-decoration-color: #008000\">\"Finish DSPy course by 8pm\"</span>,<span style=\"color: #008000; text-decoration-color: #008000\">\"done\"</span>:false,<span style=\"color: #008000; text-decoration-color: #008000\">\"result\"</span>:<span style=\"color: #008000; text-decoration-color: #008000\">\"\"</span><span style=\"font-weight: bold\">}</span>\n",
       "\n",
       "Task: <span style=\"font-weight: bold\">{</span><span style=\"color: #008000; text-decoration-color: #008000\">\"name\"</span>:<span style=\"color: #008000; text-decoration-color: #008000\">\"Go out to buy cookies at 3pm\"</span>,<span style=\"color: #008000; text-decoration-color: #008000\">\"done\"</span>:false,<span style=\"color: #008000; text-decoration-color: #008000\">\"result\"</span>:<span style=\"color: #008000; text-decoration-color: #008000\">\"\"</span><span style=\"font-weight: bold\">}</span>\n",
       "\n",
       "Result: The tasks have been organized in the most optimal way.\n",
       "</pre>\n"
      ],
      "text/plain": [
       "Task: Take a \u001b[1;36m30\u001b[0m-minute nap, Done: \u001b[3;92mTrue\u001b[0m, Result: Task: \u001b[1m{\u001b[0m\u001b[32m\"name\"\u001b[0m:\u001b[32m\"Finish DSPy course by 8pm\"\u001b[0m,\u001b[32m\"done\"\u001b[0m:false,\u001b[32m\"result\"\u001b[0m:\u001b[32m\"\"\u001b[0m\u001b[1m}\u001b[0m\n",
       "\n",
       "Task: \u001b[1m{\u001b[0m\u001b[32m\"name\"\u001b[0m:\u001b[32m\"Go out to buy cookies at 3pm\"\u001b[0m,\u001b[32m\"done\"\u001b[0m:false,\u001b[32m\"result\"\u001b[0m:\u001b[32m\"\"\u001b[0m\u001b[1m}\u001b[0m\n",
       "\n",
       "Result: The tasks have been organized in the most optimal way.\n"
      ]
     },
     "metadata": {},
     "output_type": "display_data"
    },
    {
     "data": {
      "text/html": [
       "<pre style=\"white-space:pre;overflow-x:auto;line-height:normal;font-family:Menlo,'DejaVu Sans Mono',consolas,'Courier New',monospace\">Task: Go out to buy cookies, Done: <span style=\"color: #00ff00; text-decoration-color: #00ff00; font-style: italic\">True</span>, Result: To-Do List:\n",
       "<span style=\"color: #008080; text-decoration-color: #008080; font-weight: bold\">1</span>. Study DSPy course material from 8am to 3pm.\n",
       "<span style=\"color: #008080; text-decoration-color: #008080; font-weight: bold\">2</span>. Take a break from 3pm to <span style=\"color: #00ff00; text-decoration-color: #00ff00; font-weight: bold\">3:30</span>pm to go out and buy cookies.\n",
       "<span style=\"color: #008080; text-decoration-color: #008080; font-weight: bold\">3</span>. Resume studying DSPy course material from <span style=\"color: #00ff00; text-decoration-color: #00ff00; font-weight: bold\">3:30</span>pm to 8pm.\n",
       "<span style=\"color: #008080; text-decoration-color: #008080; font-weight: bold\">4</span>. Sleep at <span style=\"color: #00ff00; text-decoration-color: #00ff00; font-weight: bold\">8:30</span>pm.\n",
       "</pre>\n"
      ],
      "text/plain": [
       "Task: Go out to buy cookies, Done: \u001b[3;92mTrue\u001b[0m, Result: To-Do List:\n",
       "\u001b[1;36m1\u001b[0m. Study DSPy course material from 8am to 3pm.\n",
       "\u001b[1;36m2\u001b[0m. Take a break from 3pm to \u001b[1;92m3:30\u001b[0mpm to go out and buy cookies.\n",
       "\u001b[1;36m3\u001b[0m. Resume studying DSPy course material from \u001b[1;92m3:30\u001b[0mpm to 8pm.\n",
       "\u001b[1;36m4\u001b[0m. Sleep at \u001b[1;92m8:30\u001b[0mpm.\n"
      ]
     },
     "metadata": {},
     "output_type": "display_data"
    },
    {
     "data": {
      "text/html": [
       "<pre style=\"white-space:pre;overflow-x:auto;line-height:normal;font-family:Menlo,'DejaVu Sans Mono',consolas,'Courier New',monospace\">Task: Organize tasks in a to-do list, Done: <span style=\"color: #ff0000; text-decoration-color: #ff0000; font-style: italic\">False</span>, Result: \n",
       "</pre>\n"
      ],
      "text/plain": [
       "Task: Organize tasks in a to-do list, Done: \u001b[3;91mFalse\u001b[0m, Result: \n"
      ]
     },
     "metadata": {},
     "output_type": "display_data"
    },
    {
     "data": {
      "text/html": [
       "<pre style=\"white-space:pre;overflow-x:auto;line-height:normal;font-family:Menlo,'DejaVu Sans Mono',consolas,'Courier New',monospace\">Task: Study DSPy course until <span style=\"color: #008080; text-decoration-color: #008080; font-weight: bold\">3</span> pm, Done: <span style=\"color: #ff0000; text-decoration-color: #ff0000; font-style: italic\">False</span>, Result: \n",
       "</pre>\n"
      ],
      "text/plain": [
       "Task: Study DSPy course until \u001b[1;36m3\u001b[0m pm, Done: \u001b[3;91mFalse\u001b[0m, Result: \n"
      ]
     },
     "metadata": {},
     "output_type": "display_data"
    },
    {
     "data": {
      "text/html": [
       "<pre style=\"white-space:pre;overflow-x:auto;line-height:normal;font-family:Menlo,'DejaVu Sans Mono',consolas,'Courier New',monospace\">Task: Create a to-do list for the day, Done: <span style=\"color: #ff0000; text-decoration-color: #ff0000; font-style: italic\">False</span>, Result: \n",
       "</pre>\n"
      ],
      "text/plain": [
       "Task: Create a to-do list for the day, Done: \u001b[3;91mFalse\u001b[0m, Result: \n"
      ]
     },
     "metadata": {},
     "output_type": "display_data"
    },
    {
     "data": {
      "text/html": [
       "<pre style=\"white-space:pre;overflow-x:auto;line-height:normal;font-family:Menlo,'DejaVu Sans Mono',consolas,'Courier New',monospace\">Task: Create a to-do list for the day, Done: <span style=\"color: #ff0000; text-decoration-color: #ff0000; font-style: italic\">False</span>, Result: \n",
       "</pre>\n"
      ],
      "text/plain": [
       "Task: Create a to-do list for the day, Done: \u001b[3;91mFalse\u001b[0m, Result: \n"
      ]
     },
     "metadata": {},
     "output_type": "display_data"
    },
    {
     "data": {
      "text/html": [
       "<pre style=\"white-space:pre;overflow-x:auto;line-height:normal;font-family:Menlo,'DejaVu Sans Mono',consolas,'Courier New',monospace\">*****Current Tasks List:*****\n",
       "\n",
       "</pre>\n"
      ],
      "text/plain": [
       "*****Current Tasks List:*****\n",
       "\n"
      ]
     },
     "metadata": {},
     "output_type": "display_data"
    },
    {
     "data": {
      "text/html": [
       "<pre style=\"white-space:pre;overflow-x:auto;line-height:normal;font-family:Menlo,'DejaVu Sans Mono',consolas,'Courier New',monospace\">Task: Complete DSPy course, Done: <span style=\"color: #00ff00; text-decoration-color: #00ff00; font-style: italic\">True</span>, Result: Task: <span style=\"font-weight: bold\">{</span><span style=\"color: #008000; text-decoration-color: #008000\">\"name\"</span>:<span style=\"color: #008000; text-decoration-color: #008000\">\"Complete DSPy course\"</span>,<span style=\"color: #008000; text-decoration-color: #008000\">\"done\"</span>:true,<span style=\"color: #008000; text-decoration-color: #008000\">\"result\"</span>:<span style=\"color: #008000; text-decoration-color: #008000\">\"Finished</span>\n",
       "<span style=\"color: #008000; text-decoration-color: #008000\">the DSPy course by 7:30pm.\"</span><span style=\"font-weight: bold\">}</span>\n",
       "</pre>\n"
      ],
      "text/plain": [
       "Task: Complete DSPy course, Done: \u001b[3;92mTrue\u001b[0m, Result: Task: \u001b[1m{\u001b[0m\u001b[32m\"name\"\u001b[0m:\u001b[32m\"Complete DSPy course\"\u001b[0m,\u001b[32m\"done\"\u001b[0m:true,\u001b[32m\"result\"\u001b[0m:\u001b[32m\"Finished\u001b[0m\n",
       "\u001b[32mthe DSPy course by 7:30pm.\"\u001b[0m\u001b[1m}\u001b[0m\n"
      ]
     },
     "metadata": {},
     "output_type": "display_data"
    },
    {
     "data": {
      "text/html": [
       "<pre style=\"white-space:pre;overflow-x:auto;line-height:normal;font-family:Menlo,'DejaVu Sans Mono',consolas,'Courier New',monospace\">Task: Take a <span style=\"color: #008080; text-decoration-color: #008080; font-weight: bold\">30</span>-minute nap, Done: <span style=\"color: #00ff00; text-decoration-color: #00ff00; font-style: italic\">True</span>, Result: Task: <span style=\"font-weight: bold\">{</span><span style=\"color: #008000; text-decoration-color: #008000\">\"name\"</span>:<span style=\"color: #008000; text-decoration-color: #008000\">\"Finish DSPy course by 8pm\"</span>,<span style=\"color: #008000; text-decoration-color: #008000\">\"done\"</span>:false,<span style=\"color: #008000; text-decoration-color: #008000\">\"result\"</span>:<span style=\"color: #008000; text-decoration-color: #008000\">\"\"</span><span style=\"font-weight: bold\">}</span>\n",
       "\n",
       "Task: <span style=\"font-weight: bold\">{</span><span style=\"color: #008000; text-decoration-color: #008000\">\"name\"</span>:<span style=\"color: #008000; text-decoration-color: #008000\">\"Go out to buy cookies at 3pm\"</span>,<span style=\"color: #008000; text-decoration-color: #008000\">\"done\"</span>:false,<span style=\"color: #008000; text-decoration-color: #008000\">\"result\"</span>:<span style=\"color: #008000; text-decoration-color: #008000\">\"\"</span><span style=\"font-weight: bold\">}</span>\n",
       "\n",
       "Result: The tasks have been organized in the most optimal way.\n",
       "</pre>\n"
      ],
      "text/plain": [
       "Task: Take a \u001b[1;36m30\u001b[0m-minute nap, Done: \u001b[3;92mTrue\u001b[0m, Result: Task: \u001b[1m{\u001b[0m\u001b[32m\"name\"\u001b[0m:\u001b[32m\"Finish DSPy course by 8pm\"\u001b[0m,\u001b[32m\"done\"\u001b[0m:false,\u001b[32m\"result\"\u001b[0m:\u001b[32m\"\"\u001b[0m\u001b[1m}\u001b[0m\n",
       "\n",
       "Task: \u001b[1m{\u001b[0m\u001b[32m\"name\"\u001b[0m:\u001b[32m\"Go out to buy cookies at 3pm\"\u001b[0m,\u001b[32m\"done\"\u001b[0m:false,\u001b[32m\"result\"\u001b[0m:\u001b[32m\"\"\u001b[0m\u001b[1m}\u001b[0m\n",
       "\n",
       "Result: The tasks have been organized in the most optimal way.\n"
      ]
     },
     "metadata": {},
     "output_type": "display_data"
    },
    {
     "data": {
      "text/html": [
       "<pre style=\"white-space:pre;overflow-x:auto;line-height:normal;font-family:Menlo,'DejaVu Sans Mono',consolas,'Courier New',monospace\">Task: Go out to buy cookies, Done: <span style=\"color: #00ff00; text-decoration-color: #00ff00; font-style: italic\">True</span>, Result: To-Do List:\n",
       "<span style=\"color: #008080; text-decoration-color: #008080; font-weight: bold\">1</span>. Study DSPy course material from 8am to 3pm.\n",
       "<span style=\"color: #008080; text-decoration-color: #008080; font-weight: bold\">2</span>. Take a break from 3pm to <span style=\"color: #00ff00; text-decoration-color: #00ff00; font-weight: bold\">3:30</span>pm to go out and buy cookies.\n",
       "<span style=\"color: #008080; text-decoration-color: #008080; font-weight: bold\">3</span>. Resume studying DSPy course material from <span style=\"color: #00ff00; text-decoration-color: #00ff00; font-weight: bold\">3:30</span>pm to 8pm.\n",
       "<span style=\"color: #008080; text-decoration-color: #008080; font-weight: bold\">4</span>. Sleep at <span style=\"color: #00ff00; text-decoration-color: #00ff00; font-weight: bold\">8:30</span>pm.\n",
       "</pre>\n"
      ],
      "text/plain": [
       "Task: Go out to buy cookies, Done: \u001b[3;92mTrue\u001b[0m, Result: To-Do List:\n",
       "\u001b[1;36m1\u001b[0m. Study DSPy course material from 8am to 3pm.\n",
       "\u001b[1;36m2\u001b[0m. Take a break from 3pm to \u001b[1;92m3:30\u001b[0mpm to go out and buy cookies.\n",
       "\u001b[1;36m3\u001b[0m. Resume studying DSPy course material from \u001b[1;92m3:30\u001b[0mpm to 8pm.\n",
       "\u001b[1;36m4\u001b[0m. Sleep at \u001b[1;92m8:30\u001b[0mpm.\n"
      ]
     },
     "metadata": {},
     "output_type": "display_data"
    },
    {
     "data": {
      "text/html": [
       "<pre style=\"white-space:pre;overflow-x:auto;line-height:normal;font-family:Menlo,'DejaVu Sans Mono',consolas,'Courier New',monospace\">Task: Organize tasks in a to-do list, Done: <span style=\"color: #ff0000; text-decoration-color: #ff0000; font-style: italic\">False</span>, Result: \n",
       "</pre>\n"
      ],
      "text/plain": [
       "Task: Organize tasks in a to-do list, Done: \u001b[3;91mFalse\u001b[0m, Result: \n"
      ]
     },
     "metadata": {},
     "output_type": "display_data"
    },
    {
     "data": {
      "text/html": [
       "<pre style=\"white-space:pre;overflow-x:auto;line-height:normal;font-family:Menlo,'DejaVu Sans Mono',consolas,'Courier New',monospace\">Task: Study DSPy course until <span style=\"color: #008080; text-decoration-color: #008080; font-weight: bold\">3</span> pm, Done: <span style=\"color: #ff0000; text-decoration-color: #ff0000; font-style: italic\">False</span>, Result: \n",
       "</pre>\n"
      ],
      "text/plain": [
       "Task: Study DSPy course until \u001b[1;36m3\u001b[0m pm, Done: \u001b[3;91mFalse\u001b[0m, Result: \n"
      ]
     },
     "metadata": {},
     "output_type": "display_data"
    },
    {
     "data": {
      "text/html": [
       "<pre style=\"white-space:pre;overflow-x:auto;line-height:normal;font-family:Menlo,'DejaVu Sans Mono',consolas,'Courier New',monospace\">Task: Create a to-do list for the day, Done: <span style=\"color: #ff0000; text-decoration-color: #ff0000; font-style: italic\">False</span>, Result: \n",
       "</pre>\n"
      ],
      "text/plain": [
       "Task: Create a to-do list for the day, Done: \u001b[3;91mFalse\u001b[0m, Result: \n"
      ]
     },
     "metadata": {},
     "output_type": "display_data"
    },
    {
     "data": {
      "text/html": [
       "<pre style=\"white-space:pre;overflow-x:auto;line-height:normal;font-family:Menlo,'DejaVu Sans Mono',consolas,'Courier New',monospace\">Task: Create a to-do list for the day, Done: <span style=\"color: #ff0000; text-decoration-color: #ff0000; font-style: italic\">False</span>, Result: \n",
       "</pre>\n"
      ],
      "text/plain": [
       "Task: Create a to-do list for the day, Done: \u001b[3;91mFalse\u001b[0m, Result: \n"
      ]
     },
     "metadata": {},
     "output_type": "display_data"
    },
    {
     "data": {
      "text/html": [
       "<pre style=\"white-space:pre;overflow-x:auto;line-height:normal;font-family:Menlo,'DejaVu Sans Mono',consolas,'Courier New',monospace\">Task: Create a to-do list for the day, Done: <span style=\"color: #ff0000; text-decoration-color: #ff0000; font-style: italic\">False</span>, Result: \n",
       "</pre>\n"
      ],
      "text/plain": [
       "Task: Create a to-do list for the day, Done: \u001b[3;91mFalse\u001b[0m, Result: \n"
      ]
     },
     "metadata": {},
     "output_type": "display_data"
    },
    {
     "data": {
      "text/html": [
       "<pre style=\"white-space:pre;overflow-x:auto;line-height:normal;font-family:Menlo,'DejaVu Sans Mono',consolas,'Courier New',monospace\">*****Current Tasks List:*****\n",
       "\n",
       "</pre>\n"
      ],
      "text/plain": [
       "*****Current Tasks List:*****\n",
       "\n"
      ]
     },
     "metadata": {},
     "output_type": "display_data"
    },
    {
     "data": {
      "text/html": [
       "<pre style=\"white-space:pre;overflow-x:auto;line-height:normal;font-family:Menlo,'DejaVu Sans Mono',consolas,'Courier New',monospace\">Task: Complete DSPy course, Done: <span style=\"color: #00ff00; text-decoration-color: #00ff00; font-style: italic\">True</span>, Result: Task: <span style=\"font-weight: bold\">{</span><span style=\"color: #008000; text-decoration-color: #008000\">\"name\"</span>:<span style=\"color: #008000; text-decoration-color: #008000\">\"Complete DSPy course\"</span>,<span style=\"color: #008000; text-decoration-color: #008000\">\"done\"</span>:true,<span style=\"color: #008000; text-decoration-color: #008000\">\"result\"</span>:<span style=\"color: #008000; text-decoration-color: #008000\">\"Finished</span>\n",
       "<span style=\"color: #008000; text-decoration-color: #008000\">the DSPy course by 7:30pm.\"</span><span style=\"font-weight: bold\">}</span>\n",
       "</pre>\n"
      ],
      "text/plain": [
       "Task: Complete DSPy course, Done: \u001b[3;92mTrue\u001b[0m, Result: Task: \u001b[1m{\u001b[0m\u001b[32m\"name\"\u001b[0m:\u001b[32m\"Complete DSPy course\"\u001b[0m,\u001b[32m\"done\"\u001b[0m:true,\u001b[32m\"result\"\u001b[0m:\u001b[32m\"Finished\u001b[0m\n",
       "\u001b[32mthe DSPy course by 7:30pm.\"\u001b[0m\u001b[1m}\u001b[0m\n"
      ]
     },
     "metadata": {},
     "output_type": "display_data"
    },
    {
     "data": {
      "text/html": [
       "<pre style=\"white-space:pre;overflow-x:auto;line-height:normal;font-family:Menlo,'DejaVu Sans Mono',consolas,'Courier New',monospace\">Task: Take a <span style=\"color: #008080; text-decoration-color: #008080; font-weight: bold\">30</span>-minute nap, Done: <span style=\"color: #00ff00; text-decoration-color: #00ff00; font-style: italic\">True</span>, Result: Task: <span style=\"font-weight: bold\">{</span><span style=\"color: #008000; text-decoration-color: #008000\">\"name\"</span>:<span style=\"color: #008000; text-decoration-color: #008000\">\"Finish DSPy course by 8pm\"</span>,<span style=\"color: #008000; text-decoration-color: #008000\">\"done\"</span>:false,<span style=\"color: #008000; text-decoration-color: #008000\">\"result\"</span>:<span style=\"color: #008000; text-decoration-color: #008000\">\"\"</span><span style=\"font-weight: bold\">}</span>\n",
       "\n",
       "Task: <span style=\"font-weight: bold\">{</span><span style=\"color: #008000; text-decoration-color: #008000\">\"name\"</span>:<span style=\"color: #008000; text-decoration-color: #008000\">\"Go out to buy cookies at 3pm\"</span>,<span style=\"color: #008000; text-decoration-color: #008000\">\"done\"</span>:false,<span style=\"color: #008000; text-decoration-color: #008000\">\"result\"</span>:<span style=\"color: #008000; text-decoration-color: #008000\">\"\"</span><span style=\"font-weight: bold\">}</span>\n",
       "\n",
       "Result: The tasks have been organized in the most optimal way.\n",
       "</pre>\n"
      ],
      "text/plain": [
       "Task: Take a \u001b[1;36m30\u001b[0m-minute nap, Done: \u001b[3;92mTrue\u001b[0m, Result: Task: \u001b[1m{\u001b[0m\u001b[32m\"name\"\u001b[0m:\u001b[32m\"Finish DSPy course by 8pm\"\u001b[0m,\u001b[32m\"done\"\u001b[0m:false,\u001b[32m\"result\"\u001b[0m:\u001b[32m\"\"\u001b[0m\u001b[1m}\u001b[0m\n",
       "\n",
       "Task: \u001b[1m{\u001b[0m\u001b[32m\"name\"\u001b[0m:\u001b[32m\"Go out to buy cookies at 3pm\"\u001b[0m,\u001b[32m\"done\"\u001b[0m:false,\u001b[32m\"result\"\u001b[0m:\u001b[32m\"\"\u001b[0m\u001b[1m}\u001b[0m\n",
       "\n",
       "Result: The tasks have been organized in the most optimal way.\n"
      ]
     },
     "metadata": {},
     "output_type": "display_data"
    },
    {
     "data": {
      "text/html": [
       "<pre style=\"white-space:pre;overflow-x:auto;line-height:normal;font-family:Menlo,'DejaVu Sans Mono',consolas,'Courier New',monospace\">Task: Go out to buy cookies, Done: <span style=\"color: #00ff00; text-decoration-color: #00ff00; font-style: italic\">True</span>, Result: To-Do List:\n",
       "<span style=\"color: #008080; text-decoration-color: #008080; font-weight: bold\">1</span>. Study DSPy course material from 8am to 3pm.\n",
       "<span style=\"color: #008080; text-decoration-color: #008080; font-weight: bold\">2</span>. Take a break from 3pm to <span style=\"color: #00ff00; text-decoration-color: #00ff00; font-weight: bold\">3:30</span>pm to go out and buy cookies.\n",
       "<span style=\"color: #008080; text-decoration-color: #008080; font-weight: bold\">3</span>. Resume studying DSPy course material from <span style=\"color: #00ff00; text-decoration-color: #00ff00; font-weight: bold\">3:30</span>pm to 8pm.\n",
       "<span style=\"color: #008080; text-decoration-color: #008080; font-weight: bold\">4</span>. Sleep at <span style=\"color: #00ff00; text-decoration-color: #00ff00; font-weight: bold\">8:30</span>pm.\n",
       "</pre>\n"
      ],
      "text/plain": [
       "Task: Go out to buy cookies, Done: \u001b[3;92mTrue\u001b[0m, Result: To-Do List:\n",
       "\u001b[1;36m1\u001b[0m. Study DSPy course material from 8am to 3pm.\n",
       "\u001b[1;36m2\u001b[0m. Take a break from 3pm to \u001b[1;92m3:30\u001b[0mpm to go out and buy cookies.\n",
       "\u001b[1;36m3\u001b[0m. Resume studying DSPy course material from \u001b[1;92m3:30\u001b[0mpm to 8pm.\n",
       "\u001b[1;36m4\u001b[0m. Sleep at \u001b[1;92m8:30\u001b[0mpm.\n"
      ]
     },
     "metadata": {},
     "output_type": "display_data"
    },
    {
     "data": {
      "text/html": [
       "<pre style=\"white-space:pre;overflow-x:auto;line-height:normal;font-family:Menlo,'DejaVu Sans Mono',consolas,'Courier New',monospace\">Task: Organize tasks in a to-do list, Done: <span style=\"color: #ff0000; text-decoration-color: #ff0000; font-style: italic\">False</span>, Result: \n",
       "</pre>\n"
      ],
      "text/plain": [
       "Task: Organize tasks in a to-do list, Done: \u001b[3;91mFalse\u001b[0m, Result: \n"
      ]
     },
     "metadata": {},
     "output_type": "display_data"
    },
    {
     "data": {
      "text/html": [
       "<pre style=\"white-space:pre;overflow-x:auto;line-height:normal;font-family:Menlo,'DejaVu Sans Mono',consolas,'Courier New',monospace\">Task: Study DSPy course until <span style=\"color: #008080; text-decoration-color: #008080; font-weight: bold\">3</span> pm, Done: <span style=\"color: #ff0000; text-decoration-color: #ff0000; font-style: italic\">False</span>, Result: \n",
       "</pre>\n"
      ],
      "text/plain": [
       "Task: Study DSPy course until \u001b[1;36m3\u001b[0m pm, Done: \u001b[3;91mFalse\u001b[0m, Result: \n"
      ]
     },
     "metadata": {},
     "output_type": "display_data"
    },
    {
     "data": {
      "text/html": [
       "<pre style=\"white-space:pre;overflow-x:auto;line-height:normal;font-family:Menlo,'DejaVu Sans Mono',consolas,'Courier New',monospace\">Task: Create a to-do list for the day, Done: <span style=\"color: #ff0000; text-decoration-color: #ff0000; font-style: italic\">False</span>, Result: \n",
       "</pre>\n"
      ],
      "text/plain": [
       "Task: Create a to-do list for the day, Done: \u001b[3;91mFalse\u001b[0m, Result: \n"
      ]
     },
     "metadata": {},
     "output_type": "display_data"
    },
    {
     "data": {
      "text/html": [
       "<pre style=\"white-space:pre;overflow-x:auto;line-height:normal;font-family:Menlo,'DejaVu Sans Mono',consolas,'Courier New',monospace\">Task: Create a to-do list for the day, Done: <span style=\"color: #ff0000; text-decoration-color: #ff0000; font-style: italic\">False</span>, Result: \n",
       "</pre>\n"
      ],
      "text/plain": [
       "Task: Create a to-do list for the day, Done: \u001b[3;91mFalse\u001b[0m, Result: \n"
      ]
     },
     "metadata": {},
     "output_type": "display_data"
    },
    {
     "data": {
      "text/html": [
       "<pre style=\"white-space:pre;overflow-x:auto;line-height:normal;font-family:Menlo,'DejaVu Sans Mono',consolas,'Courier New',monospace\">Task: Create a to-do list for the day, Done: <span style=\"color: #ff0000; text-decoration-color: #ff0000; font-style: italic\">False</span>, Result: \n",
       "</pre>\n"
      ],
      "text/plain": [
       "Task: Create a to-do list for the day, Done: \u001b[3;91mFalse\u001b[0m, Result: \n"
      ]
     },
     "metadata": {},
     "output_type": "display_data"
    },
    {
     "data": {
      "text/html": [
       "<pre style=\"white-space:pre;overflow-x:auto;line-height:normal;font-family:Menlo,'DejaVu Sans Mono',consolas,'Courier New',monospace\">Task: Create a to-do list for the day, Done: <span style=\"color: #ff0000; text-decoration-color: #ff0000; font-style: italic\">False</span>, Result: \n",
       "</pre>\n"
      ],
      "text/plain": [
       "Task: Create a to-do list for the day, Done: \u001b[3;91mFalse\u001b[0m, Result: \n"
      ]
     },
     "metadata": {},
     "output_type": "display_data"
    },
    {
     "data": {
      "text/html": [
       "<pre style=\"white-space:pre;overflow-x:auto;line-height:normal;font-family:Menlo,'DejaVu Sans Mono',consolas,'Courier New',monospace\">*****Current Tasks List:*****\n",
       "\n",
       "</pre>\n"
      ],
      "text/plain": [
       "*****Current Tasks List:*****\n",
       "\n"
      ]
     },
     "metadata": {},
     "output_type": "display_data"
    },
    {
     "data": {
      "text/html": [
       "<pre style=\"white-space:pre;overflow-x:auto;line-height:normal;font-family:Menlo,'DejaVu Sans Mono',consolas,'Courier New',monospace\">Task: Complete DSPy course, Done: <span style=\"color: #00ff00; text-decoration-color: #00ff00; font-style: italic\">True</span>, Result: Task: <span style=\"font-weight: bold\">{</span><span style=\"color: #008000; text-decoration-color: #008000\">\"name\"</span>:<span style=\"color: #008000; text-decoration-color: #008000\">\"Complete DSPy course\"</span>,<span style=\"color: #008000; text-decoration-color: #008000\">\"done\"</span>:true,<span style=\"color: #008000; text-decoration-color: #008000\">\"result\"</span>:<span style=\"color: #008000; text-decoration-color: #008000\">\"Finished</span>\n",
       "<span style=\"color: #008000; text-decoration-color: #008000\">the DSPy course by 7:30pm.\"</span><span style=\"font-weight: bold\">}</span>\n",
       "</pre>\n"
      ],
      "text/plain": [
       "Task: Complete DSPy course, Done: \u001b[3;92mTrue\u001b[0m, Result: Task: \u001b[1m{\u001b[0m\u001b[32m\"name\"\u001b[0m:\u001b[32m\"Complete DSPy course\"\u001b[0m,\u001b[32m\"done\"\u001b[0m:true,\u001b[32m\"result\"\u001b[0m:\u001b[32m\"Finished\u001b[0m\n",
       "\u001b[32mthe DSPy course by 7:30pm.\"\u001b[0m\u001b[1m}\u001b[0m\n"
      ]
     },
     "metadata": {},
     "output_type": "display_data"
    },
    {
     "data": {
      "text/html": [
       "<pre style=\"white-space:pre;overflow-x:auto;line-height:normal;font-family:Menlo,'DejaVu Sans Mono',consolas,'Courier New',monospace\">Task: Take a <span style=\"color: #008080; text-decoration-color: #008080; font-weight: bold\">30</span>-minute nap, Done: <span style=\"color: #00ff00; text-decoration-color: #00ff00; font-style: italic\">True</span>, Result: Task: <span style=\"font-weight: bold\">{</span><span style=\"color: #008000; text-decoration-color: #008000\">\"name\"</span>:<span style=\"color: #008000; text-decoration-color: #008000\">\"Finish DSPy course by 8pm\"</span>,<span style=\"color: #008000; text-decoration-color: #008000\">\"done\"</span>:false,<span style=\"color: #008000; text-decoration-color: #008000\">\"result\"</span>:<span style=\"color: #008000; text-decoration-color: #008000\">\"\"</span><span style=\"font-weight: bold\">}</span>\n",
       "\n",
       "Task: <span style=\"font-weight: bold\">{</span><span style=\"color: #008000; text-decoration-color: #008000\">\"name\"</span>:<span style=\"color: #008000; text-decoration-color: #008000\">\"Go out to buy cookies at 3pm\"</span>,<span style=\"color: #008000; text-decoration-color: #008000\">\"done\"</span>:false,<span style=\"color: #008000; text-decoration-color: #008000\">\"result\"</span>:<span style=\"color: #008000; text-decoration-color: #008000\">\"\"</span><span style=\"font-weight: bold\">}</span>\n",
       "\n",
       "Result: The tasks have been organized in the most optimal way.\n",
       "</pre>\n"
      ],
      "text/plain": [
       "Task: Take a \u001b[1;36m30\u001b[0m-minute nap, Done: \u001b[3;92mTrue\u001b[0m, Result: Task: \u001b[1m{\u001b[0m\u001b[32m\"name\"\u001b[0m:\u001b[32m\"Finish DSPy course by 8pm\"\u001b[0m,\u001b[32m\"done\"\u001b[0m:false,\u001b[32m\"result\"\u001b[0m:\u001b[32m\"\"\u001b[0m\u001b[1m}\u001b[0m\n",
       "\n",
       "Task: \u001b[1m{\u001b[0m\u001b[32m\"name\"\u001b[0m:\u001b[32m\"Go out to buy cookies at 3pm\"\u001b[0m,\u001b[32m\"done\"\u001b[0m:false,\u001b[32m\"result\"\u001b[0m:\u001b[32m\"\"\u001b[0m\u001b[1m}\u001b[0m\n",
       "\n",
       "Result: The tasks have been organized in the most optimal way.\n"
      ]
     },
     "metadata": {},
     "output_type": "display_data"
    },
    {
     "data": {
      "text/html": [
       "<pre style=\"white-space:pre;overflow-x:auto;line-height:normal;font-family:Menlo,'DejaVu Sans Mono',consolas,'Courier New',monospace\">Task: Go out to buy cookies, Done: <span style=\"color: #00ff00; text-decoration-color: #00ff00; font-style: italic\">True</span>, Result: To-Do List:\n",
       "<span style=\"color: #008080; text-decoration-color: #008080; font-weight: bold\">1</span>. Study DSPy course material from 8am to 3pm.\n",
       "<span style=\"color: #008080; text-decoration-color: #008080; font-weight: bold\">2</span>. Take a break from 3pm to <span style=\"color: #00ff00; text-decoration-color: #00ff00; font-weight: bold\">3:30</span>pm to go out and buy cookies.\n",
       "<span style=\"color: #008080; text-decoration-color: #008080; font-weight: bold\">3</span>. Resume studying DSPy course material from <span style=\"color: #00ff00; text-decoration-color: #00ff00; font-weight: bold\">3:30</span>pm to 8pm.\n",
       "<span style=\"color: #008080; text-decoration-color: #008080; font-weight: bold\">4</span>. Sleep at <span style=\"color: #00ff00; text-decoration-color: #00ff00; font-weight: bold\">8:30</span>pm.\n",
       "</pre>\n"
      ],
      "text/plain": [
       "Task: Go out to buy cookies, Done: \u001b[3;92mTrue\u001b[0m, Result: To-Do List:\n",
       "\u001b[1;36m1\u001b[0m. Study DSPy course material from 8am to 3pm.\n",
       "\u001b[1;36m2\u001b[0m. Take a break from 3pm to \u001b[1;92m3:30\u001b[0mpm to go out and buy cookies.\n",
       "\u001b[1;36m3\u001b[0m. Resume studying DSPy course material from \u001b[1;92m3:30\u001b[0mpm to 8pm.\n",
       "\u001b[1;36m4\u001b[0m. Sleep at \u001b[1;92m8:30\u001b[0mpm.\n"
      ]
     },
     "metadata": {},
     "output_type": "display_data"
    },
    {
     "data": {
      "text/html": [
       "<pre style=\"white-space:pre;overflow-x:auto;line-height:normal;font-family:Menlo,'DejaVu Sans Mono',consolas,'Courier New',monospace\">Task: Organize tasks in a to-do list, Done: <span style=\"color: #ff0000; text-decoration-color: #ff0000; font-style: italic\">False</span>, Result: \n",
       "</pre>\n"
      ],
      "text/plain": [
       "Task: Organize tasks in a to-do list, Done: \u001b[3;91mFalse\u001b[0m, Result: \n"
      ]
     },
     "metadata": {},
     "output_type": "display_data"
    },
    {
     "data": {
      "text/html": [
       "<pre style=\"white-space:pre;overflow-x:auto;line-height:normal;font-family:Menlo,'DejaVu Sans Mono',consolas,'Courier New',monospace\">Task: Study DSPy course until <span style=\"color: #008080; text-decoration-color: #008080; font-weight: bold\">3</span> pm, Done: <span style=\"color: #ff0000; text-decoration-color: #ff0000; font-style: italic\">False</span>, Result: \n",
       "</pre>\n"
      ],
      "text/plain": [
       "Task: Study DSPy course until \u001b[1;36m3\u001b[0m pm, Done: \u001b[3;91mFalse\u001b[0m, Result: \n"
      ]
     },
     "metadata": {},
     "output_type": "display_data"
    },
    {
     "data": {
      "text/html": [
       "<pre style=\"white-space:pre;overflow-x:auto;line-height:normal;font-family:Menlo,'DejaVu Sans Mono',consolas,'Courier New',monospace\">Task: Create a to-do list for the day, Done: <span style=\"color: #ff0000; text-decoration-color: #ff0000; font-style: italic\">False</span>, Result: \n",
       "</pre>\n"
      ],
      "text/plain": [
       "Task: Create a to-do list for the day, Done: \u001b[3;91mFalse\u001b[0m, Result: \n"
      ]
     },
     "metadata": {},
     "output_type": "display_data"
    },
    {
     "data": {
      "text/html": [
       "<pre style=\"white-space:pre;overflow-x:auto;line-height:normal;font-family:Menlo,'DejaVu Sans Mono',consolas,'Courier New',monospace\">Task: Create a to-do list for the day, Done: <span style=\"color: #ff0000; text-decoration-color: #ff0000; font-style: italic\">False</span>, Result: \n",
       "</pre>\n"
      ],
      "text/plain": [
       "Task: Create a to-do list for the day, Done: \u001b[3;91mFalse\u001b[0m, Result: \n"
      ]
     },
     "metadata": {},
     "output_type": "display_data"
    },
    {
     "data": {
      "text/html": [
       "<pre style=\"white-space:pre;overflow-x:auto;line-height:normal;font-family:Menlo,'DejaVu Sans Mono',consolas,'Courier New',monospace\">Task: Create a to-do list for the day, Done: <span style=\"color: #ff0000; text-decoration-color: #ff0000; font-style: italic\">False</span>, Result: \n",
       "</pre>\n"
      ],
      "text/plain": [
       "Task: Create a to-do list for the day, Done: \u001b[3;91mFalse\u001b[0m, Result: \n"
      ]
     },
     "metadata": {},
     "output_type": "display_data"
    },
    {
     "data": {
      "text/html": [
       "<pre style=\"white-space:pre;overflow-x:auto;line-height:normal;font-family:Menlo,'DejaVu Sans Mono',consolas,'Courier New',monospace\">Task: Create a to-do list for the day, Done: <span style=\"color: #ff0000; text-decoration-color: #ff0000; font-style: italic\">False</span>, Result: \n",
       "</pre>\n"
      ],
      "text/plain": [
       "Task: Create a to-do list for the day, Done: \u001b[3;91mFalse\u001b[0m, Result: \n"
      ]
     },
     "metadata": {},
     "output_type": "display_data"
    },
    {
     "data": {
      "text/html": [
       "<pre style=\"white-space:pre;overflow-x:auto;line-height:normal;font-family:Menlo,'DejaVu Sans Mono',consolas,'Courier New',monospace\">Task: Create a to-do list for the day, Done: <span style=\"color: #ff0000; text-decoration-color: #ff0000; font-style: italic\">False</span>, Result: \n",
       "</pre>\n"
      ],
      "text/plain": [
       "Task: Create a to-do list for the day, Done: \u001b[3;91mFalse\u001b[0m, Result: \n"
      ]
     },
     "metadata": {},
     "output_type": "display_data"
    },
    {
     "data": {
      "text/html": [
       "<pre style=\"white-space:pre;overflow-x:auto;line-height:normal;font-family:Menlo,'DejaVu Sans Mono',consolas,'Courier New',monospace\">\u001b<span style=\"font-weight: bold\">[</span>96m\u001b<span style=\"font-weight: bold\">[</span>1m\n",
       "*****Objective Accomplished!*****\n",
       "\u001b<span style=\"font-weight: bold\">[</span>0m\u001b<span style=\"font-weight: bold\">[</span>0m\n",
       "</pre>\n"
      ],
      "text/plain": [
       "\u001b\u001b[1m[\u001b[0m96m\u001b\u001b[1m[\u001b[0m1m\n",
       "*****Objective Accomplished!*****\n",
       "\u001b\u001b[1m[\u001b[0m0m\u001b\u001b[1m[\u001b[0m0m\n"
      ]
     },
     "metadata": {},
     "output_type": "display_data"
    },
    {
     "data": {
      "text/html": [
       "<pre style=\"white-space:pre;overflow-x:auto;line-height:normal;font-family:Menlo,'DejaVu Sans Mono',consolas,'Courier New',monospace\">Final Result: <span style=\"font-weight: bold\">{</span><span style=\"color: #008000; text-decoration-color: #008000\">\"name\"</span>:<span style=\"color: #008000; text-decoration-color: #008000\">\"Finish DSPy course by 8pm\"</span>,<span style=\"color: #008000; text-decoration-color: #008000\">\"done\"</span>:true,<span style=\"color: #008000; text-decoration-color: #008000\">\"result\"</span>:<span style=\"color: #008000; text-decoration-color: #008000\">\"Course completed by 7:30pm\"</span><span style=\"font-weight: bold\">}</span>\n",
       "</pre>\n"
      ],
      "text/plain": [
       "Final Result: \u001b[1m{\u001b[0m\u001b[32m\"name\"\u001b[0m:\u001b[32m\"Finish DSPy course by 8pm\"\u001b[0m,\u001b[32m\"done\"\u001b[0m:true,\u001b[32m\"result\"\u001b[0m:\u001b[32m\"Course completed by 7:30pm\"\u001b[0m\u001b[1m}\u001b[0m\n"
      ]
     },
     "metadata": {},
     "output_type": "display_data"
    }
   ],
   "source": [
    "class Task(BaseModel):\n",
    "    \"\"\"Class for defining a task to be performed.\"\"\"\n",
    "    name: str = Field(..., description=\"The name of the task to be performed.\")\n",
    "    done: bool = Field(False, description=\"The status of the task. True if the task is done, False otherwise.\")\n",
    "    result: str = Field(\"\", description=\"The result of the task.\")\n",
    "\n",
    "\n",
    "class TaskList(BaseModel):\n",
    "    \"\"\"Class for defining a list of tasks.\"\"\"\n",
    "    tasks: List[Task] = Field([], description=\"A list of tasks to be performed.\")\n",
    "\n",
    "\n",
    "class InitiatorAgentSignature(dspy.Signature):\n",
    "    \"\"\"Given an objetive, generate a list of tasks to accomplish the objetive.\"\"\"\n",
    "    objective: str = dspy.InputField(desc=\"The overall objetive to be accomplish.\")\n",
    "    tasks_list: TaskList = dspy.OutputField(desc=\"A list of tasks to be performed.\")\n",
    "\n",
    "\n",
    "class TaskAgentSignature(dspy.Signature):\n",
    "    \"\"\"Given an objective and a list of tasks, determine if a new task needs to be added to accomplish the objective .\"\"\"\n",
    "    objective: str = dspy.InputField(desc=\"The overall objetive to be accomplish.\")\n",
    "    tasks_list: TaskList = dspy.InputField(desc=\"A list of tasks to be performed.\")\n",
    "    add: bool = dspy.OutputField(desc=\"True if we need to add a new task to satisfy the objective.\")\n",
    "    new_task: Task = dspy.OutputField(desc=\"The new task to be added to the list.\")\n",
    "\n",
    "\n",
    "class ExecutionAgentSignature(dspy.Signature):\n",
    "    \"\"\"Given an objetive and a task, execute the task and provide the result.\"\"\"\n",
    "    objective: str = dspy.InputField(desc=\"The overall objetive to accomplish.\")\n",
    "    task: Task = dspy.InputField(desc=\"The task to be executed.\")\n",
    "    result: str = dspy.OutputField(description=\"The result of the task execution.\")\n",
    "    stop: bool = dspy.OutputField(description=\"True if there is a response to the overall objective and we can stop the process.\")\n",
    "\n",
    "\n",
    "initiator_agent = TypedPredictor(InitiatorAgentSignature)\n",
    "task_agent = TypedPredictor(TaskAgentSignature)\n",
    "execution_agent = TypedPredictor(ExecutionAgentSignature)\n",
    "\n",
    "OBJECTIVE = \"I need to finish this course on DSPy by 8pm, before a want to go sleep at least 30 minutes, at 3 pm i go out to buy some cookies. Organize my day in the most optimal way.\"\n",
    "task_id_counter = 0\n",
    "tasks_list = initiator_agent(objective=OBJECTIVE).tasks_list\n",
    "\n",
    "while True:\n",
    "    print(\"*****Current Tasks List:*****\\n\")\n",
    "    for task in tasks_list.tasks:\n",
    "        print(f\"Task: {task.name}, Done: {task.done}, Result: {task.result}\")\n",
    "\n",
    "    if tasks_list and not task_id_counter:\n",
    "        task_id_counter = len(tasks_list.tasks)-1\n",
    "\n",
    "        for task in tasks_list.tasks:\n",
    "            execution = execution_agent(objective=OBJECTIVE, task=task)\n",
    "            task.result = execution.result\n",
    "            task.done = True\n",
    "            print(f\"Task: {task.name}, Done: {task.done}, Result: {task.result}\")\n",
    "    else:\n",
    "        response = task_agent(objective=OBJECTIVE, tasks_list=tasks_list)\n",
    "        if response.add:\n",
    "            tasks_list.tasks.append(response.new_task)\n",
    "        execution = execution_agent(objective=OBJECTIVE, task=response.new_task)\n",
    "        tasks_list.tasks[task_id_counter].result = execution.result\n",
    "        tasks_list.tasks[task_id_counter].done = True\n",
    "\n",
    "        if execution.stop:\n",
    "            print(\"\\033[96m\\033[1m\"+\"\\n*****Objective Accomplished!*****\\n\"+\"\\033[0m\\033[0m\")\n",
    "            print(f\"Final Result: {tasks_list.tasks[task_id_counter].result}\")\n",
    "            break \n"
   ]
  },
  {
   "cell_type": "markdown",
   "id": "ed9b5a3f",
   "metadata": {},
   "source": [
    "### Generate Data with LangChain then use in DSPy for optimize it"
   ]
  },
  {
   "cell_type": "code",
   "execution_count": 181,
   "id": "19a40980",
   "metadata": {},
   "outputs": [],
   "source": [
    "import dspy\n",
    "from dspy.functional import TypedPredictor\n",
    "from pydantic import BaseModel, Field\n",
    "from typing import List\n",
    "from dotenv import dotenv_values\n",
    "from rich import print\n",
    "\n",
    "secret = dotenv_values('../../.secret')\n",
    "llm  = dspy.OpenAI(\n",
    "    model='gpt-3.5-turbo',\n",
    "    # model='gpt-4',\n",
    "    # model='gpt-4o',\n",
    "    api_key=secret['OPEN_AI_API_KEY'],\n",
    "    max_tokens=4096\n",
    ")\n",
    "\n",
    "dspy.settings.configure(lm=llm)\n",
    "\n",
    "# groq = dspy.GROQ(model='llama3-70b-8192', api_key=secret['GROQ_API_KEY'], max_tokens=2000)\n",
    "# dspy.settings.configure(lm=groq, )"
   ]
  },
  {
   "cell_type": "code",
   "execution_count": 184,
   "id": "68a4102c",
   "metadata": {},
   "outputs": [
    {
     "data": {
      "text/html": [
       "<pre style=\"white-space:pre;overflow-x:auto;line-height:normal;font-family:Menlo,'DejaVu Sans Mono',consolas,'Courier New',monospace\"><span style=\"color: #800080; text-decoration-color: #800080; font-weight: bold\">Prediction</span><span style=\"font-weight: bold\">(</span>\n",
       "    <span style=\"color: #808000; text-decoration-color: #808000\">veracity</span>=<span style=\"color: #008000; text-decoration-color: #008000\">'False'</span>\n",
       "<span style=\"font-weight: bold\">)</span>\n",
       "</pre>\n"
      ],
      "text/plain": [
       "\u001b[1;35mPrediction\u001b[0m\u001b[1m(\u001b[0m\n",
       "    \u001b[33mveracity\u001b[0m=\u001b[32m'False'\u001b[0m\n",
       "\u001b[1m)\u001b[0m\n"
      ]
     },
     "metadata": {},
     "output_type": "display_data"
    }
   ],
   "source": [
    "text = \"Barack Obama was not President of the United States.\"\n",
    "\n",
    "class LieSignature(dspy.Signature):\n",
    "    \"\"\"Given a text, predict the veracity of the text.\"\"\"\n",
    "    text = dspy.InputField(desc=\"Text to be analyzed\")\n",
    "    veracity = dspy.OutputField(desc=\"Veracity of the text, True or False\")\n",
    "\n",
    "lie_detector = dspy.Predict(LieSignature)\n",
    "\n",
    "print(lie_detector(text=text))\n",
    "\n",
    "\n"
   ]
  },
  {
   "cell_type": "code",
   "execution_count": 194,
   "id": "f1c93539",
   "metadata": {},
   "outputs": [
    {
     "data": {
      "text/html": [
       "<pre style=\"white-space:pre;overflow-x:auto;line-height:normal;font-family:Menlo,'DejaVu Sans Mono',consolas,'Courier New',monospace\"><span style=\"font-weight: bold\">[</span>\n",
       "    <span style=\"color: #800080; text-decoration-color: #800080; font-weight: bold\">Example</span><span style=\"font-weight: bold\">({</span><span style=\"color: #008000; text-decoration-color: #008000\">'fact'</span>: <span style=\"color: #008000; text-decoration-color: #008000\">\"The sky appears blue because of the way the Earth's atmosphere scatters sunlight.\"</span>, <span style=\"color: #008000; text-decoration-color: #008000\">'answer'</span>:\n",
       "<span style=\"color: #008000; text-decoration-color: #008000\">'True'</span><span style=\"font-weight: bold\">})</span> <span style=\"font-weight: bold\">(</span><span style=\"color: #808000; text-decoration-color: #808000\">input_keys</span>=<span style=\"color: #800080; text-decoration-color: #800080; font-style: italic\">None</span><span style=\"font-weight: bold\">)</span>,\n",
       "    <span style=\"color: #800080; text-decoration-color: #800080; font-weight: bold\">Example</span><span style=\"font-weight: bold\">({</span><span style=\"color: #008000; text-decoration-color: #008000\">'fact'</span>: <span style=\"color: #008000; text-decoration-color: #008000\">'Charles Darwin proposed the theory of evolution through natural selection.'</span>, <span style=\"color: #008000; text-decoration-color: #008000\">'answer'</span>: \n",
       "<span style=\"color: #008000; text-decoration-color: #008000\">'True'</span><span style=\"font-weight: bold\">})</span> <span style=\"font-weight: bold\">(</span><span style=\"color: #808000; text-decoration-color: #808000\">input_keys</span>=<span style=\"color: #800080; text-decoration-color: #800080; font-style: italic\">None</span><span style=\"font-weight: bold\">)</span>,\n",
       "    <span style=\"color: #800080; text-decoration-color: #800080; font-weight: bold\">Example</span><span style=\"font-weight: bold\">({</span><span style=\"color: #008000; text-decoration-color: #008000\">'fact'</span>: <span style=\"color: #008000; text-decoration-color: #008000\">'Mars is known as the Red Planet due to its reddish appearance.'</span>, <span style=\"color: #008000; text-decoration-color: #008000\">'answer'</span>: <span style=\"color: #008000; text-decoration-color: #008000\">'True'</span><span style=\"font-weight: bold\">})</span> \n",
       "<span style=\"font-weight: bold\">(</span><span style=\"color: #808000; text-decoration-color: #808000\">input_keys</span>=<span style=\"color: #800080; text-decoration-color: #800080; font-style: italic\">None</span><span style=\"font-weight: bold\">)</span>,\n",
       "    <span style=\"color: #800080; text-decoration-color: #800080; font-weight: bold\">Example</span><span style=\"font-weight: bold\">({</span><span style=\"color: #008000; text-decoration-color: #008000\">'fact'</span>: <span style=\"color: #008000; text-decoration-color: #008000\">'The Great Wall of China is visible from space.'</span>, <span style=\"color: #008000; text-decoration-color: #008000\">'answer'</span>: <span style=\"color: #008000; text-decoration-color: #008000\">'False'</span><span style=\"font-weight: bold\">})</span> <span style=\"font-weight: bold\">(</span><span style=\"color: #808000; text-decoration-color: #808000\">input_keys</span>=<span style=\"color: #800080; text-decoration-color: #800080; font-style: italic\">None</span><span style=\"font-weight: bold\">)</span>,\n",
       "    <span style=\"color: #800080; text-decoration-color: #800080; font-weight: bold\">Example</span><span style=\"font-weight: bold\">({</span><span style=\"color: #008000; text-decoration-color: #008000\">'fact'</span>: <span style=\"color: #008000; text-decoration-color: #008000\">'The capital of Canada is Ottawa.'</span>, <span style=\"color: #008000; text-decoration-color: #008000\">'answer'</span>: <span style=\"color: #008000; text-decoration-color: #008000\">'True'</span><span style=\"font-weight: bold\">})</span> <span style=\"font-weight: bold\">(</span><span style=\"color: #808000; text-decoration-color: #808000\">input_keys</span>=<span style=\"color: #800080; text-decoration-color: #800080; font-style: italic\">None</span><span style=\"font-weight: bold\">)</span>,\n",
       "    <span style=\"color: #800080; text-decoration-color: #800080; font-weight: bold\">Example</span><span style=\"font-weight: bold\">({</span><span style=\"color: #008000; text-decoration-color: #008000\">'fact'</span>: <span style=\"color: #008000; text-decoration-color: #008000\">'The Declaration of Independence was signed in 1776.'</span>, <span style=\"color: #008000; text-decoration-color: #008000\">'answer'</span>: <span style=\"color: #008000; text-decoration-color: #008000\">'True'</span><span style=\"font-weight: bold\">})</span> <span style=\"font-weight: bold\">(</span><span style=\"color: #808000; text-decoration-color: #808000\">input_keys</span>=<span style=\"color: #800080; text-decoration-color: #800080; font-style: italic\">None</span><span style=\"font-weight: bold\">)</span>\n",
       "<span style=\"font-weight: bold\">]</span>\n",
       "</pre>\n"
      ],
      "text/plain": [
       "\u001b[1m[\u001b[0m\n",
       "    \u001b[1;35mExample\u001b[0m\u001b[1m(\u001b[0m\u001b[1m{\u001b[0m\u001b[32m'fact'\u001b[0m: \u001b[32m\"The sky appears blue because of the way the Earth's atmosphere scatters sunlight.\"\u001b[0m, \u001b[32m'answer'\u001b[0m:\n",
       "\u001b[32m'True'\u001b[0m\u001b[1m}\u001b[0m\u001b[1m)\u001b[0m \u001b[1m(\u001b[0m\u001b[33minput_keys\u001b[0m=\u001b[3;35mNone\u001b[0m\u001b[1m)\u001b[0m,\n",
       "    \u001b[1;35mExample\u001b[0m\u001b[1m(\u001b[0m\u001b[1m{\u001b[0m\u001b[32m'fact'\u001b[0m: \u001b[32m'Charles Darwin proposed the theory of evolution through natural selection.'\u001b[0m, \u001b[32m'answer'\u001b[0m: \n",
       "\u001b[32m'True'\u001b[0m\u001b[1m}\u001b[0m\u001b[1m)\u001b[0m \u001b[1m(\u001b[0m\u001b[33minput_keys\u001b[0m=\u001b[3;35mNone\u001b[0m\u001b[1m)\u001b[0m,\n",
       "    \u001b[1;35mExample\u001b[0m\u001b[1m(\u001b[0m\u001b[1m{\u001b[0m\u001b[32m'fact'\u001b[0m: \u001b[32m'Mars is known as the Red Planet due to its reddish appearance.'\u001b[0m, \u001b[32m'answer'\u001b[0m: \u001b[32m'True'\u001b[0m\u001b[1m}\u001b[0m\u001b[1m)\u001b[0m \n",
       "\u001b[1m(\u001b[0m\u001b[33minput_keys\u001b[0m=\u001b[3;35mNone\u001b[0m\u001b[1m)\u001b[0m,\n",
       "    \u001b[1;35mExample\u001b[0m\u001b[1m(\u001b[0m\u001b[1m{\u001b[0m\u001b[32m'fact'\u001b[0m: \u001b[32m'The Great Wall of China is visible from space.'\u001b[0m, \u001b[32m'answer'\u001b[0m: \u001b[32m'False'\u001b[0m\u001b[1m}\u001b[0m\u001b[1m)\u001b[0m \u001b[1m(\u001b[0m\u001b[33minput_keys\u001b[0m=\u001b[3;35mNone\u001b[0m\u001b[1m)\u001b[0m,\n",
       "    \u001b[1;35mExample\u001b[0m\u001b[1m(\u001b[0m\u001b[1m{\u001b[0m\u001b[32m'fact'\u001b[0m: \u001b[32m'The capital of Canada is Ottawa.'\u001b[0m, \u001b[32m'answer'\u001b[0m: \u001b[32m'True'\u001b[0m\u001b[1m}\u001b[0m\u001b[1m)\u001b[0m \u001b[1m(\u001b[0m\u001b[33minput_keys\u001b[0m=\u001b[3;35mNone\u001b[0m\u001b[1m)\u001b[0m,\n",
       "    \u001b[1;35mExample\u001b[0m\u001b[1m(\u001b[0m\u001b[1m{\u001b[0m\u001b[32m'fact'\u001b[0m: \u001b[32m'The Declaration of Independence was signed in 1776.'\u001b[0m, \u001b[32m'answer'\u001b[0m: \u001b[32m'True'\u001b[0m\u001b[1m}\u001b[0m\u001b[1m)\u001b[0m \u001b[1m(\u001b[0m\u001b[33minput_keys\u001b[0m=\u001b[3;35mNone\u001b[0m\u001b[1m)\u001b[0m\n",
       "\u001b[1m]\u001b[0m\n"
      ]
     },
     "metadata": {},
     "output_type": "display_data"
    }
   ],
   "source": [
    "from langchain.prompts import PromptTemplate\n",
    "from langchain_core.output_parsers import JsonOutputParser\n",
    "from langchain_core.pydantic_v1 import BaseModel, Field\n",
    "from langchain_openai import ChatOpenAI\n",
    "from dotenv import dotenv_values\n",
    "from rich import print\n",
    "\n",
    "secret = dotenv_values('../../.secret')\n",
    "\n",
    "model = ChatOpenAI(\n",
    "    model=\"gpt-3.5-turbo\",\n",
    "    temperature=1,\n",
    "    api_key=secret['OPEN_AI_API_KEY'],\n",
    ")\n",
    "\n",
    "\n",
    "class Data(BaseModel):\n",
    "    fact: str = Field(..., description=\"A general fact about life or a scientific fact or historical fact.\")\n",
    "    veracity: str = Field(..., description=\"The veracity of the text, True or False.\")\n",
    "\n",
    "\n",
    "parser = JsonOutputParser(pydantic_object=Data)\n",
    "prompt = PromptTemplate(\n",
    "    template=\"Answer the user query.\\n{format_instructions}\\n{query}\\n\",\n",
    "    input_variables=[\"query\"],\n",
    "    partial_variables={\"format_instructions\": parser.get_format_instructions()}\n",
    ")\n",
    "\n",
    "chain = prompt | model | parser\n",
    "\n",
    "data_schema = Data.schema()\n",
    "\n",
    "fact_description = data_schema['properties']['fact']['description']\n",
    "veracity_description = data_schema['properties']['veracity']['description']\n",
    "\n",
    "list_of_facts = []\n",
    "\n",
    "for i in range(6):\n",
    "    prompt = f\"Generate data. Should be different than {list_of_facts}. Answers should be diverse and representative of {veracity_description}. We need the same number of true and false facts.\"\n",
    "    example = chain.invoke({\"query\": prompt})\n",
    "    list_of_facts.append(example)\n",
    "\n",
    "few_shot_examples: List[dspy.Example] = [dspy.Example({'fact': fact['fact'], 'answer': fact['veracity']}) for fact in list_of_facts]\n",
    "\n",
    "print(few_shot_examples)\n"
   ]
  },
  {
   "cell_type": "code",
   "execution_count": 197,
   "metadata": {},
   "outputs": [
    {
     "name": "stderr",
     "output_type": "stream",
     "text": [
      " 83%|████████▎ | 5/6 [00:03<00:00,  1.58it/s]\n"
     ]
    },
    {
     "data": {
      "text/html": [
       "<pre style=\"white-space:pre;overflow-x:auto;line-height:normal;font-family:Menlo,'DejaVu Sans Mono',consolas,'Courier New',monospace\">The statement <span style=\"color: #008000; text-decoration-color: #008000\">'Barack Obama was not President of the United States.'</span> is <span style=\"color: #ff0000; text-decoration-color: #ff0000; font-style: italic\">False</span>.\n",
       "</pre>\n"
      ],
      "text/plain": [
       "The statement \u001b[32m'Barack Obama was not President of the United States.'\u001b[0m is \u001b[3;91mFalse\u001b[0m.\n"
      ]
     },
     "metadata": {},
     "output_type": "display_data"
    }
   ],
   "source": [
    "# Synthetic prompt optimization\n",
    "from dspy.teleprompt import BootstrapFewShot\n",
    "from dspy.evaluate import answer_exact_match\n",
    "\n",
    "trainset = [x.with_inputs(\"fact\") for x in few_shot_examples]\n",
    "\n",
    "class Veracity(dspy.Signature):\n",
    "    \"\"\"Given a fact, predict the veracity of the text.\"\"\"\n",
    "    fact = dspy.InputField(desc=\"Fact to be analyzed.\")\n",
    "    answer = dspy.OutputField(desc=\"Veracity of the text, True or False\")\n",
    "\n",
    "class LieDetector(dspy.Module):\n",
    "    def __init__(self):\n",
    "        super().__init__()\n",
    "        self.lie_predictor = dspy.Predict(Veracity)\n",
    "    \n",
    "    def forward(self, fact: str):\n",
    "        return self.lie_predictor(fact=fact)\n",
    "    \n",
    "\n",
    "teleprompter = BootstrapFewShot(metric=answer_exact_match)\n",
    "compiled_lie_detector = teleprompter.compile(LieDetector(),  trainset=trainset)\n",
    "response = compiled_lie_detector(fact=text)\n",
    "\n",
    "print(f\"The statement '{text}' is {response.answer}.\")\n",
    "\n"
   ]
  },
  {
   "cell_type": "markdown",
   "metadata": {},
   "source": [
    "### Decision-Making AI Agent with DSPy and Finite State Machines"
   ]
  },
  {
   "cell_type": "code",
   "execution_count": 1,
   "metadata": {},
   "outputs": [
    {
     "name": "stderr",
     "output_type": "stream",
     "text": [
      "/Users/beltre.wilton/miniforge3/envs/tars_env/lib/python3.10/site-packages/tqdm/auto.py:21: TqdmWarning: IProgress not found. Please update jupyter and ipywidgets. See https://ipywidgets.readthedocs.io/en/stable/user_install.html\n",
      "  from .autonotebook import tqdm as notebook_tqdm\n"
     ]
    }
   ],
   "source": [
    "import dspy\n",
    "from dspy.functional import TypedPredictor\n",
    "from pydantic import BaseModel, Field\n",
    "from typing import List\n",
    "from transitions import Machine\n",
    "from dotenv import dotenv_values\n",
    "from rich import print\n",
    "\n",
    "secret = dotenv_values('../../.secret')\n",
    "llm  = dspy.OpenAI(\n",
    "    model='gpt-3.5-turbo',\n",
    "    # model='gpt-4',\n",
    "    # model='gpt-4o',\n",
    "    api_key=secret['OPEN_AI_API_KEY'],\n",
    "    max_tokens=4096\n",
    ")\n",
    "\n",
    "dspy.settings.configure(lm=llm)\n",
    "\n",
    "# groq = dspy.GROQ(model='llama3-70b-8192', api_key=secret['GROQ_API_KEY'], max_tokens=2000)\n",
    "# dspy.settings.configure(lm=groq, )\n",
    "\n"
   ]
  },
  {
   "cell_type": "code",
   "execution_count": 2,
   "metadata": {},
   "outputs": [
    {
     "data": {
      "text/html": [
       "<pre style=\"white-space:pre;overflow-x:auto;line-height:normal;font-family:Menlo,'DejaVu Sans Mono',consolas,'Courier New',monospace\">Thinking<span style=\"color: #808000; text-decoration-color: #808000\">...</span>\n",
       "</pre>\n"
      ],
      "text/plain": [
       "Thinking\u001b[33m...\u001b[0m\n"
      ]
     },
     "metadata": {},
     "output_type": "display_data"
    },
    {
     "data": {
      "text/html": [
       "<pre style=\"white-space:pre;overflow-x:auto;line-height:normal;font-family:Menlo,'DejaVu Sans Mono',consolas,'Courier New',monospace\"><span style=\"color: #008080; text-decoration-color: #008080; font-weight: bold\">1</span>. First, find out Barack Obama's age in April <span style=\"color: #008080; text-decoration-color: #008080; font-weight: bold\">2024</span>. To do this, we need to know his current age and add the number\n",
       "of years until April <span style=\"color: #008080; text-decoration-color: #008080; font-weight: bold\">2024</span>.\n",
       "\n",
       "<span style=\"color: #008080; text-decoration-color: #008080; font-weight: bold\">2</span>. Next, find out Michelle Obama's age in April <span style=\"color: #008080; text-decoration-color: #008080; font-weight: bold\">2024</span>. Similarly, we need to know her current age and add the number\n",
       "of years until April <span style=\"color: #008080; text-decoration-color: #008080; font-weight: bold\">2024</span>.\n",
       "\n",
       "<span style=\"color: #008080; text-decoration-color: #008080; font-weight: bold\">3</span>. Then, calculate the sum of Barack and Michelle Obama's ages in April <span style=\"color: #008080; text-decoration-color: #008080; font-weight: bold\">2024</span>.\n",
       "\n",
       "<span style=\"color: #008080; text-decoration-color: #008080; font-weight: bold\">4</span>. Finally, double the sum of their ages to get the final answer.\n",
       "</pre>\n"
      ],
      "text/plain": [
       "\u001b[1;36m1\u001b[0m. First, find out Barack Obama's age in April \u001b[1;36m2024\u001b[0m. To do this, we need to know his current age and add the number\n",
       "of years until April \u001b[1;36m2024\u001b[0m.\n",
       "\n",
       "\u001b[1;36m2\u001b[0m. Next, find out Michelle Obama's age in April \u001b[1;36m2024\u001b[0m. Similarly, we need to know her current age and add the number\n",
       "of years until April \u001b[1;36m2024\u001b[0m.\n",
       "\n",
       "\u001b[1;36m3\u001b[0m. Then, calculate the sum of Barack and Michelle Obama's ages in April \u001b[1;36m2024\u001b[0m.\n",
       "\n",
       "\u001b[1;36m4\u001b[0m. Finally, double the sum of their ages to get the final answer.\n"
      ]
     },
     "metadata": {},
     "output_type": "display_data"
    },
    {
     "data": {
      "text/html": [
       "<pre style=\"white-space:pre;overflow-x:auto;line-height:normal;font-family:Menlo,'DejaVu Sans Mono',consolas,'Courier New',monospace\">Acting<span style=\"color: #808000; text-decoration-color: #808000\">...</span>\n",
       "</pre>\n"
      ],
      "text/plain": [
       "Acting\u001b[33m...\u001b[0m\n"
      ]
     },
     "metadata": {},
     "output_type": "display_data"
    },
    {
     "data": {
      "text/html": [
       "<pre style=\"white-space:pre;overflow-x:auto;line-height:normal;font-family:Menlo,'DejaVu Sans Mono',consolas,'Courier New',monospace\"><span style=\"color: #008080; text-decoration-color: #008080; font-weight: bold\">1</span>. Barack Obama was born on August <span style=\"color: #008080; text-decoration-color: #008080; font-weight: bold\">4</span>, <span style=\"color: #008080; text-decoration-color: #008080; font-weight: bold\">1961</span>. As of April <span style=\"color: #008080; text-decoration-color: #008080; font-weight: bold\">2021</span>, he would be <span style=\"color: #008080; text-decoration-color: #008080; font-weight: bold\">59</span> years old. By April <span style=\"color: #008080; text-decoration-color: #008080; font-weight: bold\">2024</span>, he would be \n",
       "<span style=\"color: #008080; text-decoration-color: #008080; font-weight: bold\">62</span> years old.\n",
       "\n",
       "<span style=\"color: #008080; text-decoration-color: #008080; font-weight: bold\">2</span>. Michelle Obama was born on January <span style=\"color: #008080; text-decoration-color: #008080; font-weight: bold\">17</span>, <span style=\"color: #008080; text-decoration-color: #008080; font-weight: bold\">1964</span>. As of April <span style=\"color: #008080; text-decoration-color: #008080; font-weight: bold\">2021</span>, she would be <span style=\"color: #008080; text-decoration-color: #008080; font-weight: bold\">57</span> years old. By April <span style=\"color: #008080; text-decoration-color: #008080; font-weight: bold\">2024</span>, she \n",
       "would be <span style=\"color: #008080; text-decoration-color: #008080; font-weight: bold\">60</span> years old.\n",
       "\n",
       "<span style=\"color: #008080; text-decoration-color: #008080; font-weight: bold\">3</span>. The sum of Barack and Michelle Obama's ages in April <span style=\"color: #008080; text-decoration-color: #008080; font-weight: bold\">2024</span> would be <span style=\"color: #008080; text-decoration-color: #008080; font-weight: bold\">62</span> + <span style=\"color: #008080; text-decoration-color: #008080; font-weight: bold\">60</span> = <span style=\"color: #008080; text-decoration-color: #008080; font-weight: bold\">122</span>.\n",
       "\n",
       "<span style=\"color: #008080; text-decoration-color: #008080; font-weight: bold\">4</span>. Doubling the sum of their ages, we get <span style=\"color: #008080; text-decoration-color: #008080; font-weight: bold\">122</span> x <span style=\"color: #008080; text-decoration-color: #008080; font-weight: bold\">2</span> = <span style=\"color: #008080; text-decoration-color: #008080; font-weight: bold\">244</span>.\n",
       "\n",
       "Therefore, the double of the sum of Barack Obama and his wife's age in April <span style=\"color: #008080; text-decoration-color: #008080; font-weight: bold\">2024</span> would be <span style=\"color: #008080; text-decoration-color: #008080; font-weight: bold\">244</span>.\n",
       "</pre>\n"
      ],
      "text/plain": [
       "\u001b[1;36m1\u001b[0m. Barack Obama was born on August \u001b[1;36m4\u001b[0m, \u001b[1;36m1961\u001b[0m. As of April \u001b[1;36m2021\u001b[0m, he would be \u001b[1;36m59\u001b[0m years old. By April \u001b[1;36m2024\u001b[0m, he would be \n",
       "\u001b[1;36m62\u001b[0m years old.\n",
       "\n",
       "\u001b[1;36m2\u001b[0m. Michelle Obama was born on January \u001b[1;36m17\u001b[0m, \u001b[1;36m1964\u001b[0m. As of April \u001b[1;36m2021\u001b[0m, she would be \u001b[1;36m57\u001b[0m years old. By April \u001b[1;36m2024\u001b[0m, she \n",
       "would be \u001b[1;36m60\u001b[0m years old.\n",
       "\n",
       "\u001b[1;36m3\u001b[0m. The sum of Barack and Michelle Obama's ages in April \u001b[1;36m2024\u001b[0m would be \u001b[1;36m62\u001b[0m + \u001b[1;36m60\u001b[0m = \u001b[1;36m122\u001b[0m.\n",
       "\n",
       "\u001b[1;36m4\u001b[0m. Doubling the sum of their ages, we get \u001b[1;36m122\u001b[0m x \u001b[1;36m2\u001b[0m = \u001b[1;36m244\u001b[0m.\n",
       "\n",
       "Therefore, the double of the sum of Barack Obama and his wife's age in April \u001b[1;36m2024\u001b[0m would be \u001b[1;36m244\u001b[0m.\n"
      ]
     },
     "metadata": {},
     "output_type": "display_data"
    },
    {
     "data": {
      "text/html": [
       "<pre style=\"white-space:pre;overflow-x:auto;line-height:normal;font-family:Menlo,'DejaVu Sans Mono',consolas,'Courier New',monospace\">Observing<span style=\"color: #808000; text-decoration-color: #808000\">...</span>\n",
       "</pre>\n"
      ],
      "text/plain": [
       "Observing\u001b[33m...\u001b[0m\n"
      ]
     },
     "metadata": {},
     "output_type": "display_data"
    },
    {
     "data": {
      "text/html": [
       "<pre style=\"white-space:pre;overflow-x:auto;line-height:normal;font-family:Menlo,'DejaVu Sans Mono',consolas,'Courier New',monospace\">Overall, the analysis shows that the double of the sum of Barack Obama and his wife's age in April <span style=\"color: #008080; text-decoration-color: #008080; font-weight: bold\">2024</span> would be \n",
       "<span style=\"color: #008080; text-decoration-color: #008080; font-weight: bold\">244</span>. This calculation was based on determining their current ages and adding the number of years until April <span style=\"color: #008080; text-decoration-color: #008080; font-weight: bold\">2024</span>. \n",
       "The final result provides a clear answer to the question posed.\n",
       "</pre>\n"
      ],
      "text/plain": [
       "Overall, the analysis shows that the double of the sum of Barack Obama and his wife's age in April \u001b[1;36m2024\u001b[0m would be \n",
       "\u001b[1;36m244\u001b[0m. This calculation was based on determining their current ages and adding the number of years until April \u001b[1;36m2024\u001b[0m. \n",
       "The final result provides a clear answer to the question posed.\n"
      ]
     },
     "metadata": {},
     "output_type": "display_data"
    },
    {
     "data": {
      "text/html": [
       "<pre style=\"white-space:pre;overflow-x:auto;line-height:normal;font-family:Menlo,'DejaVu Sans Mono',consolas,'Courier New',monospace\">Deciding<span style=\"color: #808000; text-decoration-color: #808000\">...</span>\n",
       "</pre>\n"
      ],
      "text/plain": [
       "Deciding\u001b[33m...\u001b[0m\n"
      ]
     },
     "metadata": {},
     "output_type": "display_data"
    },
    {
     "data": {
      "text/html": [
       "<pre style=\"white-space:pre;overflow-x:auto;line-height:normal;font-family:Menlo,'DejaVu Sans Mono',consolas,'Courier New',monospace\">The final answer is: The final answer is <span style=\"color: #008080; text-decoration-color: #008080; font-weight: bold\">244</span>.\n",
       "</pre>\n"
      ],
      "text/plain": [
       "The final answer is: The final answer is \u001b[1;36m244\u001b[0m.\n"
      ]
     },
     "metadata": {},
     "output_type": "display_data"
    }
   ],
   "source": [
    "class DecisionSignature(dspy.Signature):\n",
    "    input_text = dspy.InputField(desc=\"The input text to be processed\")\n",
    "    rationale = dspy.OutputField(desc=\"The rationale for the decision\")\n",
    "    decision: bool = dspy.OutputField(desc=\"True if the input text contains the final answer, False otherwise\")\n",
    "\n",
    "\n",
    "class Agent(Machine):\n",
    "    def __init__(self, llm, objective=None):\n",
    "        self.llm = llm\n",
    "        self.objective = objective\n",
    "        self.memory = []\n",
    "        states = ['start', 'thought', 'acted', 'observed', 'concluded']\n",
    "        Machine.__init__(self, states=states, initial=\"start\")\n",
    "        self.add_transition('think','start', 'thought')\n",
    "        self.add_transition('act', 'thought', 'acted')\n",
    "        self.add_transition('observe', 'acted', 'observed')\n",
    "        self.add_transition('decide', 'observed', ['start', 'concluded'])\n",
    "\n",
    "    def think(self):\n",
    "        \"\"\"Think about how to correctly answer the objective using the language model.\"\"\"\n",
    "        print(\"Thinking....\")\n",
    "        prompt = \"Think step by step about how to correctly answer this: \" + self.objective\n",
    "        response = self.llm(prompt).pop()\n",
    "        self.memory.append(response)\n",
    "        self.state = 'thought'\n",
    "        print(response)\n",
    "\n",
    "    def act(self):\n",
    "        \"\"\"Act based on the information obtained from thinking.\"\"\"\n",
    "        print(\"Acting...\")\n",
    "        str_memory = ' '.join(self.memory)\n",
    "        prompt = \"Execute the thinking based on the information you have: \" + str_memory\n",
    "        response = self.llm(prompt).pop()\n",
    "        self.memory.append(response)\n",
    "        self.state = 'acted'\n",
    "        print(response)\n",
    "\n",
    "    def observe(self):\n",
    "        \"\"\"Observe the results of the actions taken.\"\"\"\n",
    "        print('Observing....')\n",
    "        str_memory = ' '.join(self.memory)\n",
    "        prompt = \"Analyze the results of your actions: \" + str_memory\n",
    "        response = self.llm(prompt).pop()\n",
    "        self.memory.append(response)\n",
    "        self.state = 'observed'\n",
    "        print(response)\n",
    "\n",
    "    def decide(self):\n",
    "        \"\"\"Decide on the final answer based on the observations.\"\"\"\n",
    "        print('Deciding...')\n",
    "        str_memory = ' '.join(self.memory)\n",
    "        prompt = \"Based on your observations, make decision: \" + str_memory\n",
    "        decision_maker = TypedPredictor(DecisionSignature)\n",
    "        response = decision_maker(input_text=prompt)\n",
    "\n",
    "        if response.decision:\n",
    "            self.state = 'concluded'\n",
    "            final_answer = self.llm(f\"What is the final answer to this: {self.objective}, given this: {str_memory}\").pop()\n",
    "            print(\"The final answer is: \" + final_answer)\n",
    "            return final_answer\n",
    "\n",
    "        self.state = 'start'\n",
    "        self.memory.append(\"Decision not reached because: \" + response.rationale)\n",
    "\n",
    "    def execute(self):\n",
    "        while self.state != 'concluded':\n",
    "            if self.state == 'start':\n",
    "                self.think()\n",
    "            elif self.state == 'thought':\n",
    "                self.act()\n",
    "            elif self.state == 'acted':\n",
    "                self.observe()\n",
    "            elif self.state == 'observed':\n",
    "                self.decide()\n",
    "\n",
    "\n",
    "agent = Agent(llm, objective=\"What is the double of the sum of Barack Obama and his whife's age in april 2024?\")\n",
    "\n",
    "agent.execute()\n"
   ]
  },
  {
   "cell_type": "markdown",
   "metadata": {},
   "source": [
    "#### Sub Examples with State Machine Concept"
   ]
  },
  {
   "cell_type": "code",
   "execution_count": 34,
   "metadata": {},
   "outputs": [],
   "source": [
    "from transitions import Machine\n",
    "import random\n",
    "\n",
    "class NarcolepticSuperhero(object):\n",
    "\n",
    "    # Define some states. Most of the time, narcoleptic superheroes are just like\n",
    "    # everyone else. Except for...\n",
    "    states = ['asleep', 'hanging out', 'hungry', 'sweaty', 'saving the world']\n",
    "\n",
    "    def __init__(self, name):\n",
    "\n",
    "        # No anonymous superheroes on my watch! Every narcoleptic superhero gets\n",
    "        # a name. Any name at all. SleepyMan. SlumberGirl. You get the idea.\n",
    "        self.name = name\n",
    "\n",
    "        # What have we accomplished today?\n",
    "        self.kittens_rescued = 0\n",
    "\n",
    "        # Initialize the state machine\n",
    "        self.machine = Machine(model=self, states=NarcolepticSuperhero.states, initial='asleep')\n",
    "\n",
    "        # Add some transitions. We could also define these using a static list of\n",
    "        # dictionaries, as we did with states above, and then pass the list to\n",
    "        # the Machine initializer as the transitions= argument.\n",
    "\n",
    "        # At some point, every superhero must rise and shine.\n",
    "        self.machine.add_transition(trigger='wake_up', source='asleep', dest='hanging out', after=\"some_func\")\n",
    "\n",
    "        # Superheroes need to keep in shape.\n",
    "        self.machine.add_transition('work_out', 'hanging out', 'hungry')\n",
    "\n",
    "        # Those calories won't replenish themselves!\n",
    "        self.machine.add_transition('eat', 'hungry', 'hanging out')\n",
    "\n",
    "        # Superheroes are always on call. ALWAYS. But they're not always\n",
    "        # dressed in work-appropriate clothing.\n",
    "        self.machine.add_transition('distress_call', '*', 'saving the world',\n",
    "                         before='change_into_super_secret_costume')\n",
    "\n",
    "        # When they get off work, they're all sweaty and disgusting. But before\n",
    "        # they do anything else, they have to meticulously log their latest\n",
    "        # escapades. Because the legal department says so.\n",
    "        self.machine.add_transition('complete_mission', 'saving the world', 'sweaty',\n",
    "                         after='update_journal')\n",
    "\n",
    "        # Sweat is a disorder that can be remedied with water.\n",
    "        # Unless you've had a particularly long day, in which case... bed time!\n",
    "        self.machine.add_transition('clean_up', 'sweaty', 'asleep', conditions=['is_exhausted'])\n",
    "        self.machine.add_transition('clean_up', 'sweaty', 'hanging out')\n",
    "\n",
    "        # Our NarcolepticSuperhero can fall asleep at pretty much any time.\n",
    "        self.machine.add_transition('nap', '*', 'asleep')\n",
    "\n",
    "    def update_journal(self):\n",
    "        \"\"\" Dear Diary, today I saved Mr. Whiskers. Again. \"\"\"\n",
    "        self.kittens_rescued += 1\n",
    "\n",
    "    @property\n",
    "    def is_exhausted(self):\n",
    "        \"\"\" Basically a coin toss. \"\"\"\n",
    "        return random.random() < 0.5\n",
    "\n",
    "    def change_into_super_secret_costume(self):\n",
    "        print(\"Beauty, eh?\")\n",
    "\n",
    "    def some_func(self):\n",
    "        print('Some function here.')\n",
    "        "
   ]
  },
  {
   "cell_type": "code",
   "execution_count": 35,
   "metadata": {},
   "outputs": [
    {
     "data": {
      "text/plain": [
       "'asleep'"
      ]
     },
     "execution_count": 35,
     "metadata": {},
     "output_type": "execute_result"
    }
   ],
   "source": [
    "batman = NarcolepticSuperhero(\"Batman\")\n",
    "batman.state"
   ]
  },
  {
   "cell_type": "code",
   "execution_count": 36,
   "metadata": {},
   "outputs": [
    {
     "name": "stdout",
     "output_type": "stream",
     "text": [
      "Some function here.\n"
     ]
    },
    {
     "data": {
      "text/plain": [
       "'hanging out'"
      ]
     },
     "execution_count": 36,
     "metadata": {},
     "output_type": "execute_result"
    }
   ],
   "source": [
    "batman.wake_up()\n",
    "batman.state"
   ]
  },
  {
   "cell_type": "code",
   "execution_count": 37,
   "metadata": {},
   "outputs": [
    {
     "data": {
      "text/plain": [
       "'asleep'"
      ]
     },
     "execution_count": 37,
     "metadata": {},
     "output_type": "execute_result"
    }
   ],
   "source": [
    "batman.nap()\n",
    "batman.state"
   ]
  },
  {
   "cell_type": "code",
   "execution_count": 38,
   "metadata": {},
   "outputs": [
    {
     "name": "stdout",
     "output_type": "stream",
     "text": [
      "Some function here.\n"
     ]
    },
    {
     "data": {
      "text/plain": [
       "'hungry'"
      ]
     },
     "execution_count": 38,
     "metadata": {},
     "output_type": "execute_result"
    }
   ],
   "source": [
    "batman.wake_up()\n",
    "batman.work_out()\n",
    "batman.state"
   ]
  },
  {
   "cell_type": "code",
   "execution_count": 39,
   "metadata": {},
   "outputs": [
    {
     "name": "stdout",
     "output_type": "stream",
     "text": [
      "Beauty, eh?\n"
     ]
    },
    {
     "data": {
      "text/plain": [
       "'saving the world'"
      ]
     },
     "execution_count": 39,
     "metadata": {},
     "output_type": "execute_result"
    }
   ],
   "source": [
    "batman.distress_call()\n",
    "batman.state"
   ]
  },
  {
   "cell_type": "code",
   "execution_count": 40,
   "metadata": {},
   "outputs": [
    {
     "data": {
      "text/plain": [
       "'sweaty'"
      ]
     },
     "execution_count": 40,
     "metadata": {},
     "output_type": "execute_result"
    }
   ],
   "source": [
    "batman.complete_mission()\n",
    "batman.state"
   ]
  },
  {
   "cell_type": "code",
   "execution_count": 41,
   "metadata": {},
   "outputs": [
    {
     "data": {
      "text/plain": [
       "'asleep'"
      ]
     },
     "execution_count": 41,
     "metadata": {},
     "output_type": "execute_result"
    }
   ],
   "source": [
    "batman.clean_up()\n",
    "batman.state"
   ]
  },
  {
   "cell_type": "markdown",
   "metadata": {},
   "source": [
    "### Lab: Produce key-pair semantic synth-data by stage"
   ]
  },
  {
   "cell_type": "code",
   "execution_count": 44,
   "metadata": {},
   "outputs": [
    {
     "name": "stderr",
     "output_type": "stream",
     "text": [
      "/Users/beltre.wilton/miniforge3/envs/tars_env/lib/python3.10/site-packages/tqdm/auto.py:21: TqdmWarning: IProgress not found. Please update jupyter and ipywidgets. See https://ipywidgets.readthedocs.io/en/stable/user_install.html\n",
      "  from .autonotebook import tqdm as notebook_tqdm\n"
     ]
    }
   ],
   "source": [
    "import dspy\n",
    "from dspy.functional import TypedPredictor\n",
    "from pydantic import BaseModel, Field\n",
    "from typing import List\n",
    "from transitions import Machine\n",
    "from dotenv import dotenv_values\n",
    "from rich import print\n",
    "\n",
    "secret = dotenv_values('../../.secret')\n",
    "llm  = dspy.OpenAI(\n",
    "    model='gpt-3.5-turbo',\n",
    "    # model='gpt-4',\n",
    "    # model='gpt-4o',\n",
    "    api_key=secret['OPEN_AI_API_KEY'],\n",
    "    max_tokens=4096\n",
    ")\n",
    "\n",
    "dspy.settings.configure(lm=llm)\n",
    "\n",
    "# groq = dspy.GROQ(model='llama3-70b-8192', api_key=secret['GROQ_API_KEY'], max_tokens=2000)\n",
    "# dspy.settings.configure(lm=groq, )\n"
   ]
  },
  {
   "cell_type": "code",
   "execution_count": 46,
   "metadata": {},
   "outputs": [
    {
     "data": {
      "text/html": [
       "<pre style=\"white-space:pre;overflow-x:auto;line-height:normal;font-family:Menlo,'DejaVu Sans Mono',consolas,'Courier New',monospace\"><span style=\"color: #800080; text-decoration-color: #800080; font-weight: bold\">Prediction</span><span style=\"font-weight: bold\">(</span>\n",
       "    <span style=\"color: #808000; text-decoration-color: #808000\">rationale</span>=<span style=\"color: #008000; text-decoration-color: #008000\">'Answer: Paris\\nReasoning: Paris is the capital of France.'</span>,\n",
       "    <span style=\"color: #808000; text-decoration-color: #808000\">answer</span>=<span style=\"color: #008000; text-decoration-color: #008000\">'Paris'</span>\n",
       "<span style=\"font-weight: bold\">)</span>\n",
       "</pre>\n"
      ],
      "text/plain": [
       "\u001b[1;35mPrediction\u001b[0m\u001b[1m(\u001b[0m\n",
       "    \u001b[33mrationale\u001b[0m=\u001b[32m'Answer: Paris\\nReasoning: Paris is the capital of France.'\u001b[0m,\n",
       "    \u001b[33manswer\u001b[0m=\u001b[32m'Paris'\u001b[0m\n",
       "\u001b[1m)\u001b[0m\n"
      ]
     },
     "metadata": {},
     "output_type": "display_data"
    },
    {
     "data": {
      "text/plain": [
       "Prediction(\n",
       "    answer='Paris',\n",
       "    reasoning='Answer: Paris\\nReasoning: Paris is the capital of France.'\n",
       ")"
      ]
     },
     "execution_count": 46,
     "metadata": {},
     "output_type": "execute_result"
    }
   ],
   "source": [
    "class CoTSignature(dspy.Signature):\n",
    "    \"\"\"Answer the question and give the reasoning for the same.\"\"\"\n",
    "\n",
    "    question = dspy.InputField(desc=\"question about something\")\n",
    "    answer = dspy.OutputField(desc=\"often between 1 and 5 words\")\n",
    "\n",
    "class CoTPipeline(dspy.Module):\n",
    "    def __init__(self):\n",
    "        super().__init__()\n",
    "\n",
    "        self.signature = CoTSignature\n",
    "        self.predictor = dspy.ChainOfThought(self.signature)\n",
    "\n",
    "    def forward(self, question):\n",
    "        result = self.predictor(question=question)\n",
    "        print(result)\n",
    "        return dspy.Prediction(\n",
    "            answer=result.answer,\n",
    "            reasoning=result.rationale,\n",
    "        )\n",
    "    \n",
    "\n",
    "cot = CoTPipeline()\n",
    "cot(question=\"What is the capital of Paris?\")"
   ]
  },
  {
   "cell_type": "code",
   "execution_count": null,
   "metadata": {},
   "outputs": [],
   "source": []
  }
 ],
 "metadata": {
  "kernelspec": {
   "display_name": "Python 3 (ipykernel)",
   "language": "python",
   "name": "python3"
  },
  "language_info": {
   "codemirror_mode": {
    "name": "ipython",
    "version": 3
   },
   "file_extension": ".py",
   "mimetype": "text/x-python",
   "name": "python",
   "nbconvert_exporter": "python",
   "pygments_lexer": "ipython3",
   "version": "3.10.14"
  }
 },
 "nbformat": 4,
 "nbformat_minor": 5
}
